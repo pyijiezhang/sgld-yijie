{
 "cells": [
  {
   "cell_type": "code",
   "execution_count": 1,
   "metadata": {},
   "outputs": [],
   "source": [
    "import tensorflow as tf\n",
    "config = tf.compat.v1.ConfigProto()\n",
    "config.gpu_options.allow_growth = True\n",
    "session = tf.compat.v1.Session(config=config)"
   ]
  },
  {
   "cell_type": "code",
   "execution_count": 2,
   "metadata": {},
   "outputs": [],
   "source": [
    "import os\n",
    "import sys\n",
    "from jax.config import config\n",
    "import haiku as hk\n",
    "import jax\n",
    "from jax import numpy as jnp\n",
    "import numpy as onp\n",
    "import time\n",
    "from jax.experimental.callback import rewrite\n",
    "import tqdm\n",
    "import copy\n",
    "import tqdm\n",
    "\n",
    "from bnn_hmc.utils import data_utils\n",
    "from bnn_hmc.utils import models\n",
    "from bnn_hmc.utils import losses\n",
    "from bnn_hmc.utils import checkpoint_utils\n",
    "from bnn_hmc.utils import cmd_args_utils\n",
    "from bnn_hmc.utils import logging_utils\n",
    "from bnn_hmc.utils import train_utils\n",
    "from bnn_hmc.utils import tree_utils\n",
    "from bnn_hmc.utils import precision_utils\n",
    "from bnn_hmc.utils import optim_utils\n",
    "from bnn_hmc.utils import script_utils\n",
    "import sklearn.datasets\n",
    "import cmocean\n",
    "\n",
    "import optax\n",
    "import functools\n",
    "\n",
    "from matplotlib import pyplot as plt\n",
    "\n",
    "%matplotlib inline\n",
    "%load_ext autoreload\n",
    "%autoreload 2"
   ]
  },
  {
   "cell_type": "code",
   "execution_count": 3,
   "metadata": {},
   "outputs": [],
   "source": [
    "def twospirals(n_samples, noise=.5, random_state=920):\n",
    "    \"\"\"\n",
    "     Returns the two spirals dataset.\n",
    "    \"\"\"\n",
    "    onp.random.seed(random_state)\n",
    "    \n",
    "    n = onp.sqrt(onp.random.rand(n_samples,1)) * 600 * (2*onp.pi)/360\n",
    "    d1x = -1.5*onp.cos(n)*n + onp.random.randn(n_samples,1) * noise\n",
    "    d1y =  1.5*onp.sin(n)*n + onp.random.randn(n_samples,1) * noise\n",
    "    return (onp.vstack((onp.hstack((d1x,d1y)), onp.hstack((-d1x,-d1y)))),\n",
    "            onp.hstack((onp.zeros(n_samples), onp.ones(n_samples))))\n",
    "\n",
    "x, y = twospirals(n_samples=200, noise=0.6, random_state=920)\n",
    "# x, y = twospirals(n_samples=100, noise=0.5, random_state=920)\n",
    "# mask = onp.logical_and(x[:, 0] < 0.5, x[:, 0] > -0.5)\n",
    "\n",
    "mask = (onp.linalg.norm(x, axis=-1) > 13)\n",
    "y[mask] = 1 - y[mask]\n",
    "\n",
    "# noise_level = 0.1\n",
    "# idx = onp.arange(len(x))\n",
    "# onp.random.shuffle(idx)\n",
    "# flip_idx = idx[:int(noise_level * len(x))]\n",
    "# y[flip_idx] = 1 - y[flip_idx]\n",
    "\n",
    "mask = onp.logical_and(x[:, 0] < 0.5, x[:, 1] < 0)\n",
    "x, y = x[mask], y[mask]\n",
    "x = onp.concatenate([x, -x, x * onp.array([[1., -1]]), x * onp.array([[-1., 1]])])\n",
    "y = onp.concatenate([y, y, y, y])"
   ]
  },
  {
   "cell_type": "code",
   "execution_count": 4,
   "metadata": {
    "scrolled": true
   },
   "outputs": [
    {
     "data": {
      "text/plain": [
       "[<matplotlib.lines.Line2D at 0x7f9cb8c3adf0>]"
      ]
     },
     "execution_count": 4,
     "metadata": {},
     "output_type": "execute_result"
    },
    {
     "data": {
      "image/png": "[encoded data removed]",
      "text/plain": [
       "<Figure size 432x288 with 1 Axes>"
      ]
     },
     "metadata": {
      "needs_background": "light"
     },
     "output_type": "display_data"
    }
   ],
   "source": [
    "plt.plot(x[:, 0][y == 0], x[:, 1][y == 0], \"bo\")\n",
    "plt.plot(x[:, 0][y == 1], x[:, 1][y == 1], \"ro\")"
   ]
  },
  {
   "cell_type": "code",
   "execution_count": 5,
   "metadata": {},
   "outputs": [],
   "source": [
    "idx = onp.arange(len(x))\n",
    "onp.random.shuffle(idx)\n",
    "n_train = int(len(x) * 0.8)\n",
    "train_idx = idx[:n_train]\n",
    "test_idx = idx[n_train:]"
   ]
  },
  {
   "cell_type": "code",
   "execution_count": 6,
   "metadata": {},
   "outputs": [],
   "source": [
    "num_devices = len(jax.devices())\n",
    "train_set = (x[train_idx], y[train_idx])\n",
    "test_set = (x[test_idx], y[test_idx])\n",
    "train_set = data_utils.pmap_dataset(train_set, num_devices)\n",
    "test_set = data_utils.pmap_dataset(test_set, num_devices)"
   ]
  },
  {
   "cell_type": "code",
   "execution_count": 7,
   "metadata": {},
   "outputs": [],
   "source": [
    "data_info = {\"num_classes\": 2}\n",
    "net_fn = models.make_mlp_classification(data_info, layer_dims=[100, 100, 100])\n",
    "net = hk.transform_with_state(net_fn)\n",
    "net_apply, net_init = net.apply, net.init\n",
    "net_apply = precision_utils.rewrite_high_precision(net_apply)"
   ]
  },
  {
   "cell_type": "markdown",
   "metadata": {},
   "source": [
    "## Prior and likelihood"
   ]
  },
  {
   "cell_type": "code",
   "execution_count": 8,
   "metadata": {},
   "outputs": [],
   "source": [
    "prior_std = 1000.\n",
    "weight_decay = 1 / prior_std**2\n",
    "\n",
    "task = data_utils.Task(\"classification\")\n",
    "(likelihood_factory, predict_fn, ensemble_upd_fn, _,_) = train_utils.get_task_specific_fns(task, data_info)\n",
    "log_prior_fn, log_prior_diff_fn = (\n",
    "    losses.make_gaussian_log_prior(weight_decay, 1.))\n",
    "log_likelihood_fn = losses.make_xent_log_likelihood(1.)"
   ]
  },
  {
   "cell_type": "markdown",
   "metadata": {},
   "source": [
    "## SGD"
   ]
  },
  {
   "cell_type": "code",
   "execution_count": 9,
   "metadata": {},
   "outputs": [],
   "source": [
    "total_steps = 10000\n",
    "init_lr = 1.e-4\n",
    "momentum_decay = 0.\n",
    "\n",
    "lr_schedule = optim_utils.make_cosine_lr_schedule(\n",
    "    init_lr, total_steps)\n",
    "optimizer = optim_utils.make_sgd_optimizer(\n",
    "    lr_schedule, momentum_decay=momentum_decay)"
   ]
  },
  {
   "cell_type": "code",
   "execution_count": 108,
   "metadata": {},
   "outputs": [],
   "source": [
    "key = jax.random.PRNGKey(0)\n",
    "param_seed = 0\n",
    "\n",
    "params, net_state = net.init(jax.random.PRNGKey(param_seed), (train_set[0][0, :1], None), True)\n",
    "net_state = jax.pmap(lambda _: net_state)(jnp.arange(num_devices))\n",
    "opt_state = optimizer.init(params)\n",
    "key = jax.random.split(key, num_devices)"
   ]
  },
  {
   "cell_type": "code",
   "execution_count": 72,
   "metadata": {},
   "outputs": [],
   "source": [
    "sgd_train_epoch = script_utils.time_fn(train_utils.make_sgd_train_epoch(\n",
    "    net_apply, log_likelihood_fn, log_prior_fn, optimizer, 1))"
   ]
  },
  {
   "cell_type": "code",
   "execution_count": 73,
   "metadata": {},
   "outputs": [
    {
     "name": "stderr",
     "output_type": "stream",
     "text": [
      "  1%|          | 52/10000 [00:00<01:44, 94.91it/s] "
     ]
    },
    {
     "name": "stdout",
     "output_type": "stream",
     "text": [
      "161973.86\n"
     ]
    },
    {
     "name": "stderr",
     "output_type": "stream",
     "text": [
      " 11%|█         | 1072/10000 [00:02<00:17, 516.15it/s]"
     ]
    },
    {
     "name": "stdout",
     "output_type": "stream",
     "text": [
      "161983.22\n"
     ]
    },
    {
     "name": "stderr",
     "output_type": "stream",
     "text": [
      " 21%|██        | 2070/10000 [00:04<00:15, 518.30it/s]"
     ]
    },
    {
     "name": "stdout",
     "output_type": "stream",
     "text": [
      "161986.1\n"
     ]
    },
    {
     "name": "stderr",
     "output_type": "stream",
     "text": [
      " 31%|███       | 3087/10000 [00:06<00:12, 539.26it/s]"
     ]
    },
    {
     "name": "stdout",
     "output_type": "stream",
     "text": [
      "161988.86\n"
     ]
    },
    {
     "name": "stderr",
     "output_type": "stream",
     "text": [
      " 41%|████      | 4106/10000 [00:08<00:11, 524.34it/s]"
     ]
    },
    {
     "name": "stdout",
     "output_type": "stream",
     "text": [
      "161991.52\n"
     ]
    },
    {
     "name": "stderr",
     "output_type": "stream",
     "text": [
      " 51%|█████     | 5082/10000 [00:10<00:09, 527.07it/s]"
     ]
    },
    {
     "name": "stdout",
     "output_type": "stream",
     "text": [
      "161993.67\n"
     ]
    },
    {
     "name": "stderr",
     "output_type": "stream",
     "text": [
      " 61%|██████    | 6052/10000 [00:12<00:08, 482.49it/s]"
     ]
    },
    {
     "name": "stdout",
     "output_type": "stream",
     "text": [
      "161995.06\n"
     ]
    },
    {
     "name": "stderr",
     "output_type": "stream",
     "text": [
      " 71%|███████   | 7098/10000 [00:14<00:05, 499.27it/s]"
     ]
    },
    {
     "name": "stdout",
     "output_type": "stream",
     "text": [
      "161995.86\n"
     ]
    },
    {
     "name": "stderr",
     "output_type": "stream",
     "text": [
      " 81%|████████  | 8059/10000 [00:16<00:03, 531.10it/s]"
     ]
    },
    {
     "name": "stdout",
     "output_type": "stream",
     "text": [
      "161996.3\n"
     ]
    },
    {
     "name": "stderr",
     "output_type": "stream",
     "text": [
      " 91%|█████████ | 9068/10000 [00:18<00:01, 508.58it/s]"
     ]
    },
    {
     "name": "stdout",
     "output_type": "stream",
     "text": [
      "161996.45\n"
     ]
    },
    {
     "name": "stderr",
     "output_type": "stream",
     "text": [
      "100%|██████████| 10000/10000 [00:20<00:00, 492.38it/s]\n"
     ]
    }
   ],
   "source": [
    "for iteration in tqdm.tqdm(range(0, total_steps)):\n",
    "\n",
    "    (params, net_state, opt_state, logprob_avg, key), iteration_time = (\n",
    "      sgd_train_epoch(params, net_state, opt_state, train_set, key))\n",
    "    if iteration % 1000 == 0:\n",
    "        print(logprob_avg)"
   ]
  },
  {
   "cell_type": "code",
   "execution_count": 74,
   "metadata": {},
   "outputs": [
    {
     "data": {
      "text/plain": [
       "DeviceArray(0.6818182, dtype=float32)"
      ]
     },
     "execution_count": 74,
     "metadata": {},
     "output_type": "execute_result"
    }
   ],
   "source": [
    "_, test_preds = predict_fn(net_apply, params, net_state, test_set)\n",
    "(jnp.argmax(test_preds[0], axis=-1) == test_set[1][0]).mean()"
   ]
  },
  {
   "cell_type": "code",
   "execution_count": 75,
   "metadata": {},
   "outputs": [
    {
     "data": {
      "text/plain": [
       "DeviceArray(0.8255814, dtype=float32)"
      ]
     },
     "execution_count": 75,
     "metadata": {},
     "output_type": "execute_result"
    }
   ],
   "source": [
    "_, train_preds = predict_fn(net_apply, params, net_state, train_set)\n",
    "(jnp.argmax(train_preds[0], axis=-1) == train_set[1][0]).mean()"
   ]
  },
  {
   "cell_type": "code",
   "execution_count": 10,
   "metadata": {},
   "outputs": [],
   "source": [
    "grid_d1 = onp.linspace(-15, 15, 50)\n",
    "grid_d2 = onp.linspace(-15, 15, 50)\n",
    "\n",
    "grid_d1, grid_d2 = onp.meshgrid(grid_d1, grid_d2)\n",
    "grid = onp.stack([grid_d1.reshape(-1), grid_d2.reshape(-1)]).T\n",
    "grid_set = (grid[None, :], None)"
   ]
  },
  {
   "cell_type": "code",
   "execution_count": 10,
   "metadata": {},
   "outputs": [
    {
     "ename": "NameError",
     "evalue": "name 'params' is not defined",
     "output_type": "error",
     "traceback": [
      "\u001b[0;31m---------------------------------------------------------------------------\u001b[0m",
      "\u001b[0;31mNameError\u001b[0m                                 Traceback (most recent call last)",
      "\u001b[0;32m<ipython-input-10-cbc454d16da3>\u001b[0m in \u001b[0;36m<module>\u001b[0;34m\u001b[0m\n\u001b[0;32m----> 1\u001b[0;31m \u001b[0m_\u001b[0m\u001b[0;34m,\u001b[0m \u001b[0mgrid_probs\u001b[0m \u001b[0;34m=\u001b[0m \u001b[0mpredict_fn\u001b[0m\u001b[0;34m(\u001b[0m\u001b[0mnet_apply\u001b[0m\u001b[0;34m,\u001b[0m \u001b[0mparams\u001b[0m\u001b[0;34m,\u001b[0m \u001b[0mnet_state\u001b[0m\u001b[0;34m,\u001b[0m \u001b[0mgrid_set\u001b[0m\u001b[0;34m)\u001b[0m\u001b[0;34m\u001b[0m\u001b[0;34m\u001b[0m\u001b[0m\n\u001b[0m\u001b[1;32m      2\u001b[0m \u001b[0mgrid_preds\u001b[0m \u001b[0;34m=\u001b[0m \u001b[0mjnp\u001b[0m\u001b[0;34m.\u001b[0m\u001b[0margmax\u001b[0m\u001b[0;34m(\u001b[0m\u001b[0mgrid_probs\u001b[0m\u001b[0;34m[\u001b[0m\u001b[0;36m0\u001b[0m\u001b[0;34m]\u001b[0m\u001b[0;34m,\u001b[0m \u001b[0maxis\u001b[0m\u001b[0;34m=\u001b[0m\u001b[0;34m-\u001b[0m\u001b[0;36m1\u001b[0m\u001b[0;34m)\u001b[0m\u001b[0;34m\u001b[0m\u001b[0;34m\u001b[0m\u001b[0m\n\u001b[1;32m      3\u001b[0m \u001b[0mgrid_confs\u001b[0m \u001b[0;34m=\u001b[0m \u001b[0mjnp\u001b[0m\u001b[0;34m.\u001b[0m\u001b[0mmax\u001b[0m\u001b[0;34m(\u001b[0m\u001b[0mgrid_probs\u001b[0m\u001b[0;34m[\u001b[0m\u001b[0;36m0\u001b[0m\u001b[0;34m]\u001b[0m\u001b[0;34m,\u001b[0m \u001b[0maxis\u001b[0m\u001b[0;34m=\u001b[0m\u001b[0;34m-\u001b[0m\u001b[0;36m1\u001b[0m\u001b[0;34m)\u001b[0m\u001b[0;34m\u001b[0m\u001b[0;34m\u001b[0m\u001b[0m\n",
      "\u001b[0;31mNameError\u001b[0m: name 'params' is not defined"
     ]
    }
   ],
   "source": [
    "_, grid_probs = predict_fn(net_apply, params, net_state, grid_set)\n",
    "grid_preds = jnp.argmax(grid_probs[0], axis=-1)\n",
    "grid_confs = jnp.max(grid_probs[0], axis=-1)"
   ]
  },
  {
   "cell_type": "code",
   "execution_count": 78,
   "metadata": {},
   "outputs": [
    {
     "data": {
      "text/plain": [
       "[<matplotlib.lines.Line2D at 0x7f01962de970>]"
      ]
     },
     "execution_count": 78,
     "metadata": {},
     "output_type": "execute_result"
    },
    {
     "data": {
      "image/png": "[encoded data removed]",
      "text/plain": [
       "<Figure size 432x288 with 1 Axes>"
      ]
     },
     "metadata": {
      "needs_background": "light"
     },
     "output_type": "display_data"
    }
   ],
   "source": [
    "# plt.imshow(grid_preds.reshape((20, 20)))\n",
    "levels = onp.linspace(0., 1., 21)\n",
    "\n",
    "plt.contourf(\n",
    "    grid_d1, grid_d2, grid_preds.reshape((50, 50)),\n",
    "    vmin=0., vmax=1., levels=levels, cmap=cmocean.cm.deep,\n",
    "    alpha=0.5#cmap=cmocean.cm.thermal\n",
    ")\n",
    "class_1 = (train_set[1][0] == 1)\n",
    "class_0 = jnp.logical_not(class_1)\n",
    "plt.plot(train_set[0][0, :, 0][class_1], train_set[0][0, :, 1][class_1], \"ro\", ms=10, mec=\"k\")\n",
    "plt.plot(train_set[0][0, :, 0][class_0], train_set[0][0, :, 1][class_0], \"mo\", ms=10, mec=\"k\")\n",
    "\n",
    "class_1 = (test_set[1][0] == 1)\n",
    "class_0 = jnp.logical_not(class_1)\n",
    "plt.plot(test_set[0][0, :, 0][class_1], test_set[0][0, :, 1][class_1], \"rs\", ms=10, mec=\"k\")\n",
    "plt.plot(test_set[0][0, :, 0][class_0], test_set[0][0, :, 1][class_0], \"ms\", ms=10, mec=\"k\")"
   ]
  },
  {
   "cell_type": "markdown",
   "metadata": {},
   "source": [
    "## HMC"
   ]
  },
  {
   "cell_type": "code",
   "execution_count": 21,
   "metadata": {},
   "outputs": [],
   "source": [
    "temperature = .4\n",
    "prior_std = .3\n",
    "weight_decay = 1 / prior_std**2\n",
    "\n",
    "\n",
    "task = data_utils.Task(\"classification\")\n",
    "(likelihood_factory, predict_fn, ensemble_upd_fn, _,_) = train_utils.get_task_specific_fns(task, data_info)\n",
    "log_prior_fn, log_prior_diff_fn = (\n",
    "    losses.make_gaussian_log_prior(weight_decay, 1.))\n",
    "log_likelihood_fn = losses.make_xent_log_likelihood(temperature)"
   ]
  },
  {
   "cell_type": "code",
   "execution_count": 22,
   "metadata": {},
   "outputs": [
    {
     "data": {
      "text/plain": [
       "11.11111111111111"
      ]
     },
     "execution_count": 22,
     "metadata": {},
     "output_type": "execute_result"
    }
   ],
   "source": [
    "weight_decay"
   ]
  },
  {
   "cell_type": "code",
   "execution_count": 23,
   "metadata": {},
   "outputs": [
    {
     "name": "stdout",
     "output_type": "stream",
     "text": [
      "Leapfrog steps per iteration: 157080\n"
     ]
    }
   ],
   "source": [
    "step_size = 3e-6\n",
    "trajectory_len = jnp.pi / 2 / jnp.sqrt(weight_decay)\n",
    "max_num_leapfrog_steps = int(trajectory_len // step_size + 1)\n",
    "print(\"Leapfrog steps per iteration:\", max_num_leapfrog_steps)"
   ]
  },
  {
   "cell_type": "code",
   "execution_count": 24,
   "metadata": {},
   "outputs": [],
   "source": [
    "key = jax.random.PRNGKey(0)\n",
    "param_seed = 0\n",
    "\n",
    "params, net_state = net.init(jax.random.PRNGKey(param_seed), (train_set[0][0, :1], None), True)\n",
    "net_state = jax.pmap(lambda _: net_state)(jnp.arange(num_devices))"
   ]
  },
  {
   "cell_type": "code",
   "execution_count": 25,
   "metadata": {},
   "outputs": [],
   "source": [
    "update, get_log_prob_and_grad = train_utils.make_hmc_update(\n",
    "    net_apply, log_likelihood_fn, log_prior_fn, log_prior_diff_fn,\n",
    "    max_num_leapfrog_steps, 1., 0.)"
   ]
  },
  {
   "cell_type": "code",
   "execution_count": 26,
   "metadata": {},
   "outputs": [],
   "source": [
    "# Initial log-prob and grad values\n",
    "log_prob, state_grad, log_likelihood, net_state = (\n",
    "    get_log_prob_and_grad(train_set, params, net_state))"
   ]
  },
  {
   "cell_type": "code",
   "execution_count": 27,
   "metadata": {
    "scrolled": false
   },
   "outputs": [
    {
     "name": "stderr",
     "output_type": "stream",
     "text": [
      "  0%|          | 0/100 [00:00<?, ?it/s]/home/pavel/anaconda3/envs/py38/lib/python3.8/site-packages/numpy/core/_asarray.py:83: VisibleDeprecationWarning: Creating an ndarray from ragged nested sequences (which is a list-or-tuple of lists-or-tuples-or ndarrays with different lengths or shapes) is deprecated. If you meant to do this, you must specify 'dtype=object' when creating the ndarray\n",
      "  return array(a, dtype, copy=False, order=order)\n",
      "  1%|          | 1/100 [00:37<1:01:40, 37.38s/it]"
     ]
    },
    {
     "name": "stdout",
     "output_type": "stream",
     "text": [
      "It: 0 \t Accept P: 1.0 \t Accepted True \t Log-likelihood: -375.12139892578125\n"
     ]
    },
    {
     "name": "stderr",
     "output_type": "stream",
     "text": [
      "\r",
      "  2%|▏         | 2/100 [01:14<1:00:52, 37.27s/it]"
     ]
    },
    {
     "name": "stdout",
     "output_type": "stream",
     "text": [
      "It: 1 \t Accept P: 0.999786376953125 \t Accepted True \t Log-likelihood: -268.5409851074219\n"
     ]
    },
    {
     "name": "stderr",
     "output_type": "stream",
     "text": [
      "\r",
      "  3%|▎         | 3/100 [01:51<1:00:11, 37.23s/it]"
     ]
    },
    {
     "name": "stdout",
     "output_type": "stream",
     "text": [
      "It: 2 \t Accept P: 0.9723736643791199 \t Accepted True \t Log-likelihood: -273.6896057128906\n"
     ]
    },
    {
     "name": "stderr",
     "output_type": "stream",
     "text": [
      "\r",
      "  4%|▍         | 4/100 [02:29<59:35, 37.25s/it]  "
     ]
    },
    {
     "name": "stdout",
     "output_type": "stream",
     "text": [
      "It: 3 \t Accept P: 0.990659773349762 \t Accepted True \t Log-likelihood: -251.60423278808594\n"
     ]
    },
    {
     "name": "stderr",
     "output_type": "stream",
     "text": [
      "\r",
      "  5%|▌         | 5/100 [03:06<59:09, 37.36s/it]"
     ]
    },
    {
     "name": "stdout",
     "output_type": "stream",
     "text": [
      "It: 4 \t Accept P: 1.0 \t Accepted True \t Log-likelihood: -182.77377319335938\n"
     ]
    },
    {
     "name": "stderr",
     "output_type": "stream",
     "text": [
      "\r",
      "  6%|▌         | 6/100 [03:44<58:42, 37.47s/it]"
     ]
    },
    {
     "name": "stdout",
     "output_type": "stream",
     "text": [
      "It: 5 \t Accept P: 0.9496602416038513 \t Accepted True \t Log-likelihood: -78.3099365234375\n"
     ]
    },
    {
     "name": "stderr",
     "output_type": "stream",
     "text": [
      "\r",
      "  7%|▋         | 7/100 [04:21<58:09, 37.52s/it]"
     ]
    },
    {
     "name": "stdout",
     "output_type": "stream",
     "text": [
      "It: 6 \t Accept P: 0.9995194673538208 \t Accepted True \t Log-likelihood: -99.34532165527344\n"
     ]
    },
    {
     "name": "stderr",
     "output_type": "stream",
     "text": [
      "\r",
      "  8%|▊         | 8/100 [04:59<57:36, 37.58s/it]"
     ]
    },
    {
     "name": "stdout",
     "output_type": "stream",
     "text": [
      "It: 7 \t Accept P: 1.0 \t Accepted True \t Log-likelihood: -90.63621520996094\n"
     ]
    },
    {
     "name": "stderr",
     "output_type": "stream",
     "text": [
      "\r",
      "  9%|▉         | 9/100 [05:37<57:01, 37.60s/it]"
     ]
    },
    {
     "name": "stdout",
     "output_type": "stream",
     "text": [
      "It: 8 \t Accept P: 1.0 \t Accepted True \t Log-likelihood: -92.30635070800781\n"
     ]
    },
    {
     "name": "stderr",
     "output_type": "stream",
     "text": [
      "\r",
      " 10%|█         | 10/100 [06:14<56:25, 37.62s/it]"
     ]
    },
    {
     "name": "stdout",
     "output_type": "stream",
     "text": [
      "It: 9 \t Accept P: 0.9998812079429626 \t Accepted True \t Log-likelihood: -77.40057373046875\n"
     ]
    },
    {
     "name": "stderr",
     "output_type": "stream",
     "text": [
      "\r",
      " 11%|█         | 11/100 [06:52<55:50, 37.65s/it]"
     ]
    },
    {
     "name": "stdout",
     "output_type": "stream",
     "text": [
      "It: 10 \t Accept P: 1.0 \t Accepted True \t Log-likelihood: -85.75374603271484\n"
     ]
    },
    {
     "name": "stderr",
     "output_type": "stream",
     "text": [
      "\r",
      " 12%|█▏        | 12/100 [07:30<55:14, 37.66s/it]"
     ]
    },
    {
     "name": "stdout",
     "output_type": "stream",
     "text": [
      "It: 11 \t Accept P: 1.0 \t Accepted True \t Log-likelihood: -78.45793151855469\n"
     ]
    },
    {
     "name": "stderr",
     "output_type": "stream",
     "text": [
      "\r",
      " 13%|█▎        | 13/100 [08:08<54:37, 37.68s/it]"
     ]
    },
    {
     "name": "stdout",
     "output_type": "stream",
     "text": [
      "It: 12 \t Accept P: 1.0 \t Accepted True \t Log-likelihood: -85.23095703125\n"
     ]
    },
    {
     "name": "stderr",
     "output_type": "stream",
     "text": [
      "\r",
      " 14%|█▍        | 14/100 [08:45<53:59, 37.67s/it]"
     ]
    },
    {
     "name": "stdout",
     "output_type": "stream",
     "text": [
      "It: 13 \t Accept P: 0.9395062327384949 \t Accepted True \t Log-likelihood: -82.79560852050781\n"
     ]
    },
    {
     "name": "stderr",
     "output_type": "stream",
     "text": [
      "\r",
      " 15%|█▌        | 15/100 [09:23<53:21, 37.66s/it]"
     ]
    },
    {
     "name": "stdout",
     "output_type": "stream",
     "text": [
      "It: 14 \t Accept P: 1.0 \t Accepted True \t Log-likelihood: -91.81605529785156\n"
     ]
    },
    {
     "name": "stderr",
     "output_type": "stream",
     "text": [
      "\r",
      " 16%|█▌        | 16/100 [10:00<52:42, 37.65s/it]"
     ]
    },
    {
     "name": "stdout",
     "output_type": "stream",
     "text": [
      "It: 15 \t Accept P: 0.9865829944610596 \t Accepted True \t Log-likelihood: -67.81454467773438\n"
     ]
    },
    {
     "name": "stderr",
     "output_type": "stream",
     "text": [
      "\r",
      " 17%|█▋        | 17/100 [10:38<52:04, 37.64s/it]"
     ]
    },
    {
     "name": "stdout",
     "output_type": "stream",
     "text": [
      "It: 16 \t Accept P: 0.9922103881835938 \t Accepted True \t Log-likelihood: -97.49090576171875\n"
     ]
    },
    {
     "name": "stderr",
     "output_type": "stream",
     "text": [
      "\r",
      " 18%|█▊        | 18/100 [11:16<51:28, 37.66s/it]"
     ]
    },
    {
     "name": "stdout",
     "output_type": "stream",
     "text": [
      "It: 17 \t Accept P: 0.984872043132782 \t Accepted True \t Log-likelihood: -71.52014923095703\n"
     ]
    },
    {
     "name": "stderr",
     "output_type": "stream",
     "text": [
      "\r",
      " 19%|█▉        | 19/100 [11:54<50:53, 37.70s/it]"
     ]
    },
    {
     "name": "stdout",
     "output_type": "stream",
     "text": [
      "It: 18 \t Accept P: 1.0 \t Accepted True \t Log-likelihood: -112.32965087890625\n"
     ]
    },
    {
     "name": "stderr",
     "output_type": "stream",
     "text": [
      "\r",
      " 20%|██        | 20/100 [12:31<50:13, 37.67s/it]"
     ]
    },
    {
     "name": "stdout",
     "output_type": "stream",
     "text": [
      "It: 19 \t Accept P: 1.0 \t Accepted True \t Log-likelihood: -83.76341247558594\n"
     ]
    },
    {
     "name": "stderr",
     "output_type": "stream",
     "text": [
      "\r",
      " 21%|██        | 21/100 [13:09<49:36, 37.67s/it]"
     ]
    },
    {
     "name": "stdout",
     "output_type": "stream",
     "text": [
      "It: 20 \t Accept P: 0.9611331224441528 \t Accepted True \t Log-likelihood: -88.01704406738281\n"
     ]
    },
    {
     "name": "stderr",
     "output_type": "stream",
     "text": [
      "\r",
      " 22%|██▏       | 22/100 [13:46<48:56, 37.65s/it]"
     ]
    },
    {
     "name": "stdout",
     "output_type": "stream",
     "text": [
      "It: 21 \t Accept P: 1.0 \t Accepted True \t Log-likelihood: -72.35910034179688\n"
     ]
    },
    {
     "name": "stderr",
     "output_type": "stream",
     "text": [
      "\r",
      " 23%|██▎       | 23/100 [14:24<48:19, 37.66s/it]"
     ]
    },
    {
     "name": "stdout",
     "output_type": "stream",
     "text": [
      "It: 22 \t Accept P: 1.0 \t Accepted True \t Log-likelihood: -85.302490234375\n"
     ]
    },
    {
     "name": "stderr",
     "output_type": "stream",
     "text": [
      "\r",
      " 24%|██▍       | 24/100 [15:02<47:42, 37.67s/it]"
     ]
    },
    {
     "name": "stdout",
     "output_type": "stream",
     "text": [
      "It: 23 \t Accept P: 1.0 \t Accepted True \t Log-likelihood: -82.65736389160156\n"
     ]
    },
    {
     "name": "stderr",
     "output_type": "stream",
     "text": [
      "\r",
      " 25%|██▌       | 25/100 [15:39<47:05, 37.68s/it]"
     ]
    },
    {
     "name": "stdout",
     "output_type": "stream",
     "text": [
      "It: 24 \t Accept P: 0.9613531827926636 \t Accepted True \t Log-likelihood: -105.56181335449219\n"
     ]
    },
    {
     "name": "stderr",
     "output_type": "stream",
     "text": [
      "\r",
      " 26%|██▌       | 26/100 [16:17<46:29, 37.69s/it]"
     ]
    },
    {
     "name": "stdout",
     "output_type": "stream",
     "text": [
      "It: 25 \t Accept P: 1.0 \t Accepted True \t Log-likelihood: -82.4526138305664\n"
     ]
    },
    {
     "name": "stderr",
     "output_type": "stream",
     "text": [
      "\r",
      " 27%|██▋       | 27/100 [16:55<45:52, 37.71s/it]"
     ]
    },
    {
     "name": "stdout",
     "output_type": "stream",
     "text": [
      "It: 26 \t Accept P: 0.9888927340507507 \t Accepted True \t Log-likelihood: -93.53069305419922\n"
     ]
    },
    {
     "name": "stderr",
     "output_type": "stream",
     "text": [
      "\r",
      " 28%|██▊       | 28/100 [17:33<45:14, 37.71s/it]"
     ]
    },
    {
     "name": "stdout",
     "output_type": "stream",
     "text": [
      "It: 27 \t Accept P: 1.0 \t Accepted True \t Log-likelihood: -76.93266296386719\n"
     ]
    },
    {
     "name": "stderr",
     "output_type": "stream",
     "text": [
      "\r",
      " 29%|██▉       | 29/100 [18:10<44:37, 37.71s/it]"
     ]
    },
    {
     "name": "stdout",
     "output_type": "stream",
     "text": [
      "It: 28 \t Accept P: 0.9996339082717896 \t Accepted True \t Log-likelihood: -87.65196228027344\n"
     ]
    },
    {
     "name": "stderr",
     "output_type": "stream",
     "text": [
      "\r",
      " 30%|███       | 30/100 [18:48<43:58, 37.69s/it]"
     ]
    },
    {
     "name": "stdout",
     "output_type": "stream",
     "text": [
      "It: 29 \t Accept P: 0.9684054255485535 \t Accepted True \t Log-likelihood: -86.856201171875\n"
     ]
    },
    {
     "name": "stderr",
     "output_type": "stream",
     "text": [
      "\r",
      " 31%|███       | 31/100 [19:26<43:23, 37.73s/it]"
     ]
    },
    {
     "name": "stdout",
     "output_type": "stream",
     "text": [
      "It: 30 \t Accept P: 1.0 \t Accepted True \t Log-likelihood: -87.95834350585938\n"
     ]
    },
    {
     "name": "stderr",
     "output_type": "stream",
     "text": [
      "\r",
      " 32%|███▏      | 32/100 [20:04<42:44, 37.72s/it]"
     ]
    },
    {
     "name": "stdout",
     "output_type": "stream",
     "text": [
      "It: 31 \t Accept P: 0.9446669220924377 \t Accepted True \t Log-likelihood: -89.80543518066406\n"
     ]
    },
    {
     "name": "stderr",
     "output_type": "stream",
     "text": [
      "\r",
      " 33%|███▎      | 33/100 [20:41<42:05, 37.69s/it]"
     ]
    },
    {
     "name": "stdout",
     "output_type": "stream",
     "text": [
      "It: 32 \t Accept P: 1.0 \t Accepted True \t Log-likelihood: -80.07658386230469\n"
     ]
    },
    {
     "name": "stderr",
     "output_type": "stream",
     "text": [
      "\r",
      " 34%|███▍      | 34/100 [21:19<41:29, 37.72s/it]"
     ]
    },
    {
     "name": "stdout",
     "output_type": "stream",
     "text": [
      "It: 33 \t Accept P: 1.0 \t Accepted True \t Log-likelihood: -81.31730651855469\n"
     ]
    },
    {
     "name": "stderr",
     "output_type": "stream",
     "text": [
      "\r",
      " 35%|███▌      | 35/100 [21:57<40:51, 37.72s/it]"
     ]
    },
    {
     "name": "stdout",
     "output_type": "stream",
     "text": [
      "It: 34 \t Accept P: 1.0 \t Accepted True \t Log-likelihood: -96.44093322753906\n"
     ]
    },
    {
     "name": "stderr",
     "output_type": "stream",
     "text": [
      "\r",
      " 36%|███▌      | 36/100 [22:34<40:12, 37.70s/it]"
     ]
    },
    {
     "name": "stdout",
     "output_type": "stream",
     "text": [
      "It: 35 \t Accept P: 1.0 \t Accepted True \t Log-likelihood: -104.65365600585938\n"
     ]
    },
    {
     "name": "stderr",
     "output_type": "stream",
     "text": [
      "\r",
      " 37%|███▋      | 37/100 [23:12<39:32, 37.66s/it]"
     ]
    },
    {
     "name": "stdout",
     "output_type": "stream",
     "text": [
      "It: 36 \t Accept P: 0.9376659393310547 \t Accepted True \t Log-likelihood: -76.94036865234375\n"
     ]
    },
    {
     "name": "stderr",
     "output_type": "stream",
     "text": [
      "\r",
      " 38%|███▊      | 38/100 [23:50<38:55, 37.67s/it]"
     ]
    },
    {
     "name": "stdout",
     "output_type": "stream",
     "text": [
      "It: 37 \t Accept P: 0.9939150810241699 \t Accepted True \t Log-likelihood: -85.89128112792969\n"
     ]
    },
    {
     "name": "stderr",
     "output_type": "stream",
     "text": [
      "\r",
      " 39%|███▉      | 39/100 [24:27<38:17, 37.67s/it]"
     ]
    },
    {
     "name": "stdout",
     "output_type": "stream",
     "text": [
      "It: 38 \t Accept P: 1.0 \t Accepted True \t Log-likelihood: -84.01210021972656\n"
     ]
    },
    {
     "name": "stderr",
     "output_type": "stream",
     "text": [
      "\r",
      " 40%|████      | 40/100 [25:05<37:40, 37.67s/it]"
     ]
    },
    {
     "name": "stdout",
     "output_type": "stream",
     "text": [
      "It: 39 \t Accept P: 0.9514878392219543 \t Accepted True \t Log-likelihood: -90.98957824707031\n"
     ]
    },
    {
     "name": "stderr",
     "output_type": "stream",
     "text": [
      "\r",
      " 41%|████      | 41/100 [25:43<37:01, 37.66s/it]"
     ]
    },
    {
     "name": "stdout",
     "output_type": "stream",
     "text": [
      "It: 40 \t Accept P: 0.9756656289100647 \t Accepted True \t Log-likelihood: -102.4819107055664\n"
     ]
    },
    {
     "name": "stderr",
     "output_type": "stream",
     "text": [
      "\r",
      " 42%|████▏     | 42/100 [26:20<36:24, 37.67s/it]"
     ]
    },
    {
     "name": "stdout",
     "output_type": "stream",
     "text": [
      "It: 41 \t Accept P: 1.0 \t Accepted True \t Log-likelihood: -84.4572525024414\n"
     ]
    },
    {
     "name": "stderr",
     "output_type": "stream",
     "text": [
      "\r",
      " 43%|████▎     | 43/100 [26:58<35:46, 37.66s/it]"
     ]
    },
    {
     "name": "stdout",
     "output_type": "stream",
     "text": [
      "It: 42 \t Accept P: 0.9893907904624939 \t Accepted True \t Log-likelihood: -89.4866943359375\n"
     ]
    },
    {
     "name": "stderr",
     "output_type": "stream",
     "text": [
      "\r",
      " 44%|████▍     | 44/100 [27:36<35:08, 37.65s/it]"
     ]
    },
    {
     "name": "stdout",
     "output_type": "stream",
     "text": [
      "It: 43 \t Accept P: 0.9926344156265259 \t Accepted True \t Log-likelihood: -90.27384948730469\n"
     ]
    },
    {
     "name": "stderr",
     "output_type": "stream",
     "text": [
      "\r",
      " 45%|████▌     | 45/100 [28:13<34:34, 37.71s/it]"
     ]
    },
    {
     "name": "stdout",
     "output_type": "stream",
     "text": [
      "It: 44 \t Accept P: 0.9967151880264282 \t Accepted True \t Log-likelihood: -97.04885864257812\n"
     ]
    },
    {
     "name": "stderr",
     "output_type": "stream",
     "text": [
      "\r",
      " 46%|████▌     | 46/100 [28:51<33:55, 37.70s/it]"
     ]
    },
    {
     "name": "stdout",
     "output_type": "stream",
     "text": [
      "It: 45 \t Accept P: 1.0 \t Accepted True \t Log-likelihood: -81.16203308105469\n"
     ]
    },
    {
     "name": "stderr",
     "output_type": "stream",
     "text": [
      "\r",
      " 47%|████▋     | 47/100 [29:29<33:17, 37.69s/it]"
     ]
    },
    {
     "name": "stdout",
     "output_type": "stream",
     "text": [
      "It: 46 \t Accept P: 0.9850373864173889 \t Accepted True \t Log-likelihood: -90.8458023071289\n"
     ]
    },
    {
     "name": "stderr",
     "output_type": "stream",
     "text": [
      "\r",
      " 48%|████▊     | 48/100 [30:06<32:39, 37.68s/it]"
     ]
    },
    {
     "name": "stdout",
     "output_type": "stream",
     "text": [
      "It: 47 \t Accept P: 0.9878143668174744 \t Accepted True \t Log-likelihood: -90.82688903808594\n"
     ]
    },
    {
     "name": "stderr",
     "output_type": "stream",
     "text": [
      "\r",
      " 49%|████▉     | 49/100 [30:44<32:01, 37.67s/it]"
     ]
    },
    {
     "name": "stdout",
     "output_type": "stream",
     "text": [
      "It: 48 \t Accept P: 1.0 \t Accepted True \t Log-likelihood: -86.19317626953125\n"
     ]
    },
    {
     "name": "stderr",
     "output_type": "stream",
     "text": [
      "\r",
      " 50%|█████     | 50/100 [31:22<31:23, 37.66s/it]"
     ]
    },
    {
     "name": "stdout",
     "output_type": "stream",
     "text": [
      "It: 49 \t Accept P: 1.0 \t Accepted True \t Log-likelihood: -101.07374572753906\n"
     ]
    },
    {
     "name": "stderr",
     "output_type": "stream",
     "text": [
      "\r",
      " 51%|█████     | 51/100 [32:00<30:48, 37.73s/it]"
     ]
    },
    {
     "name": "stdout",
     "output_type": "stream",
     "text": [
      "It: 50 \t Accept P: 0.9963749647140503 \t Accepted True \t Log-likelihood: -84.17041015625\n"
     ]
    },
    {
     "name": "stderr",
     "output_type": "stream",
     "text": [
      "\r",
      " 52%|█████▏    | 52/100 [32:37<30:09, 37.71s/it]"
     ]
    },
    {
     "name": "stdout",
     "output_type": "stream",
     "text": [
      "It: 51 \t Accept P: 1.0 \t Accepted True \t Log-likelihood: -82.32398986816406\n"
     ]
    },
    {
     "name": "stderr",
     "output_type": "stream",
     "text": [
      "\r",
      " 53%|█████▎    | 53/100 [33:15<29:31, 37.69s/it]"
     ]
    },
    {
     "name": "stdout",
     "output_type": "stream",
     "text": [
      "It: 52 \t Accept P: 1.0 \t Accepted True \t Log-likelihood: -83.62814331054688\n"
     ]
    },
    {
     "name": "stderr",
     "output_type": "stream",
     "text": [
      "\r",
      " 54%|█████▍    | 54/100 [33:53<28:53, 37.69s/it]"
     ]
    },
    {
     "name": "stdout",
     "output_type": "stream",
     "text": [
      "It: 53 \t Accept P: 1.0 \t Accepted True \t Log-likelihood: -77.1656723022461\n"
     ]
    },
    {
     "name": "stderr",
     "output_type": "stream",
     "text": [
      "\r",
      " 55%|█████▌    | 55/100 [34:30<28:15, 37.69s/it]"
     ]
    },
    {
     "name": "stdout",
     "output_type": "stream",
     "text": [
      "It: 54 \t Accept P: 0.9694883227348328 \t Accepted True \t Log-likelihood: -101.37884521484375\n"
     ]
    },
    {
     "name": "stderr",
     "output_type": "stream",
     "text": [
      "\r",
      " 56%|█████▌    | 56/100 [35:08<27:38, 37.68s/it]"
     ]
    },
    {
     "name": "stdout",
     "output_type": "stream",
     "text": [
      "It: 55 \t Accept P: 0.9907806515693665 \t Accepted True \t Log-likelihood: -78.26625061035156\n"
     ]
    },
    {
     "name": "stderr",
     "output_type": "stream",
     "text": [
      "\r",
      " 57%|█████▋    | 57/100 [35:46<27:00, 37.69s/it]"
     ]
    },
    {
     "name": "stdout",
     "output_type": "stream",
     "text": [
      "It: 56 \t Accept P: 1.0 \t Accepted True \t Log-likelihood: -77.80561828613281\n"
     ]
    },
    {
     "name": "stderr",
     "output_type": "stream",
     "text": [
      "\r",
      " 58%|█████▊    | 58/100 [36:23<26:23, 37.69s/it]"
     ]
    },
    {
     "name": "stdout",
     "output_type": "stream",
     "text": [
      "It: 57 \t Accept P: 1.0 \t Accepted True \t Log-likelihood: -96.40715026855469\n"
     ]
    },
    {
     "name": "stderr",
     "output_type": "stream",
     "text": [
      "\r",
      " 59%|█████▉    | 59/100 [37:01<25:45, 37.70s/it]"
     ]
    },
    {
     "name": "stdout",
     "output_type": "stream",
     "text": [
      "It: 58 \t Accept P: 1.0 \t Accepted True \t Log-likelihood: -106.10137939453125\n"
     ]
    },
    {
     "name": "stderr",
     "output_type": "stream",
     "text": [
      "\r",
      " 60%|██████    | 60/100 [37:39<25:07, 37.68s/it]"
     ]
    },
    {
     "name": "stdout",
     "output_type": "stream",
     "text": [
      "It: 59 \t Accept P: 0.9711281061172485 \t Accepted True \t Log-likelihood: -80.9138412475586\n"
     ]
    },
    {
     "name": "stderr",
     "output_type": "stream",
     "text": [
      "\r",
      " 61%|██████    | 61/100 [38:16<24:29, 37.68s/it]"
     ]
    },
    {
     "name": "stdout",
     "output_type": "stream",
     "text": [
      "It: 60 \t Accept P: 1.0 \t Accepted True \t Log-likelihood: -85.95521545410156\n"
     ]
    },
    {
     "name": "stderr",
     "output_type": "stream",
     "text": [
      "\r",
      " 62%|██████▏   | 62/100 [38:54<23:51, 37.68s/it]"
     ]
    },
    {
     "name": "stdout",
     "output_type": "stream",
     "text": [
      "It: 61 \t Accept P: 0.9764922261238098 \t Accepted True \t Log-likelihood: -73.89289855957031\n"
     ]
    },
    {
     "name": "stderr",
     "output_type": "stream",
     "text": [
      "\r",
      " 63%|██████▎   | 63/100 [39:32<23:13, 37.66s/it]"
     ]
    },
    {
     "name": "stdout",
     "output_type": "stream",
     "text": [
      "It: 62 \t Accept P: 1.0 \t Accepted True \t Log-likelihood: -99.22260284423828\n"
     ]
    },
    {
     "name": "stderr",
     "output_type": "stream",
     "text": [
      "\r",
      " 64%|██████▍   | 64/100 [40:09<22:36, 37.67s/it]"
     ]
    },
    {
     "name": "stdout",
     "output_type": "stream",
     "text": [
      "It: 63 \t Accept P: 0.9720871448516846 \t Accepted True \t Log-likelihood: -89.62726593017578\n"
     ]
    },
    {
     "name": "stderr",
     "output_type": "stream",
     "text": [
      "\r",
      " 65%|██████▌   | 65/100 [40:47<21:58, 37.67s/it]"
     ]
    },
    {
     "name": "stdout",
     "output_type": "stream",
     "text": [
      "It: 64 \t Accept P: 1.0 \t Accepted True \t Log-likelihood: -90.71885681152344\n"
     ]
    },
    {
     "name": "stderr",
     "output_type": "stream",
     "text": [
      "\r",
      " 66%|██████▌   | 66/100 [41:25<21:20, 37.66s/it]"
     ]
    },
    {
     "name": "stdout",
     "output_type": "stream",
     "text": [
      "It: 65 \t Accept P: 1.0 \t Accepted True \t Log-likelihood: -90.70001220703125\n"
     ]
    },
    {
     "name": "stderr",
     "output_type": "stream",
     "text": [
      "\r",
      " 67%|██████▋   | 67/100 [42:02<20:42, 37.66s/it]"
     ]
    },
    {
     "name": "stdout",
     "output_type": "stream",
     "text": [
      "It: 66 \t Accept P: 0.9929448962211609 \t Accepted True \t Log-likelihood: -92.3465576171875\n"
     ]
    },
    {
     "name": "stderr",
     "output_type": "stream",
     "text": [
      "\r",
      " 68%|██████▊   | 68/100 [42:40<20:05, 37.67s/it]"
     ]
    },
    {
     "name": "stdout",
     "output_type": "stream",
     "text": [
      "It: 67 \t Accept P: 0.9822531342506409 \t Accepted True \t Log-likelihood: -94.67848205566406\n"
     ]
    },
    {
     "name": "stderr",
     "output_type": "stream",
     "text": [
      "\r",
      " 69%|██████▉   | 69/100 [43:18<19:30, 37.76s/it]"
     ]
    },
    {
     "name": "stdout",
     "output_type": "stream",
     "text": [
      "It: 68 \t Accept P: 0.9441697597503662 \t Accepted True \t Log-likelihood: -77.14227294921875\n"
     ]
    },
    {
     "name": "stderr",
     "output_type": "stream",
     "text": [
      "\r",
      " 70%|███████   | 70/100 [43:57<19:08, 38.29s/it]"
     ]
    },
    {
     "name": "stdout",
     "output_type": "stream",
     "text": [
      "It: 69 \t Accept P: 1.0 \t Accepted True \t Log-likelihood: -100.44086456298828\n"
     ]
    },
    {
     "name": "stderr",
     "output_type": "stream",
     "text": [
      "\r",
      " 71%|███████   | 71/100 [44:36<18:30, 38.30s/it]"
     ]
    },
    {
     "name": "stdout",
     "output_type": "stream",
     "text": [
      "It: 70 \t Accept P: 0.9350940585136414 \t Accepted True \t Log-likelihood: -77.4247055053711\n"
     ]
    },
    {
     "name": "stderr",
     "output_type": "stream",
     "text": [
      "\r",
      " 72%|███████▏  | 72/100 [45:14<17:47, 38.12s/it]"
     ]
    },
    {
     "name": "stdout",
     "output_type": "stream",
     "text": [
      "It: 71 \t Accept P: 1.0 \t Accepted True \t Log-likelihood: -100.22789001464844\n"
     ]
    },
    {
     "name": "stderr",
     "output_type": "stream",
     "text": [
      "\r",
      " 73%|███████▎  | 73/100 [45:51<17:05, 37.98s/it]"
     ]
    },
    {
     "name": "stdout",
     "output_type": "stream",
     "text": [
      "It: 72 \t Accept P: 1.0 \t Accepted True \t Log-likelihood: -75.62068939208984\n"
     ]
    },
    {
     "name": "stderr",
     "output_type": "stream",
     "text": [
      "\r",
      " 74%|███████▍  | 74/100 [46:29<16:25, 37.90s/it]"
     ]
    },
    {
     "name": "stdout",
     "output_type": "stream",
     "text": [
      "It: 73 \t Accept P: 0.9947647452354431 \t Accepted True \t Log-likelihood: -71.62710571289062\n"
     ]
    },
    {
     "name": "stderr",
     "output_type": "stream",
     "text": [
      "\r",
      " 75%|███████▌  | 75/100 [47:06<15:45, 37.81s/it]"
     ]
    },
    {
     "name": "stdout",
     "output_type": "stream",
     "text": [
      "It: 74 \t Accept P: 0.9717210531234741 \t Accepted True \t Log-likelihood: -83.5263442993164\n"
     ]
    },
    {
     "name": "stderr",
     "output_type": "stream",
     "text": [
      "\r",
      " 76%|███████▌  | 76/100 [47:44<15:06, 37.77s/it]"
     ]
    },
    {
     "name": "stdout",
     "output_type": "stream",
     "text": [
      "It: 75 \t Accept P: 1.0 \t Accepted True \t Log-likelihood: -90.57682800292969\n"
     ]
    },
    {
     "name": "stderr",
     "output_type": "stream",
     "text": [
      "\r",
      " 77%|███████▋  | 77/100 [48:22<14:28, 37.75s/it]"
     ]
    },
    {
     "name": "stdout",
     "output_type": "stream",
     "text": [
      "It: 76 \t Accept P: 1.0 \t Accepted True \t Log-likelihood: -81.18157958984375\n"
     ]
    },
    {
     "name": "stderr",
     "output_type": "stream",
     "text": [
      "\r",
      " 78%|███████▊  | 78/100 [49:00<13:49, 37.72s/it]"
     ]
    },
    {
     "name": "stdout",
     "output_type": "stream",
     "text": [
      "It: 77 \t Accept P: 1.0 \t Accepted True \t Log-likelihood: -101.38899230957031\n"
     ]
    },
    {
     "name": "stderr",
     "output_type": "stream",
     "text": [
      "\r",
      " 79%|███████▉  | 79/100 [49:37<13:11, 37.68s/it]"
     ]
    },
    {
     "name": "stdout",
     "output_type": "stream",
     "text": [
      "It: 78 \t Accept P: 0.9980031251907349 \t Accepted True \t Log-likelihood: -87.77530670166016\n"
     ]
    },
    {
     "name": "stderr",
     "output_type": "stream",
     "text": [
      "\r",
      " 80%|████████  | 80/100 [50:15<12:33, 37.68s/it]"
     ]
    },
    {
     "name": "stdout",
     "output_type": "stream",
     "text": [
      "It: 79 \t Accept P: 0.9873698949813843 \t Accepted True \t Log-likelihood: -94.44609832763672\n"
     ]
    },
    {
     "name": "stderr",
     "output_type": "stream",
     "text": [
      "\r",
      " 81%|████████  | 81/100 [50:53<11:56, 37.73s/it]"
     ]
    },
    {
     "name": "stdout",
     "output_type": "stream",
     "text": [
      "It: 80 \t Accept P: 1.0 \t Accepted True \t Log-likelihood: -80.20974731445312\n"
     ]
    },
    {
     "name": "stderr",
     "output_type": "stream",
     "text": [
      "\r",
      " 82%|████████▏ | 82/100 [51:30<11:18, 37.71s/it]"
     ]
    },
    {
     "name": "stdout",
     "output_type": "stream",
     "text": [
      "It: 81 \t Accept P: 0.9917108416557312 \t Accepted True \t Log-likelihood: -93.56497955322266\n"
     ]
    },
    {
     "name": "stderr",
     "output_type": "stream",
     "text": [
      "\r",
      " 83%|████████▎ | 83/100 [52:08<10:40, 37.71s/it]"
     ]
    },
    {
     "name": "stdout",
     "output_type": "stream",
     "text": [
      "It: 82 \t Accept P: 0.9827104210853577 \t Accepted True \t Log-likelihood: -72.59151458740234\n"
     ]
    },
    {
     "name": "stderr",
     "output_type": "stream",
     "text": [
      "\r",
      " 84%|████████▍ | 84/100 [52:46<10:03, 37.70s/it]"
     ]
    },
    {
     "name": "stdout",
     "output_type": "stream",
     "text": [
      "It: 83 \t Accept P: 0.9795665144920349 \t Accepted True \t Log-likelihood: -100.49897003173828\n"
     ]
    },
    {
     "name": "stderr",
     "output_type": "stream",
     "text": [
      "\r",
      " 85%|████████▌ | 85/100 [53:23<09:25, 37.68s/it]"
     ]
    },
    {
     "name": "stdout",
     "output_type": "stream",
     "text": [
      "It: 84 \t Accept P: 1.0 \t Accepted True \t Log-likelihood: -80.96538543701172\n"
     ]
    },
    {
     "name": "stderr",
     "output_type": "stream",
     "text": [
      "\r",
      " 86%|████████▌ | 86/100 [54:01<08:47, 37.69s/it]"
     ]
    },
    {
     "name": "stdout",
     "output_type": "stream",
     "text": [
      "It: 85 \t Accept P: 0.9933086037635803 \t Accepted True \t Log-likelihood: -98.27338409423828\n"
     ]
    },
    {
     "name": "stderr",
     "output_type": "stream",
     "text": [
      "\r",
      " 87%|████████▋ | 87/100 [54:39<08:10, 37.70s/it]"
     ]
    },
    {
     "name": "stdout",
     "output_type": "stream",
     "text": [
      "It: 86 \t Accept P: 1.0 \t Accepted True \t Log-likelihood: -93.31893157958984\n"
     ]
    },
    {
     "name": "stderr",
     "output_type": "stream",
     "text": [
      "\r",
      " 88%|████████▊ | 88/100 [55:16<07:32, 37.69s/it]"
     ]
    },
    {
     "name": "stdout",
     "output_type": "stream",
     "text": [
      "It: 87 \t Accept P: 1.0 \t Accepted True \t Log-likelihood: -87.07263946533203\n"
     ]
    },
    {
     "name": "stderr",
     "output_type": "stream",
     "text": [
      "\r",
      " 89%|████████▉ | 89/100 [55:54<06:54, 37.70s/it]"
     ]
    },
    {
     "name": "stdout",
     "output_type": "stream",
     "text": [
      "It: 88 \t Accept P: 1.0 \t Accepted True \t Log-likelihood: -86.01139068603516\n"
     ]
    },
    {
     "name": "stderr",
     "output_type": "stream",
     "text": [
      "\r",
      " 90%|█████████ | 90/100 [56:32<06:17, 37.71s/it]"
     ]
    },
    {
     "name": "stdout",
     "output_type": "stream",
     "text": [
      "It: 89 \t Accept P: 0.9985209703445435 \t Accepted True \t Log-likelihood: -82.32501220703125\n"
     ]
    },
    {
     "name": "stderr",
     "output_type": "stream",
     "text": [
      "\r",
      " 91%|█████████ | 91/100 [57:10<05:39, 37.71s/it]"
     ]
    },
    {
     "name": "stdout",
     "output_type": "stream",
     "text": [
      "It: 90 \t Accept P: 0.9984448552131653 \t Accepted True \t Log-likelihood: -105.30693054199219\n"
     ]
    },
    {
     "name": "stderr",
     "output_type": "stream",
     "text": [
      "\r",
      " 92%|█████████▏| 92/100 [57:47<05:01, 37.70s/it]"
     ]
    },
    {
     "name": "stdout",
     "output_type": "stream",
     "text": [
      "It: 91 \t Accept P: 1.0 \t Accepted True \t Log-likelihood: -71.6793441772461\n"
     ]
    },
    {
     "name": "stderr",
     "output_type": "stream",
     "text": [
      "\r",
      " 93%|█████████▎| 93/100 [58:25<04:24, 37.75s/it]"
     ]
    },
    {
     "name": "stdout",
     "output_type": "stream",
     "text": [
      "It: 92 \t Accept P: 1.0 \t Accepted True \t Log-likelihood: -97.75470733642578\n"
     ]
    },
    {
     "name": "stderr",
     "output_type": "stream",
     "text": [
      "\r",
      " 94%|█████████▍| 94/100 [59:03<03:46, 37.72s/it]"
     ]
    },
    {
     "name": "stdout",
     "output_type": "stream",
     "text": [
      "It: 93 \t Accept P: 0.97014319896698 \t Accepted True \t Log-likelihood: -72.95807647705078\n"
     ]
    },
    {
     "name": "stderr",
     "output_type": "stream",
     "text": [
      "\r",
      " 95%|█████████▌| 95/100 [59:40<03:08, 37.70s/it]"
     ]
    },
    {
     "name": "stdout",
     "output_type": "stream",
     "text": [
      "It: 94 \t Accept P: 1.0 \t Accepted True \t Log-likelihood: -105.41878509521484\n"
     ]
    },
    {
     "name": "stderr",
     "output_type": "stream",
     "text": [
      "\r",
      " 96%|█████████▌| 96/100 [1:00:18<02:30, 37.71s/it]"
     ]
    },
    {
     "name": "stdout",
     "output_type": "stream",
     "text": [
      "It: 95 \t Accept P: 1.0 \t Accepted True \t Log-likelihood: -90.61656951904297\n"
     ]
    },
    {
     "name": "stderr",
     "output_type": "stream",
     "text": [
      "\r",
      " 97%|█████████▋| 97/100 [1:00:56<01:53, 37.70s/it]"
     ]
    },
    {
     "name": "stdout",
     "output_type": "stream",
     "text": [
      "It: 96 \t Accept P: 1.0 \t Accepted True \t Log-likelihood: -72.92728424072266\n"
     ]
    },
    {
     "name": "stderr",
     "output_type": "stream",
     "text": [
      "\r",
      " 98%|█████████▊| 98/100 [1:01:33<01:15, 37.68s/it]"
     ]
    },
    {
     "name": "stdout",
     "output_type": "stream",
     "text": [
      "It: 97 \t Accept P: 0.9696030616760254 \t Accepted True \t Log-likelihood: -89.69951629638672\n"
     ]
    },
    {
     "name": "stderr",
     "output_type": "stream",
     "text": [
      "\r",
      " 99%|█████████▉| 99/100 [1:02:11<00:37, 37.68s/it]"
     ]
    },
    {
     "name": "stdout",
     "output_type": "stream",
     "text": [
      "It: 98 \t Accept P: 1.0 \t Accepted True \t Log-likelihood: -86.28756713867188\n"
     ]
    },
    {
     "name": "stderr",
     "output_type": "stream",
     "text": [
      "100%|██████████| 100/100 [1:02:49<00:00, 37.69s/it]"
     ]
    },
    {
     "name": "stdout",
     "output_type": "stream",
     "text": [
      "It: 99 \t Accept P: 1.0 \t Accepted True \t Log-likelihood: -93.8045883178711\n"
     ]
    },
    {
     "name": "stderr",
     "output_type": "stream",
     "text": [
      "\n"
     ]
    }
   ],
   "source": [
    "num_iterations = 100\n",
    "all_test_preds = []\n",
    "all_grid_preds = []\n",
    "key = jax.random.PRNGKey(0)\n",
    "\n",
    "for iteration in tqdm.tqdm(range(num_iterations)):\n",
    "\n",
    "    (params, net_state, log_likelihood, state_grad, step_size, key,\n",
    "     accept_prob, accepted) = (\n",
    "        update(train_set, params, net_state, log_likelihood, state_grad,\n",
    "               key, step_size, trajectory_len, True))\n",
    "    # Evaluation\n",
    "    _, test_predictions = onp.asarray(\n",
    "      predict_fn(net_apply, params, net_state, test_set))\n",
    "    _, grid_probs = predict_fn(net_apply, params, net_state, grid_set)\n",
    "    if accepted:\n",
    "        all_grid_preds.append(grid_probs)\n",
    "        all_test_preds.append(test_predictions)\n",
    "\n",
    "    print(\"It: {} \\t Accept P: {} \\t Accepted {} \\t Log-likelihood: {}\".format(\n",
    "            iteration, accept_prob, accepted, log_likelihood))\n",
    "\n",
    "all_test_preds = jnp.concatenate(all_test_preds, 0)\n",
    "all_grid_preds = jnp.concatenate(all_grid_preds, 0)"
   ]
  },
  {
   "cell_type": "code",
   "execution_count": 28,
   "metadata": {},
   "outputs": [
    {
     "data": {
      "text/plain": [
       "DeviceArray(0.9885057, dtype=float32)"
      ]
     },
     "execution_count": 28,
     "metadata": {},
     "output_type": "execute_result"
    }
   ],
   "source": [
    "(jnp.argmax(all_test_preds[-1], axis=-1) == test_set[1][0]).mean()\n",
    "(jnp.argmax(all_test_preds[5:].mean(0), axis=-1) == test_set[1][0]).mean()\n",
    "# all_test_preds[-1]"
   ]
  },
  {
   "cell_type": "code",
   "execution_count": 29,
   "metadata": {},
   "outputs": [
    {
     "data": {
      "text/plain": [
       "[<matplotlib.lines.Line2D at 0x7f9ba432d280>]"
      ]
     },
     "execution_count": 29,
     "metadata": {},
     "output_type": "execute_result"
    },
    {
     "data": {
      "image/png": "[encoded data removed]",
      "text/plain": [
       "<Figure size 432x288 with 2 Axes>"
      ]
     },
     "metadata": {
      "needs_background": "light"
     },
     "output_type": "display_data"
    }
   ],
   "source": [
    "# plt.imshow(grid_preds.reshape((20, 20)))\n",
    "levels = onp.linspace(0., 1., 10)\n",
    "\n",
    "plt.contourf(\n",
    "    grid_d1, grid_d2, all_grid_preds[1:].mean(0)[:, 0].reshape((50, 50)),\n",
    "    vmin=0., vmax=1., levels=levels, cmap=cmocean.cm.deep,\n",
    "    alpha=0.5#cmap=cmocean.cm.thermal\n",
    ")\n",
    "plt.colorbar()\n",
    "\n",
    "plt.contour(\n",
    "    grid_d1, grid_d2, all_grid_preds[1:].mean(0)[:, 0].reshape((50, 50)),\n",
    "    levels=[0.5], colors=[\"k\"]\n",
    ")\n",
    "\n",
    "class_1 = (train_set[1][0] == 1)\n",
    "class_0 = jnp.logical_not(class_1)\n",
    "plt.plot(train_set[0][0, :, 0][class_1], train_set[0][0, :, 1][class_1], \"ro\", ms=10, mec=\"k\")\n",
    "plt.plot(train_set[0][0, :, 0][class_0], train_set[0][0, :, 1][class_0], \"mo\", ms=10, mec=\"k\")\n",
    "\n",
    "class_1 = (test_set[1][0] == 1)\n",
    "class_0 = jnp.logical_not(class_1)\n",
    "plt.plot(test_set[0][0, :, 0][class_1], test_set[0][0, :, 1][class_1], \"rs\", ms=10, mec=\"k\")\n",
    "plt.plot(test_set[0][0, :, 0][class_0], test_set[0][0, :, 1][class_0], \"ms\", ms=10, mec=\"k\")\n",
    "\n",
    "# plt.xlim(-15., 0.)\n",
    "# plt.ylim(-15., 0.)"
   ]
  },
  {
   "cell_type": "code",
   "execution_count": 30,
   "metadata": {},
   "outputs": [],
   "source": [
    "onp.savez(\"augmentation_ce_fit_03_cold\",\n",
    "          x_train=train_set[0][0],\n",
    "          y_train=train_set[1][0],\n",
    "          x_test=test_set[0][0],\n",
    "          y_test=test_set[1][0],\n",
    "          grid_d1=grid_d1,\n",
    "          grid_d2=grid_d2,\n",
    "          all_grid_preds=all_grid_preds,\n",
    "          all_test_preds=all_test_preds\n",
    "         )"
   ]
  },
  {
   "cell_type": "code",
   "execution_count": 192,
   "metadata": {},
   "outputs": [],
   "source": [
    "# onp.savez(\"augmentation_ce_fit\",\n",
    "# onp.savez(\"augmentation_ce_fit_035\",\n",
    "\n",
    "# onp.savez(\"augmentation_ce_fit_03\",\n",
    "#           x_train=train_set[0][0],\n",
    "#           y_train=train_set[1][0],\n",
    "#           x_test=test_set[0][0],\n",
    "#           y_test=test_set[1][0],\n",
    "#           grid_d1=grid_d1,\n",
    "#           grid_d2=grid_d2,\n",
    "#           all_grid_preds=all_grid_preds,\n",
    "#           all_test_preds=all_test_preds\n",
    "#          )"
   ]
  },
  {
   "cell_type": "code",
   "execution_count": 58,
   "metadata": {},
   "outputs": [],
   "source": [
    "# onp.savez(\"ce_fit\",\n",
    "#           x_train=train_set[0][0],\n",
    "#           y_train=train_set[1][0],\n",
    "#           x_test=test_set[0][0],\n",
    "#           y_test=test_set[1][0],\n",
    "#           grid_d1=grid_d1,\n",
    "#           grid_d2=grid_d2,\n",
    "#           all_grid_preds=all_grid_preds,\n",
    "#           all_test_preds=all_test_preds\n",
    "#          )"
   ]
  },
  {
   "cell_type": "code",
   "execution_count": 210,
   "metadata": {},
   "outputs": [],
   "source": [
    "# onp.savez(\"ce_fit_noaug\",\n",
    "# onp.savez(\"ce_fit_noaug_03\",\n",
    "#           x_train=train_set[0][0],\n",
    "#           y_train=train_set[1][0],\n",
    "#           x_test=test_set[0][0],\n",
    "#           y_test=test_set[1][0],\n",
    "#           grid_d1=grid_d1,\n",
    "#           grid_d2=grid_d2,\n",
    "#           all_grid_preds=all_grid_preds,\n",
    "#           all_test_preds=all_test_preds\n",
    "#          )"
   ]
  },
  {
   "cell_type": "markdown",
   "metadata": {},
   "source": [
    "## Noisy Dirichlet"
   ]
  },
  {
   "cell_type": "code",
   "execution_count": 30,
   "metadata": {},
   "outputs": [],
   "source": [
    "prior_std = .3\n",
    "weight_decay = 1 / prior_std**2\n",
    "# noise = .01\n",
    "noise = .00001\n",
    "temperature = 4.\n",
    "\n",
    "task = data_utils.Task(\"classification\")\n",
    "(likelihood_factory, predict_fn, ensemble_upd_fn, _,_) = train_utils.get_task_specific_fns(task, data_info)\n",
    "log_prior_fn, log_prior_diff_fn = (\n",
    "    losses.make_gaussian_log_prior(weight_decay, 1.))\n",
    "log_likelihood_fn = losses.make_noisy_dirichlet_log_likelihood(temperature, noise)"
   ]
  },
  {
   "cell_type": "code",
   "execution_count": 31,
   "metadata": {},
   "outputs": [
    {
     "name": "stdout",
     "output_type": "stream",
     "text": [
      "Leapfrog steps per iteration: 157080\n"
     ]
    }
   ],
   "source": [
    "step_size = 3e-6\n",
    "trajectory_len = jnp.pi / 2 / jnp.sqrt(weight_decay)\n",
    "max_num_leapfrog_steps = int(trajectory_len // step_size + 1)\n",
    "print(\"Leapfrog steps per iteration:\", max_num_leapfrog_steps)"
   ]
  },
  {
   "cell_type": "code",
   "execution_count": 32,
   "metadata": {},
   "outputs": [],
   "source": [
    "key = jax.random.PRNGKey(0)\n",
    "param_seed = 0\n",
    "\n",
    "params, net_state = net.init(jax.random.PRNGKey(param_seed), (train_set[0][0, :1], None), True)\n",
    "net_state = jax.pmap(lambda _: net_state)(jnp.arange(num_devices))"
   ]
  },
  {
   "cell_type": "code",
   "execution_count": 33,
   "metadata": {},
   "outputs": [],
   "source": [
    "update, get_log_prob_and_grad = train_utils.make_hmc_update(\n",
    "    net_apply, log_likelihood_fn, log_prior_fn, log_prior_diff_fn,\n",
    "    max_num_leapfrog_steps, 1., 0.)"
   ]
  },
  {
   "cell_type": "code",
   "execution_count": 34,
   "metadata": {},
   "outputs": [],
   "source": [
    "# Initial log-prob and grad values\n",
    "log_prob, state_grad, log_likelihood, net_state = (\n",
    "    get_log_prob_and_grad(train_set, params, net_state))"
   ]
  },
  {
   "cell_type": "code",
   "execution_count": 35,
   "metadata": {},
   "outputs": [
    {
     "name": "stderr",
     "output_type": "stream",
     "text": [
      "  0%|          | 0/30 [00:00<?, ?it/s]/home/pavel/anaconda3/envs/py38/lib/python3.8/site-packages/numpy/core/_asarray.py:83: VisibleDeprecationWarning: Creating an ndarray from ragged nested sequences (which is a list-or-tuple of lists-or-tuples-or ndarrays with different lengths or shapes) is deprecated. If you meant to do this, you must specify 'dtype=object' when creating the ndarray\n",
      "  return array(a, dtype, copy=False, order=order)\n",
      "  3%|▎         | 1/30 [00:37<18:06, 37.48s/it]"
     ]
    },
    {
     "name": "stdout",
     "output_type": "stream",
     "text": [
      "It: 0 \t Accept P: 0.9835354685783386 \t Accepted True \t Log-likelihood: -2369.83056640625\n"
     ]
    },
    {
     "name": "stderr",
     "output_type": "stream",
     "text": [
      "\r",
      "  7%|▋         | 2/30 [01:14<17:22, 37.24s/it]"
     ]
    },
    {
     "name": "stdout",
     "output_type": "stream",
     "text": [
      "It: 1 \t Accept P: 1.0 \t Accepted True \t Log-likelihood: -2276.47998046875\n"
     ]
    },
    {
     "name": "stderr",
     "output_type": "stream",
     "text": [
      "\r",
      " 10%|█         | 3/30 [01:51<16:43, 37.18s/it]"
     ]
    },
    {
     "name": "stdout",
     "output_type": "stream",
     "text": [
      "It: 2 \t Accept P: 0.9784908890724182 \t Accepted True \t Log-likelihood: -2022.7542724609375\n"
     ]
    },
    {
     "name": "stderr",
     "output_type": "stream",
     "text": [
      "\r",
      " 13%|█▎        | 4/30 [02:28<16:06, 37.18s/it]"
     ]
    },
    {
     "name": "stdout",
     "output_type": "stream",
     "text": [
      "It: 3 \t Accept P: 1.0 \t Accepted True \t Log-likelihood: -2020.570556640625\n"
     ]
    },
    {
     "name": "stderr",
     "output_type": "stream",
     "text": [
      "\r",
      " 17%|█▋        | 5/30 [03:06<15:32, 37.28s/it]"
     ]
    },
    {
     "name": "stdout",
     "output_type": "stream",
     "text": [
      "It: 4 \t Accept P: 0.32232606410980225 \t Accepted True \t Log-likelihood: -1990.993896484375\n"
     ]
    },
    {
     "name": "stderr",
     "output_type": "stream",
     "text": [
      "\r",
      " 20%|██        | 6/30 [03:43<14:55, 37.31s/it]"
     ]
    },
    {
     "name": "stdout",
     "output_type": "stream",
     "text": [
      "It: 5 \t Accept P: 0.5940464735031128 \t Accepted True \t Log-likelihood: -1978.125\n"
     ]
    },
    {
     "name": "stderr",
     "output_type": "stream",
     "text": [
      "\r",
      " 23%|██▎       | 7/30 [04:21<14:18, 37.33s/it]"
     ]
    },
    {
     "name": "stdout",
     "output_type": "stream",
     "text": [
      "It: 6 \t Accept P: 1.0 \t Accepted True \t Log-likelihood: -1990.39599609375\n"
     ]
    },
    {
     "name": "stderr",
     "output_type": "stream",
     "text": [
      "\r",
      " 27%|██▋       | 8/30 [04:58<13:41, 37.34s/it]"
     ]
    },
    {
     "name": "stdout",
     "output_type": "stream",
     "text": [
      "It: 7 \t Accept P: 1.0 \t Accepted True \t Log-likelihood: -1996.559326171875\n"
     ]
    },
    {
     "name": "stderr",
     "output_type": "stream",
     "text": [
      "\r",
      " 30%|███       | 9/30 [05:35<13:03, 37.33s/it]"
     ]
    },
    {
     "name": "stdout",
     "output_type": "stream",
     "text": [
      "It: 8 \t Accept P: 0.6882547736167908 \t Accepted True \t Log-likelihood: -1999.64990234375\n"
     ]
    },
    {
     "name": "stderr",
     "output_type": "stream",
     "text": [
      "\r",
      " 33%|███▎      | 10/30 [06:13<12:26, 37.35s/it]"
     ]
    },
    {
     "name": "stdout",
     "output_type": "stream",
     "text": [
      "It: 9 \t Accept P: 1.0 \t Accepted True \t Log-likelihood: -1992.3099365234375\n"
     ]
    },
    {
     "name": "stderr",
     "output_type": "stream",
     "text": [
      "\r",
      " 37%|███▋      | 11/30 [06:50<11:49, 37.35s/it]"
     ]
    },
    {
     "name": "stdout",
     "output_type": "stream",
     "text": [
      "It: 10 \t Accept P: 1.0 \t Accepted True \t Log-likelihood: -1968.8330078125\n"
     ]
    },
    {
     "name": "stderr",
     "output_type": "stream",
     "text": [
      "\r",
      " 40%|████      | 12/30 [07:27<11:12, 37.34s/it]"
     ]
    },
    {
     "name": "stdout",
     "output_type": "stream",
     "text": [
      "It: 11 \t Accept P: 0.9909772276878357 \t Accepted True \t Log-likelihood: -1909.7431640625\n"
     ]
    },
    {
     "name": "stderr",
     "output_type": "stream",
     "text": [
      "\r",
      " 43%|████▎     | 13/30 [08:05<10:34, 37.33s/it]"
     ]
    },
    {
     "name": "stdout",
     "output_type": "stream",
     "text": [
      "It: 12 \t Accept P: 1.0 \t Accepted True \t Log-likelihood: -1848.432861328125\n"
     ]
    },
    {
     "name": "stderr",
     "output_type": "stream",
     "text": [
      "\r",
      " 47%|████▋     | 14/30 [08:42<09:58, 37.39s/it]"
     ]
    },
    {
     "name": "stdout",
     "output_type": "stream",
     "text": [
      "It: 13 \t Accept P: 1.0 \t Accepted True \t Log-likelihood: -1874.4251708984375\n"
     ]
    },
    {
     "name": "stderr",
     "output_type": "stream",
     "text": [
      "\r",
      " 50%|█████     | 15/30 [09:20<09:23, 37.58s/it]"
     ]
    },
    {
     "name": "stdout",
     "output_type": "stream",
     "text": [
      "It: 14 \t Accept P: 1.0 \t Accepted True \t Log-likelihood: -1827.282958984375\n"
     ]
    },
    {
     "name": "stderr",
     "output_type": "stream",
     "text": [
      "\r",
      " 53%|█████▎    | 16/30 [09:57<08:45, 37.51s/it]"
     ]
    },
    {
     "name": "stdout",
     "output_type": "stream",
     "text": [
      "It: 15 \t Accept P: 0.4319938123226166 \t Accepted False \t Log-likelihood: -1827.282958984375\n"
     ]
    },
    {
     "name": "stderr",
     "output_type": "stream",
     "text": [
      "\r",
      " 57%|█████▋    | 17/30 [10:35<08:07, 37.48s/it]"
     ]
    },
    {
     "name": "stdout",
     "output_type": "stream",
     "text": [
      "It: 16 \t Accept P: 1.0 \t Accepted True \t Log-likelihood: -1869.7073974609375\n"
     ]
    },
    {
     "name": "stderr",
     "output_type": "stream",
     "text": [
      "\r",
      " 60%|██████    | 18/30 [11:12<07:29, 37.43s/it]"
     ]
    },
    {
     "name": "stdout",
     "output_type": "stream",
     "text": [
      "It: 17 \t Accept P: 0.07263843715190887 \t Accepted False \t Log-likelihood: -1869.7073974609375\n"
     ]
    },
    {
     "name": "stderr",
     "output_type": "stream",
     "text": [
      "\r",
      " 63%|██████▎   | 19/30 [11:49<06:51, 37.39s/it]"
     ]
    },
    {
     "name": "stdout",
     "output_type": "stream",
     "text": [
      "It: 18 \t Accept P: 0.5657068490982056 \t Accepted False \t Log-likelihood: -1869.7073974609375\n"
     ]
    },
    {
     "name": "stderr",
     "output_type": "stream",
     "text": [
      "\r",
      " 67%|██████▋   | 20/30 [12:27<06:13, 37.37s/it]"
     ]
    },
    {
     "name": "stdout",
     "output_type": "stream",
     "text": [
      "It: 19 \t Accept P: 1.0 \t Accepted True \t Log-likelihood: -1832.3338623046875\n"
     ]
    },
    {
     "name": "stderr",
     "output_type": "stream",
     "text": [
      "\r",
      " 70%|███████   | 21/30 [13:04<05:36, 37.39s/it]"
     ]
    },
    {
     "name": "stdout",
     "output_type": "stream",
     "text": [
      "It: 20 \t Accept P: 0.9357221126556396 \t Accepted True \t Log-likelihood: -1824.92138671875\n"
     ]
    },
    {
     "name": "stderr",
     "output_type": "stream",
     "text": [
      "\r",
      " 73%|███████▎  | 22/30 [13:42<04:59, 37.38s/it]"
     ]
    },
    {
     "name": "stdout",
     "output_type": "stream",
     "text": [
      "It: 21 \t Accept P: 0.780847430229187 \t Accepted True \t Log-likelihood: -1819.8714599609375\n"
     ]
    },
    {
     "name": "stderr",
     "output_type": "stream",
     "text": [
      "\r",
      " 77%|███████▋  | 23/30 [14:19<04:22, 37.46s/it]"
     ]
    },
    {
     "name": "stdout",
     "output_type": "stream",
     "text": [
      "It: 22 \t Accept P: 0.4702746570110321 \t Accepted False \t Log-likelihood: -1819.8714599609375\n"
     ]
    },
    {
     "name": "stderr",
     "output_type": "stream",
     "text": [
      "\r",
      " 80%|████████  | 24/30 [14:57<03:45, 37.55s/it]"
     ]
    },
    {
     "name": "stdout",
     "output_type": "stream",
     "text": [
      "It: 23 \t Accept P: 1.0 \t Accepted True \t Log-likelihood: -1833.465576171875\n"
     ]
    },
    {
     "name": "stderr",
     "output_type": "stream",
     "text": [
      "\r",
      " 83%|████████▎ | 25/30 [15:34<03:07, 37.50s/it]"
     ]
    },
    {
     "name": "stdout",
     "output_type": "stream",
     "text": [
      "It: 24 \t Accept P: 0.09919033944606781 \t Accepted False \t Log-likelihood: -1833.465576171875\n"
     ]
    },
    {
     "name": "stderr",
     "output_type": "stream",
     "text": [
      "\r",
      " 87%|████████▋ | 26/30 [16:12<02:29, 37.43s/it]"
     ]
    },
    {
     "name": "stdout",
     "output_type": "stream",
     "text": [
      "It: 25 \t Accept P: 0.21509140729904175 \t Accepted False \t Log-likelihood: -1833.465576171875\n"
     ]
    },
    {
     "name": "stderr",
     "output_type": "stream",
     "text": [
      "\r",
      " 90%|█████████ | 27/30 [16:49<01:52, 37.39s/it]"
     ]
    },
    {
     "name": "stdout",
     "output_type": "stream",
     "text": [
      "It: 26 \t Accept P: 0.03699507936835289 \t Accepted True \t Log-likelihood: -1832.59423828125\n"
     ]
    },
    {
     "name": "stderr",
     "output_type": "stream",
     "text": [
      "\r",
      " 93%|█████████▎| 28/30 [17:26<01:14, 37.37s/it]"
     ]
    },
    {
     "name": "stdout",
     "output_type": "stream",
     "text": [
      "It: 27 \t Accept P: 0.4639976918697357 \t Accepted False \t Log-likelihood: -1832.59423828125\n"
     ]
    },
    {
     "name": "stderr",
     "output_type": "stream",
     "text": [
      "\r",
      " 97%|█████████▋| 29/30 [18:04<00:37, 37.34s/it]"
     ]
    },
    {
     "name": "stdout",
     "output_type": "stream",
     "text": [
      "It: 28 \t Accept P: 1.0 \t Accepted True \t Log-likelihood: -1829.561767578125\n"
     ]
    },
    {
     "name": "stderr",
     "output_type": "stream",
     "text": [
      "100%|██████████| 30/30 [18:41<00:00, 37.38s/it]"
     ]
    },
    {
     "name": "stdout",
     "output_type": "stream",
     "text": [
      "It: 29 \t Accept P: 0.45992693305015564 \t Accepted True \t Log-likelihood: -1813.9423828125\n"
     ]
    },
    {
     "name": "stderr",
     "output_type": "stream",
     "text": [
      "\n"
     ]
    }
   ],
   "source": [
    "num_iterations = 30\n",
    "all_test_preds = []\n",
    "all_grid_preds = []\n",
    "key = jax.random.PRNGKey(0)\n",
    "\n",
    "for iteration in tqdm.tqdm(range(num_iterations)):\n",
    "\n",
    "    (params, net_state, log_likelihood, state_grad, step_size, key,\n",
    "     accept_prob, accepted) = (\n",
    "        update(train_set, params, net_state, log_likelihood, state_grad,\n",
    "               key, step_size, trajectory_len, True))\n",
    "    # Evaluation\n",
    "    _, test_predictions = onp.asarray(\n",
    "      predict_fn(net_apply, params, net_state, test_set))\n",
    "    _, grid_probs = predict_fn(net_apply, params, net_state, grid_set)\n",
    "    if accepted:\n",
    "        all_grid_preds.append(grid_probs)\n",
    "        all_test_preds.append(test_predictions)\n",
    "\n",
    "    print(\"It: {} \\t Accept P: {} \\t Accepted {} \\t Log-likelihood: {}\".format(\n",
    "            iteration, accept_prob, accepted, log_likelihood))\n",
    "\n",
    "all_test_preds = jnp.concatenate(all_test_preds, 0)\n",
    "all_grid_preds = jnp.concatenate(all_grid_preds, 0)"
   ]
  },
  {
   "cell_type": "code",
   "execution_count": 36,
   "metadata": {},
   "outputs": [
    {
     "data": {
      "text/plain": [
       "DeviceArray(0.9655172, dtype=float32)"
      ]
     },
     "execution_count": 36,
     "metadata": {},
     "output_type": "execute_result"
    }
   ],
   "source": [
    "(jnp.argmax(all_test_preds[-1], axis=-1) == test_set[1][0]).mean()\n",
    "(jnp.argmax(all_test_preds[5:].mean(0), axis=-1) == test_set[1][0]).mean()\n",
    "# all_test_preds[-1]"
   ]
  },
  {
   "cell_type": "code",
   "execution_count": 37,
   "metadata": {},
   "outputs": [
    {
     "data": {
      "text/plain": [
       "[<matplotlib.lines.Line2D at 0x7f04a8650220>]"
      ]
     },
     "execution_count": 37,
     "metadata": {},
     "output_type": "execute_result"
    },
    {
     "data": {
      "image/png": "[encoded data removed]",
      "text/plain": [
       "<Figure size 432x288 with 2 Axes>"
      ]
     },
     "metadata": {
      "needs_background": "light"
     },
     "output_type": "display_data"
    }
   ],
   "source": [
    "# plt.imshow(grid_preds.reshape((20, 20)))\n",
    "levels = onp.linspace(0., 1., 10)\n",
    "\n",
    "plt.contourf(\n",
    "    grid_d1, grid_d2, all_grid_preds[5:].mean(0)[:, 0].reshape((50, 50)),\n",
    "    vmin=0., vmax=1., levels=levels, cmap=cmocean.cm.deep,\n",
    "    alpha=0.5#cmap=cmocean.cm.thermal\n",
    ")\n",
    "plt.colorbar()\n",
    "\n",
    "plt.contour(\n",
    "    grid_d1, grid_d2, all_grid_preds[5:].mean(0)[:, 0].reshape((50, 50)),\n",
    "    levels=[0.5], colors=[\"k\"]\n",
    ")\n",
    "\n",
    "class_1 = (train_set[1][0] == 1)\n",
    "class_0 = jnp.logical_not(class_1)\n",
    "plt.plot(train_set[0][0, :, 0][class_1], train_set[0][0, :, 1][class_1], \"ro\", ms=10, mec=\"k\")\n",
    "plt.plot(train_set[0][0, :, 0][class_0], train_set[0][0, :, 1][class_0], \"mo\", ms=10, mec=\"k\")\n",
    "\n",
    "class_1 = (test_set[1][0] == 1)\n",
    "class_0 = jnp.logical_not(class_1)\n",
    "plt.plot(test_set[0][0, :, 0][class_1], test_set[0][0, :, 1][class_1], \"rs\", ms=10, mec=\"k\")\n",
    "plt.plot(test_set[0][0, :, 0][class_0], test_set[0][0, :, 1][class_0], \"ms\", ms=10, mec=\"k\")\n"
   ]
  },
  {
   "cell_type": "code",
   "execution_count": 737,
   "metadata": {},
   "outputs": [],
   "source": [
    "# onp.savez(\"dirichlet_fit\",\n",
    "#           x_train=train_set[0][0],\n",
    "#           y_train=train_set[1][0],\n",
    "#           x_test=test_set[0][0],\n",
    "#           y_test=test_set[1][0],\n",
    "#           grid_d1=grid_d1,\n",
    "#           grid_d2=grid_d2,\n",
    "#           all_grid_preds=all_grid_preds,\n",
    "#           all_test_preds=all_test_preds\n",
    "#          )"
   ]
  },
  {
   "cell_type": "code",
   "execution_count": 38,
   "metadata": {},
   "outputs": [],
   "source": [
    "# onp.savez(\"augmentation_dirichlet_fit\",\n",
    "#           x_train=train_set[0][0],\n",
    "#           y_train=train_set[1][0],\n",
    "#           x_test=test_set[0][0],\n",
    "#           y_test=test_set[1][0],\n",
    "#           grid_d1=grid_d1,\n",
    "#           grid_d2=grid_d2,\n",
    "#           all_grid_preds=all_grid_preds,\n",
    "#           all_test_preds=all_test_preds\n",
    "#          )"
   ]
  },
  {
   "cell_type": "code",
   "execution_count": null,
   "metadata": {},
   "outputs": [],
   "source": []
  }
 ],
 "metadata": {
  "kernelspec": {
   "display_name": "py38",
   "language": "python",
   "name": "py38"
  },
  "language_info": {
   "codemirror_mode": {
    "name": "ipython",
    "version": 3
   },
   "file_extension": ".py",
   "mimetype": "text/x-python",
   "name": "python",
   "nbconvert_exporter": "python",
   "pygments_lexer": "ipython3",
   "version": "3.8.5"
  }
 },
 "nbformat": 4,
 "nbformat_minor": 4
}
