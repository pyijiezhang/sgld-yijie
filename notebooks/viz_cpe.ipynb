{
 "cells": [
  {
   "cell_type": "code",
   "execution_count": null,
   "metadata": {},
   "outputs": [],
   "source": [
    "import pandas as pd\n",
    "import seaborn as sns\n",
    "import matplotlib.pyplot as plt\n",
    "\n",
    "from palettable.cmocean.sequential import Thermal_8\n",
    "\n",
    "sns.set(font_scale=2, style='whitegrid')\n",
    "palette = sns.color_palette(Thermal_8.mpl_colors)\n",
    "palette"
   ]
  },
  {
   "cell_type": "code",
   "execution_count": null,
   "metadata": {},
   "outputs": [],
   "source": [
    "# import wandb\n",
    "\n",
    "# def get_summary_metrics(sweep_id, config_keys=None, filter_func=None):\n",
    "#   api = wandb.Api(timeout=60)\n",
    "#   sweep = api.sweep(sweep_id)\n",
    "\n",
    "#   data = []\n",
    "#   for run in tqdm(sweep.runs, desc='Runs', leave=False):\n",
    "#     cfg = {k: run.config[k] for k in config_keys or []}\n",
    "#     if callable(filter_func) and not filter_func(cfg):\n",
    "#       continue\n",
    "#     data.append(dict(run_id=run.id, **cfg, **run.summary))\n",
    "\n",
    "#   return sweep, pd.DataFrame(data)\n",
    "\n",
    "# _, dirichlet_cpe = get_summary_metrics('deeplearn/data-aug-likelihood/51zxqnqv',\n",
    "#                                        config_keys=['likelihood', 'seed', 'temperature'])\n",
    "# _, softmax_cpe = get_summary_metrics('deeplearn/data-aug-likelihood/ekte3la8',\n",
    "#                                      config_keys=['likelihood', 'seed', 'temperature', 'label_noise'],\n",
    "#                                      filter_func=lambda cfg: cfg['label_noise'] == 0)\n",
    "# softmax_cpe = softmax_cpe.drop(columns=['label_noise'])\n",
    "# cpe_results = pd.concat([\n",
    "#     dirichlet_cpe, softmax_cpe\n",
    "# ]).reset_index().drop(columns=['index'])\n",
    "# cpe_results = cpe_results[cpe_results.temperature <= 1]\n",
    "# cpe_results.to_csv('results/reduced_cpe.csv', index=False)"
   ]
  },
  {
   "cell_type": "code",
   "execution_count": null,
   "metadata": {},
   "outputs": [],
   "source": [
    "cpe_results = pd.read_csv('results/reduced_cpe.csv')"
   ]
  },
  {
   "cell_type": "code",
   "execution_count": null,
   "metadata": {},
   "outputs": [],
   "source": [
    "fig, ax = plt.subplots(figsize=(7,5))\n",
    "\n",
    "sns.lineplot(ax=ax, data=cpe_results[cpe_results.likelihood == 'softmax'],\n",
    "             x='temperature', y='csgld/test/bma_acc', label='Softmax',\n",
    "             color=palette[2], marker='o', linewidth=3, markersize=10, ci='sd')\n",
    "sns.lineplot(ax=ax, data=cpe_results[cpe_results.likelihood == 'dirichlet'],\n",
    "             x='temperature', y='csgld/test/bma_acc', label='Noisy Dirichlet',\n",
    "             color=palette[-3], marker='o', linewidth=3, markersize=10, ci='sd')\n",
    "\n",
    "ax.set(xscale='log', xlabel=r'$T$', ylabel='BMA Test Accuracy')\n",
    "fig.tight_layout()\n",
    "# fig.savefig('reduced_cpe.pdf', bbox_inches='tight')"
   ]
  }
 ],
 "metadata": {
  "interpreter": {
   "hash": "ef16d1c2b9bdea86a9f19387e5c6274ab469aa69d27340e178608868525b66dc"
  },
  "kernelspec": {
   "display_name": "Python 3.9.7 64-bit ('data-aug-likelihood': conda)",
   "language": "python",
   "name": "python3"
  },
  "language_info": {
   "codemirror_mode": {
    "name": "ipython",
    "version": 3
   },
   "file_extension": ".py",
   "mimetype": "text/x-python",
   "name": "python",
   "nbconvert_exporter": "python",
   "pygments_lexer": "ipython3",
   "version": "3.9.9"
  },
  "orig_nbformat": 4
 },
 "nbformat": 4,
 "nbformat_minor": 2
}
