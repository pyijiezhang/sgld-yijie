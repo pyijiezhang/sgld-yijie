{
 "cells": [
  {
   "cell_type": "code",
   "execution_count": null,
   "metadata": {},
   "outputs": [],
   "source": [
    "import pandas as pd\n",
    "import seaborn as sns\n",
    "import matplotlib.pyplot as plt\n",
    "\n",
    "from palettable.cmocean.sequential import Thermal_8\n",
    "\n",
    "sns.set(font_scale=2, style='whitegrid')\n",
    "palette = sns.color_palette(Thermal_8.mpl_colors)\n",
    "palette"
   ]
  },
  {
   "cell_type": "code",
   "execution_count": null,
   "metadata": {},
   "outputs": [],
   "source": [
    "results = pd.concat([\n",
    "    pd.read_csv('results/cifar10_softmax.csv'),\n",
    "    pd.read_csv('results/cifar10_noisy_dirichlet.csv'),\n",
    "    pd.read_csv('results/cifar10_softmax_noaug.csv'),\n",
    "    pd.read_csv('results/cifar10_noisy_dirichlet_noaug.csv'),\n",
    "]).reset_index().drop(columns=['index'])\n",
    "results = results[results.label_noise == 0]\n",
    "# results"
   ]
  },
  {
   "cell_type": "markdown",
   "metadata": {},
   "source": [
    "## Train NLL"
   ]
  },
  {
   "cell_type": "markdown",
   "metadata": {},
   "source": [
    "### Softmax"
   ]
  },
  {
   "cell_type": "code",
   "execution_count": null,
   "metadata": {},
   "outputs": [],
   "source": [
    "fig, ax = plt.subplots(figsize=(7,5.5))\n",
    "\n",
    "sns.lineplot(ax=ax, data=results[results.likelihood == 'softmax'],\n",
    "             x='temperature', y='train/ce_nll', hue='augment', ci='sd',\n",
    "             palette=sns.color_palette([palette[2], palette[-3]]),\n",
    "             marker='o', linewidth=6, markersize=14)\n",
    "\n",
    "ax.set(xscale='log', yscale='log', xlabel=r'$T$', ylabel='BMA Train NLL')\n",
    "handles, labels = ax.get_legend_handles_labels()\n",
    "for h in handles:\n",
    "    h.set(linewidth=6)\n",
    "labels = ['No Aug.', 'Aug.']\n",
    "ax.legend(handles=handles, labels=labels, loc='lower right')\n",
    "# ax.legend().remove()\n",
    "\n",
    "fig.tight_layout()\n",
    "# fig.savefig('aug_noaug_train_lik_softmax.pdf', bbox_inches='tight')"
   ]
  },
  {
   "cell_type": "markdown",
   "metadata": {},
   "source": [
    "### Dirichlet"
   ]
  },
  {
   "cell_type": "code",
   "execution_count": null,
   "metadata": {},
   "outputs": [],
   "source": [
    "fig, ax = plt.subplots(figsize=(7,5))\n",
    "\n",
    "sns.lineplot(ax=ax, data=results[results.likelihood == 'dirichlet'],\n",
    "             x='noise', y='train/ce_nll', hue='augment', ci='sd',\n",
    "             palette=sns.color_palette([palette[2], palette[-3]]),\n",
    "             marker='o', linewidth=6, markersize=14)\n",
    "\n",
    "ax.set(xscale='log', yscale='log', xlabel=r'$T$', ylabel='BMA Train NLL')\n",
    "handles, labels = ax.get_legend_handles_labels()\n",
    "for h in handles:\n",
    "    h.set(linewidth=6)\n",
    "labels = ['No Aug.', 'Aug.']\n",
    "ax.legend(handles=handles, labels=labels)\n",
    "# ax.legend().remove()\n",
    "\n",
    "fig.tight_layout()\n",
    "# fig.savefig('aug_noaug_train_lik_dirichlet.pdf', bbox_inches='tight')"
   ]
  },
  {
   "cell_type": "markdown",
   "metadata": {},
   "source": [
    "## Combined"
   ]
  },
  {
   "cell_type": "code",
   "execution_count": null,
   "metadata": {},
   "outputs": [],
   "source": [
    "fig, axes = plt.subplots(ncols=2, sharex=True, figsize=(13, 5))\n",
    "\n",
    "sns.lineplot(ax=axes[0], data=results[results.likelihood == 'softmax'],\n",
    "             x='temperature', y='train/ce_nll', hue='augment', ci='sd', legend=False,\n",
    "             palette=sns.color_palette([palette[2], palette[-3]]),\n",
    "             marker='o', linewidth=6, markersize=14)\n",
    "\n",
    "sns.lineplot(ax=axes[1], data=results[results.likelihood == 'dirichlet'],\n",
    "             x='noise', y='train/ce_nll', hue='augment', ci='sd',\n",
    "             palette=sns.color_palette([palette[2], palette[-3]]),\n",
    "             marker='o', linewidth=6, markersize=14)\n",
    "\n",
    "axes[0].set(xscale='log', yscale='log', xlabel=r'$T$', ylabel='BMA Train NLL')\n",
    "\n",
    "axes[1].set(xscale='log', yscale='log', xlabel=r'$\\alpha_\\epsilon$', ylabel='')\n",
    "handles, labels = axes[1].get_legend_handles_labels()\n",
    "for h in handles:\n",
    "    h.set(linewidth=6)\n",
    "labels = ['No Aug.', 'Aug.']\n",
    "axes[1].legend(handles=handles, labels=labels, loc='lower right')\n",
    "\n",
    "# sns.move_legend(axes[1], bbox_to_anchor=(-1, -.25, 1, 0),\n",
    "#                 loc='lower center', ncol=2, borderaxespad=0., frameon=True, title='')\n",
    "\n",
    "fig.tight_layout()\n",
    "# fig.savefig('aug_noaug_train_lik.pdf', bbox_inches='tight')"
   ]
  }
 ],
 "metadata": {
  "interpreter": {
   "hash": "ef16d1c2b9bdea86a9f19387e5c6274ab469aa69d27340e178608868525b66dc"
  },
  "kernelspec": {
   "display_name": "Python 3.9.7 64-bit ('data-aug-likelihood': conda)",
   "language": "python",
   "name": "python3"
  },
  "language_info": {
   "codemirror_mode": {
    "name": "ipython",
    "version": 3
   },
   "file_extension": ".py",
   "mimetype": "text/x-python",
   "name": "python",
   "nbconvert_exporter": "python",
   "pygments_lexer": "ipython3",
   "version": "3.9.9"
  },
  "orig_nbformat": 4
 },
 "nbformat": 4,
 "nbformat_minor": 2
}
