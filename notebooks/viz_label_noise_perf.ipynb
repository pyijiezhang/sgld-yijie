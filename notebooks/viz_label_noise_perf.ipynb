{
 "cells": [
  {
   "cell_type": "code",
   "execution_count": null,
   "metadata": {},
   "outputs": [],
   "source": [
    "import numpy as np\n",
    "import pandas as pd\n",
    "import seaborn as sns\n",
    "import matplotlib.pyplot as plt\n",
    "from tqdm.auto import tqdm\n",
    "\n",
    "from palettable.cmocean.sequential import Thermal_8\n",
    "from matplotlib import ticker\n",
    "\n",
    "sns.set(font_scale=2.5, style='whitegrid')\n",
    "palette = sns.color_palette(Thermal_8.mpl_colors)\n",
    "palette"
   ]
  },
  {
   "cell_type": "code",
   "execution_count": null,
   "metadata": {},
   "outputs": [],
   "source": [
    "import wandb\n",
    "\n",
    "def get_summary_metrics(sweep_id, config_keys=None, filter_func=None):\n",
    "  api = wandb.Api(timeout=60)\n",
    "  sweep = api.sweep(sweep_id)\n",
    "\n",
    "  data = []\n",
    "  for run in tqdm(sweep.runs, desc='Runs', leave=False):\n",
    "    cfg = {k: run.config[k] for k in config_keys or []}\n",
    "    if run.state != 'finished':\n",
    "      continue\n",
    "    if callable(filter_func) and not filter_func(cfg):\n",
    "      continue\n",
    "    data.append(dict(run_id=run.id, **cfg, **run.summary))\n",
    "\n",
    "  return sweep, pd.DataFrame(data)"
   ]
  },
  {
   "cell_type": "markdown",
   "metadata": {},
   "source": [
    "### CIFAR-10"
   ]
  },
  {
   "cell_type": "code",
   "execution_count": null,
   "metadata": {},
   "outputs": [],
   "source": [
    "# _, softmax = get_summary_metrics('deeplearn/data-aug-likelihood/ekte3la8',\n",
    "#                                     config_keys=['likelihood', 'seed', 'temperature', 'label_noise'])\n",
    "# _, dirichlet1 = get_summary_metrics('deeplearn/data-aug-likelihood/hzn8l7c4',\n",
    "#                                   config_keys=['likelihood', 'seed', 'noise', 'label_noise'])\n",
    "# dirichlet1['seed'] = -1\n",
    "# _, dirichlet23 = get_summary_metrics('deeplearn/data-aug-likelihood/nkoxl3ua',\n",
    "#                                      config_keys=['likelihood', 'seed', 'noise', 'label_noise'])\n",
    "# results = pd.concat([softmax, dirichlet1, dirichlet23]).reset_index().drop(columns=['index'])\n",
    "# results.to_csv('results/c10_label_noise.csv', index=False)"
   ]
  },
  {
   "cell_type": "markdown",
   "metadata": {},
   "source": [
    "### Tiny Imagenet"
   ]
  },
  {
   "cell_type": "code",
   "execution_count": null,
   "metadata": {},
   "outputs": [],
   "source": [
    "# _, softmax = get_summary_metrics('deeplearn/data-aug-likelihood/8pcuvf4s',\n",
    "#                                     config_keys=['likelihood', 'seed', 'temperature', 'label_noise'])\n",
    "# _, dirichlet = get_summary_metrics('deeplearn/data-aug-likelihood/z3z7nwgl',\n",
    "#                                   config_keys=['likelihood', 'seed', 'noise', 'label_noise'])\n",
    "# results = pd.concat([softmax, dirichlet]).reset_index().drop(columns=['index'])\n",
    "# results.to_csv('results/ti_label_noise.csv', index=False)"
   ]
  },
  {
   "cell_type": "code",
   "execution_count": null,
   "metadata": {},
   "outputs": [],
   "source": [
    "dataset = 'cifar10'\n",
    "# dataset = 'tiny-imagenet'\n",
    "if dataset == 'cifar10':\n",
    "    results = pd.read_csv('results/c10_label_noise.csv')\n",
    "elif dataset == 'tiny-imagenet':\n",
    "    results = pd.read_csv('results/ti_label_noise.csv')\n",
    "else:\n",
    "    raise NotImplementedError"
   ]
  },
  {
   "cell_type": "code",
   "execution_count": null,
   "metadata": {},
   "outputs": [],
   "source": [
    "## Get best noisy Dirichlet run by mean over seeds.\n",
    "_dirchlet_mean_acc = results[results.likelihood == 'dirichlet'].groupby(['label_noise', 'noise'])[['csgld/test/bma_acc', 'csgld/test/bma_ce_nll']].mean().reset_index()\n",
    "\n",
    "_best_dirichlet_mean = _dirchlet_mean_acc.iloc[_dirchlet_mean_acc.groupby(['label_noise'])['csgld/test/bma_acc'].idxmax()]\n",
    "_filter = results[results.likelihood == 'dirichlet'][['label_noise', 'noise']]\\\n",
    "        .apply(tuple, axis=1).isin([tuple(v) for v in _best_dirichlet_mean[['label_noise', 'noise']].values])\n",
    "\n",
    "best_dirichlet = results[results.likelihood == 'dirichlet'][_filter]"
   ]
  },
  {
   "cell_type": "code",
   "execution_count": null,
   "metadata": {},
   "outputs": [],
   "source": [
    "## Get best tempered softmax runs by mean over seeds\n",
    "_softmax_mean_acc = results[results.likelihood == 'softmax'].groupby(['label_noise', 'temperature'])[['csgld/test/bma_acc', 'csgld/test/bma_ce_nll']].mean().reset_index()\n",
    "\n",
    "_best_softmax_mean = _softmax_mean_acc.iloc[_softmax_mean_acc.groupby(['label_noise'])['csgld/test/bma_acc'].idxmax()]\n",
    "_filter = results[results.likelihood == 'softmax'][['label_noise', 'temperature']]\\\n",
    "        .apply(tuple, axis=1).isin([tuple(v) for v in _best_softmax_mean[['label_noise', 'temperature']].values])\n",
    "\n",
    "best_softmax = results[results.likelihood == 'softmax'][_filter]"
   ]
  },
  {
   "cell_type": "markdown",
   "metadata": {},
   "source": [
    "## Test Accuracy"
   ]
  },
  {
   "cell_type": "code",
   "execution_count": null,
   "metadata": {},
   "outputs": [],
   "source": [
    "# fig, ax = plt.subplots(figsize=(6.7,6.5))\n",
    "\n",
    "# sns.lineplot(ax=ax, data=results[(results.likelihood == 'softmax') & (results.temperature == 1)],\n",
    "#              x='label_noise', y='csgld/test/bma_acc',\n",
    "#              marker='o', markersize=18, linewidth=7, ci='sd', label=r'Softmax ($T = 1$)',\n",
    "#              color=palette[-4])\n",
    "\n",
    "# sns.lineplot(ax=ax, data=best_softmax, x='label_noise', y='csgld/test/bma_acc',\n",
    "#              marker='o', markersize=18, linewidth=7, ci='sd', label='Tempered Softmax',\n",
    "#              color=palette[2])\n",
    "# # sns.lineplot(ax=ax, data=_softmax_mean_acc, x='label_noise', y='csgld/test/bma_acc', style='temperature',\n",
    "# #              legend=False, alpha=.3, color=palette[2])\n",
    "# # for _, row in _best_softmax_mean.iterrows():\n",
    "# #     ax.text(row['label_noise'] - .05, row['csgld/test/bma_acc'] - .05, rf\"T={row['temperature']:0.0e}\",\n",
    "# #             fontsize=14, bbox=dict(facecolor=palette[2], alpha=.4))\n",
    "\n",
    "# sns.lineplot(ax=ax, data=best_dirichlet, x='label_noise', y='csgld/test/bma_acc',\n",
    "#              marker='o', markersize=18, linewidth=7, ci='sd', label='Noisy Dirichlet',\n",
    "#              color=palette[-3])\n",
    "# # sns.lineplot(ax=ax, data=_dirchlet_mean_acc, x='label_noise', y='csgld/test/bma_acc', style='noise',\n",
    "# #              legend=False, alpha=.3, color=palette[-3])\n",
    "# # for _, row in _best_dirichlet_mean.iterrows():\n",
    "# #     ax.text(row['label_noise'] - .05, row['csgld/test/bma_acc'] + .03,\n",
    "# #             rf\"$\\alpha_\\epsilon$={row['noise']:0.0e}\", fontsize=14, bbox=dict(facecolor=palette[-3], alpha=.4))\n",
    "\n",
    "# ax.legend(fontsize=22.5)\n",
    "# ax.legend().remove()\n",
    "\n",
    "# ax.set(xlabel='Label Noise', ylabel='BMA Test Accuracy')\n",
    "# fig.tight_layout()\n",
    "# fig.savefig('label_noise_acc.pdf', bbox_inches='tight')"
   ]
  },
  {
   "cell_type": "markdown",
   "metadata": {},
   "source": [
    "## Test NLL"
   ]
  },
  {
   "cell_type": "code",
   "execution_count": null,
   "metadata": {},
   "outputs": [],
   "source": [
    "# fig, ax = plt.subplots(figsize=(6.7,6.5))\n",
    "\n",
    "# sns.lineplot(ax=ax, data=results[(results.likelihood == 'softmax') & (results.temperature == 1)],\n",
    "#              x='label_noise', y='csgld/test/bma_ce_nll',\n",
    "#              marker='o', markersize=18, linewidth=7, ci='sd', label=r'Softmax ($T = 1$)',\n",
    "#              color=palette[-4])\n",
    "\n",
    "# sns.lineplot(ax=ax, data=best_softmax, x='label_noise', y='csgld/test/bma_ce_nll',\n",
    "#              marker='o', markersize=18, linewidth=7, ci='sd', label='Tempered Softmax',\n",
    "#              color=palette[2])\n",
    "# # sns.lineplot(ax=ax, data=_softmax_mean_acc, x='label_noise', y='csgld/test/bma_ce_nll', style='temperature',\n",
    "# #              legend=False, alpha=.3, color=palette[1])\n",
    "\n",
    "# sns.lineplot(ax=ax, data=best_dirichlet, x='label_noise', y='csgld/test/bma_ce_nll',\n",
    "#              marker='o', markersize=18, linewidth=7, ci='sd', label='Noisy Dirichlet',\n",
    "#              color=palette[-3])\n",
    "# # sns.lineplot(ax=ax, data=_dirchlet_mean_acc, x='label_noise', y='csgld/test/bma_ce_nll', style='noise',\n",
    "# #              legend=False, alpha=.3, color=palette[-3])\n",
    "\n",
    "# # ax.legend().remove()\n",
    "# ax.legend(fontsize=22)\n",
    "\n",
    "# ax.set(xlabel='Label Noise', ylabel='BMA Test NLL', xticks=[0., .25, .5, .75])\n",
    "# formatter = ticker.ScalarFormatter(useMathText=True)\n",
    "# formatter.set_scientific(True)\n",
    "# formatter.set_powerlimits((-1,1))\n",
    "# ax.yaxis.set_major_formatter(formatter)\n",
    "\n",
    "# fig.tight_layout()\n",
    "# # fig.savefig('label_noise_nll.pdf', bbox_inches='tight')"
   ]
  },
  {
   "cell_type": "markdown",
   "metadata": {},
   "source": [
    "## Combined"
   ]
  },
  {
   "cell_type": "code",
   "execution_count": null,
   "metadata": {},
   "outputs": [],
   "source": [
    "fig, axes = plt.subplots(ncols=2, figsize=(15,7.5), sharex=True)\n",
    "\n",
    "sns.lineplot(ax=axes[0], data=results[(results.likelihood == 'softmax') & (results.temperature == 1)],\n",
    "             x='label_noise', y='csgld/test/bma_acc',\n",
    "             marker='o', markersize=18, linewidth=7, ci='sd', label=r'Softmax ($T = 1$)',\n",
    "             color=palette[-4])\n",
    "\n",
    "sns.lineplot(ax=axes[0], data=best_softmax, x='label_noise', y='csgld/test/bma_acc',\n",
    "             marker='o', markersize=18, linewidth=7, ci='sd', label='Tempered Softmax',\n",
    "             color=palette[2])\n",
    "\n",
    "## Annotation Locations\n",
    "if dataset == 'cifar10':\n",
    "    x_all = [.15, .5, .5, .5, .6]\n",
    "    y_all = [.75, .5, .6, .5, .5]\n",
    "elif dataset == 'tiny-imagenet':\n",
    "    x_all = [.15, .5, .25, .5, .6]\n",
    "    y_all = [.45, .5, .3, .5, .1]\n",
    "\n",
    "for _i, ((_, row), _x, _y) in enumerate(zip(_best_softmax_mean.iterrows(), x_all, y_all)):\n",
    "    if _i % 2:\n",
    "        continue\n",
    "    axes[0].annotate(r\"$T^{*}$=\" + f\"{row['temperature']:.0e}\", xy=(row['label_noise'], row['csgld/test/bma_acc']),  xycoords='data',\n",
    "                     xytext=(_x, _y), textcoords='data', fontsize=23.5,\n",
    "                     arrowprops=dict(facecolor=palette[2], shrink=0.1, alpha=.6),\n",
    "                     horizontalalignment='right', verticalalignment='center')\n",
    "\n",
    "# for (_, row), dx, dy in zip(_best_softmax_mean.iterrows(), dx_all, dy_all):\n",
    "#     axes[0].text(row['label_noise'] + dx, row['csgld/test/bma_acc'] + dy, rf\"T={row['temperature']:0.0e}\",\n",
    "#             fontsize=18, color='white', bbox=dict(facecolor=palette[2], alpha=.7))\n",
    "\n",
    "sns.lineplot(ax=axes[0], data=best_dirichlet, x='label_noise', y='csgld/test/bma_acc',\n",
    "             marker='o', markersize=18, linewidth=7, ci='sd', label='Noisy Dirichlet',\n",
    "             color=palette[-3])\n",
    "\n",
    "## Annotation Locations\n",
    "if dataset == 'cifar10':\n",
    "    x_all = [.2, .5, .6, .5, .7]\n",
    "    y_all = [.95, .5, .9, .5, .8]\n",
    "elif dataset == 'tiny-imagenet':\n",
    "    x_all = [.2, .3, .4, .5, .6]\n",
    "    y_all = [.65, .6, .55, .5, .4]\n",
    "\n",
    "for _i, ((_, row), _x, _y) in enumerate(zip(_best_dirichlet_mean.iterrows(), x_all, y_all)):\n",
    "    if _i % 2:\n",
    "        continue\n",
    "    axes[0].annotate(r\"$\\alpha_\\epsilon^{*}$=\" + f\"{row['noise']:.0e}\", xy=(row['label_noise'], row['csgld/test/bma_acc']),  xycoords='data',\n",
    "                     xytext=(_x, _y), textcoords='data', fontsize=23.5,\n",
    "                     arrowprops=dict(facecolor=palette[-3], shrink=0.1, alpha=.6),\n",
    "                     horizontalalignment='left', verticalalignment='center')\n",
    "\n",
    "axes[0].legend(fontsize=26, loc='lower left')\n",
    "axes[0].legend().remove()\n",
    "\n",
    "axes[0].set(xlabel='Label Noise', ylabel='BMA Test Accuracy', xticks=[0.,.2,.4,.6,.8])\n",
    "\n",
    "###############################\n",
    "\n",
    "sns.lineplot(ax=axes[1], data=results[(results.likelihood == 'softmax') & (results.temperature == 1)],\n",
    "             x='label_noise', y='csgld/test/bma_ce_nll',\n",
    "             marker='o', markersize=18, linewidth=7, ci='sd', label=r'Softmax ($T = 1$)',\n",
    "             color=palette[-4])\n",
    "\n",
    "sns.lineplot(ax=axes[1], data=best_softmax, x='label_noise', y='csgld/test/bma_ce_nll',\n",
    "             marker='o', markersize=18, linewidth=7, ci='sd', label='Tempered Softmax',\n",
    "             color=palette[2])\n",
    "# sns.lineplot(ax=ax, data=_softmax_mean_acc, x='label_noise', y='csgld/test/bma_ce_nll', style='temperature',\n",
    "#              legend=False, alpha=.3, color=palette[1])\n",
    "\n",
    "sns.lineplot(ax=axes[1], data=best_dirichlet, x='label_noise', y='csgld/test/bma_ce_nll',\n",
    "             marker='o', markersize=18, linewidth=7, ci='sd', label='Noisy Dirichlet',\n",
    "             color=palette[-3])\n",
    "# sns.lineplot(ax=ax, data=_dirchlet_mean_acc, x='label_noise', y='csgld/test/bma_ce_nll', style='noise',\n",
    "#              legend=False, alpha=.3, color=palette[-3])\n",
    "\n",
    "axes[1].legend(fontsize=26, loc='upper left')\n",
    "# axes[1].legend().remove()\n",
    "\n",
    "axes[1].set(xlabel='Label Noise', ylabel='BMA Test NLL')\n",
    "formatter = ticker.ScalarFormatter(useMathText=True)\n",
    "formatter.set_scientific(True)\n",
    "formatter.set_powerlimits((-1,1))\n",
    "axes[1].yaxis.set_major_formatter(formatter)\n",
    "\n",
    "fig.tight_layout()\n",
    "fig.savefig('label_noise_acc_nll.pdf', bbox_inches='tight')"
   ]
  },
  {
   "cell_type": "markdown",
   "metadata": {},
   "source": []
  }
 ],
 "metadata": {
  "interpreter": {
   "hash": "ef16d1c2b9bdea86a9f19387e5c6274ab469aa69d27340e178608868525b66dc"
  },
  "kernelspec": {
   "display_name": "Python 3.9.7 64-bit ('data-aug-likelihood': conda)",
   "language": "python",
   "name": "python3"
  },
  "language_info": {
   "codemirror_mode": {
    "name": "ipython",
    "version": 3
   },
   "file_extension": ".py",
   "mimetype": "text/x-python",
   "name": "python",
   "nbconvert_exporter": "python",
   "pygments_lexer": "ipython3",
   "version": "3.9.9"
  },
  "orig_nbformat": 4
 },
 "nbformat": 4,
 "nbformat_minor": 2
}
