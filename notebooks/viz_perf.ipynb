{
 "cells": [
  {
   "cell_type": "code",
   "execution_count": null,
   "metadata": {},
   "outputs": [],
   "source": [
    "import os\n",
    "import pandas as pd\n",
    "import matplotlib.pyplot as plt\n",
    "import seaborn as sns\n",
    "from tqdm.auto import tqdm\n",
    "import wandb\n",
    "\n",
    "sns.set(font_scale=1.2, style='whitegrid')\n",
    "\n",
    "def get_metrics(sweep_id, keys=None, config_keys=None):\n",
    "  api = wandb.Api(timeout=60)\n",
    "  sweep = api.sweep(sweep_id)\n",
    "\n",
    "  if isinstance(keys, list):\n",
    "    keys.extend(['_runtime', '_step', '_timestamp'])\n",
    "    keys = list(set(keys))\n",
    "\n",
    "  data = []\n",
    "  for run in tqdm(sweep.runs, desc='Sweeps', leave=False):\n",
    "    cfg = {k: run.config[k] for k in config_keys or []}\n",
    "    for row in tqdm(run.scan_history(keys=keys), desc='History', leave=False):\n",
    "      data.append(dict(run_id=run.id, **cfg, **row))\n",
    "\n",
    "  return sweep, pd.DataFrame(data)\n",
    "\n",
    "def get_summary_metrics(sweep_id, config_keys=None):\n",
    "  api = wandb.Api(timeout=60)\n",
    "  sweep = api.sweep(sweep_id)\n",
    "\n",
    "  data = []\n",
    "  for run in tqdm(sweep.runs, desc='Sweeps', leave=False):\n",
    "    cfg = {k: run.config[k] for k in config_keys or []}\n",
    "    data.append(dict(run_id=run.id, **cfg, **run.summary))\n",
    "\n",
    "  return sweep, pd.DataFrame(data)"
   ]
  },
  {
   "cell_type": "code",
   "execution_count": null,
   "metadata": {},
   "outputs": [],
   "source": [
    "_, metrics = get_summary_metrics('deeplearn/data-aug-likelihood/j991kgwd', config_keys=['aug', 'temperature'])\n",
    "\n",
    "## Augmentation Likelihood\n",
    "_, aug_metrics = get_summary_metrics('deeplearn/data-aug-likelihood/3ty8kjvq', config_keys=['aug_scale', 'temperature'])"
   ]
  },
  {
   "cell_type": "code",
   "execution_count": null,
   "metadata": {},
   "outputs": [],
   "source": [
    "plt_data = metrics[['run_id', 'aug', 'temperature', 'test/bma_acc']].copy().reset_index()\n",
    "\n",
    "_tmp = aug_metrics[['run_id', 'temperature', 'test/bma_acc']].copy().reset_index()\n",
    "_tmp['aug'] = -1\n",
    "\n",
    "plt_data = pd.concat([plt_data, _tmp]).reset_index().drop(columns=['index'])\n",
    "\n",
    "plt_data"
   ]
  },
  {
   "cell_type": "code",
   "execution_count": null,
   "metadata": {},
   "outputs": [],
   "source": [
    "g = sns.relplot(data=plt_data, x='temperature', y='test/bma_acc', hue='aug', kind='line',\n",
    "                markers=True, dashes=False,\n",
    "                height=5, aspect=4/3, linewidth=3, palette=sns.color_palette('tab10', 3))\n",
    "g.set(xscale='log', xlabel=r'$T$', ylabel='Test Accuracy')\n",
    "g.legend.set_visible(False)\n",
    "\n",
    "h, l = g.ax.get_legend_handles_labels()\n",
    "l = ['Aug. Likelihood', 'No Augmentation', 'Augmentation']\n",
    "g.fig.legend(handles=h, labels=l, title='Training Mode', bbox_to_anchor=(.5, -0.05, .1, 0.),\n",
    "             loc='lower center', ncol=3, borderaxespad=-2, frameon=True)\n",
    "\n",
    "g.fig.tight_layout()\n",
    "# g.fig.savefig('accT.png', bbox_inches='tight')"
   ]
  },
  {
   "cell_type": "markdown",
   "metadata": {},
   "source": [
    "## Aug. Likelihood Sweep"
   ]
  },
  {
   "cell_type": "markdown",
   "metadata": {},
   "source": [
    "### cSGLD Aug. Scale v/s Prior Scale"
   ]
  },
  {
   "cell_type": "code",
   "execution_count": null,
   "metadata": {},
   "outputs": [],
   "source": [
    "_, metrics = get_summary_metrics('deeplearn/data-aug-likelihood/e1sdwmzy',\n",
    "                                 config_keys=['aug_scale', 'prior_scale', 'temperature'])\n",
    "metrics"
   ]
  },
  {
   "cell_type": "code",
   "execution_count": null,
   "metadata": {},
   "outputs": [],
   "source": [
    "metrics.temperature.unique()"
   ]
  },
  {
   "cell_type": "code",
   "execution_count": null,
   "metadata": {},
   "outputs": [],
   "source": [
    "T = 1e-3\n",
    "plt_data = metrics[metrics.temperature == T][['run_id', 'aug_scale', 'prior_scale', 'test/bma_acc']]\n",
    "plt_data = plt_data.pivot(index='aug_scale', columns='prior_scale', values='test/bma_acc')\n",
    "\n",
    "fig, ax = plt.subplots(figsize=(7, 7))\n",
    "g = sns.heatmap(data=plt_data, ax=ax, fmt='.4f', linewidths=1.,\n",
    "                annot=True, annot_kws=dict(fontsize=14),\n",
    "                cbar=True, cbar_kws=dict(shrink=.5),\n",
    "                yticklabels=plt_data.index,\n",
    "                cmap=sns.color_palette('summer'))\n",
    "g.set(xlabel=r'Prior Scale ($\\sigma)$', ylabel=r'Aug. Scale ($\\epsilon$)', title=rf'cSGLD at $T = {T}$ with Random Aug.')\n",
    "g.set_xticklabels(g.get_xticklabels(), fontdict=dict(size=16))\n",
    "g.set_yticklabels(g.get_yticklabels(), fontdict=dict(size=12))\n",
    "fig.tight_layout()\n",
    "\n",
    "# fig.savefig('csgld_aug_lik_scales_cold.png', bbox_inches='tight')"
   ]
  },
  {
   "cell_type": "markdown",
   "metadata": {},
   "source": [
    "### SGD Aug. Scale v/s Prior Scale"
   ]
  },
  {
   "cell_type": "code",
   "execution_count": null,
   "metadata": {},
   "outputs": [],
   "source": [
    "_, metrics = get_summary_metrics('deeplearn/data-aug-likelihood/mre7c18c',\n",
    "                                 config_keys=['aug_scale', 'prior_scale'])\n",
    "metrics"
   ]
  },
  {
   "cell_type": "code",
   "execution_count": null,
   "metadata": {},
   "outputs": [],
   "source": [
    "plt_data = metrics[['run_id', 'aug_scale', 'prior_scale', 'test/best_acc']]\n",
    "plt_data = plt_data.pivot(index='aug_scale', columns='prior_scale', values='test/best_acc')\n",
    "\n",
    "fig, ax = plt.subplots(figsize=(7, 7))\n",
    "g = sns.heatmap(data=plt_data, ax=ax, fmt='.3f', linewidths=1.,\n",
    "                annot=True, annot_kws=dict(fontsize=14),\n",
    "                cbar=True, cbar_kws=dict(shrink=.5),\n",
    "                yticklabels=plt_data.index,\n",
    "                cmap=sns.color_palette('summer'))\n",
    "g.set(xlabel=r'Prior Scale ($\\sigma)$', ylabel=r'Aug. Scale ($\\epsilon$)', title='SGD with Fixed Aug.')\n",
    "g.set_xticklabels(g.get_xticklabels(), fontdict=dict(size=16))\n",
    "g.set_yticklabels(g.get_yticklabels(), fontdict=dict(size=12))\n",
    "fig.tight_layout()\n",
    "\n",
    "# fig.savefig('sgd_aug_lik_scales.png', bbox_inches='tight')"
   ]
  },
  {
   "cell_type": "markdown",
   "metadata": {},
   "source": [
    "### SGD Prior Scale with or without Random Data Augmentation\n",
    "\n",
    "This is the usual way of doing things, just with an explicit prior."
   ]
  },
  {
   "cell_type": "code",
   "execution_count": null,
   "metadata": {},
   "outputs": [],
   "source": [
    "_, metrics = get_summary_metrics('deeplearn/data-aug-likelihood/zay9l79c',\n",
    "                                 config_keys=['aug', 'prior_scale'])\n",
    "metrics"
   ]
  },
  {
   "cell_type": "code",
   "execution_count": null,
   "metadata": {},
   "outputs": [],
   "source": [
    "plt_data = metrics[['run_id', 'aug', 'prior_scale', 'test/best_acc']]\n",
    "plt_data = plt_data.pivot(index='aug', columns='prior_scale', values='test/best_acc')\n",
    "\n",
    "fig, ax = plt.subplots(figsize=(7, 3))\n",
    "g = sns.heatmap(data=plt_data, ax=ax, fmt='.3f', linewidths=1.,\n",
    "                annot=True, annot_kws=dict(fontsize=14),\n",
    "                cbar=True, cbar_kws=dict(shrink=.5),\n",
    "                yticklabels=plt_data.index,\n",
    "                cmap=sns.color_palette('summer'))\n",
    "g.set(xlabel=r'Prior Scale ($\\sigma)$', ylabel=r'Aug. (?)', title='SGD with Random Data Aug.')\n",
    "g.set_xticklabels(g.get_xticklabels(), fontdict=dict(size=16))\n",
    "g.set_yticklabels(g.get_yticklabels(), fontdict=dict(size=12))\n",
    "fig.tight_layout()\n",
    "\n",
    "# fig.savefig('sgd_lik_scales.png', bbox_inches='tight')"
   ]
  },
  {
   "cell_type": "markdown",
   "metadata": {},
   "source": [
    "### SGD Prior Scale with Fixed Set of Data Augmentations"
   ]
  },
  {
   "cell_type": "code",
   "execution_count": null,
   "metadata": {},
   "outputs": [],
   "source": [
    "_, metrics = get_summary_metrics('deeplearn/data-aug-likelihood/sjcc8rjk',\n",
    "                                 config_keys=['prior_scale'])\n",
    "metrics"
   ]
  },
  {
   "cell_type": "code",
   "execution_count": null,
   "metadata": {},
   "outputs": [],
   "source": [
    "plt_data = metrics[['run_id', 'train/epoch', 'prior_scale', 'test/best_acc']]\n",
    "plt_data = plt_data.pivot(index='train/epoch', columns='prior_scale', values='test/best_acc')\n",
    "\n",
    "fig, ax = plt.subplots(figsize=(7, 2))\n",
    "g = sns.heatmap(data=plt_data, ax=ax, fmt='.3f', linewidths=1.,\n",
    "                annot=True, annot_kws=dict(fontsize=14),\n",
    "                cbar=True, cbar_kws=dict(shrink=.5),\n",
    "                yticklabels=plt_data.index,\n",
    "                cmap=sns.color_palette('summer'))\n",
    "g.set(xlabel=r'Prior Scale ($\\sigma)$', ylabel=r'', title='SGD with Fixed Data Aug.')\n",
    "g.set_xticklabels(g.get_xticklabels(), fontdict=dict(size=16))\n",
    "g.set_yticklabels([], fontdict=dict(size=12))\n",
    "fig.tight_layout()\n",
    "\n",
    "fig.savefig('sgd_lik_scales_fixed_aug.png', bbox_inches='tight')"
   ]
  },
  {
   "cell_type": "markdown",
   "metadata": {},
   "source": [
    "## cSGLD with Fixed Set of Data Augmentations"
   ]
  },
  {
   "cell_type": "code",
   "execution_count": null,
   "metadata": {},
   "outputs": [],
   "source": [
    "_, metrics = get_summary_metrics('deeplearn/data-aug-likelihood/o7gy31ps',\n",
    "                                 config_keys=['aug', 'prior_scale', 'temperature'])\n",
    "metrics"
   ]
  },
  {
   "cell_type": "code",
   "execution_count": null,
   "metadata": {},
   "outputs": [],
   "source": [
    "T = .5\n",
    "plt_data = metrics[metrics.temperature == T][['run_id', 'aug', 'prior_scale', 'test/bma_acc']]\n",
    "plt_data = plt_data.pivot(index='aug', columns='prior_scale', values='test/bma_acc')\n",
    "\n",
    "fig, ax = plt.subplots(figsize=(7, 3))\n",
    "g = sns.heatmap(data=plt_data, ax=ax, fmt='.3f', linewidths=1.,\n",
    "                annot=True, annot_kws=dict(fontsize=14),\n",
    "                cbar=True, cbar_kws=dict(shrink=.5),\n",
    "                yticklabels=plt_data.index,\n",
    "                cmap=sns.color_palette('summer'))\n",
    "g.set(xlabel=r'Prior Scale ($\\sigma)$', ylabel=r'Aug. Scale ($\\epsilon$)', title=rf'cSGLD at $T = {T}$ with Fixed Aug.')\n",
    "g.set_xticklabels(g.get_xticklabels(), fontdict=dict(size=16))\n",
    "g.set_yticklabels(g.get_yticklabels(), fontdict=dict(size=12))\n",
    "fig.tight_layout()\n",
    "\n",
    "fig.savefig('csgld_fixed_aug_cold.png', bbox_inches='tight')"
   ]
  },
  {
   "cell_type": "markdown",
   "metadata": {},
   "source": [
    "### cSGLD + Fixed Aug + FRN Layer"
   ]
  },
  {
   "cell_type": "code",
   "execution_count": null,
   "metadata": {},
   "outputs": [],
   "source": [
    "_, metrics = get_summary_metrics('deeplearn/data-aug-likelihood/9vf05eep',\n",
    "                                 config_keys=['aug', 'prior_scale', 'temperature'])\n",
    "metrics"
   ]
  },
  {
   "cell_type": "code",
   "execution_count": null,
   "metadata": {},
   "outputs": [],
   "source": [
    "T = 1\n",
    "plt_data = metrics[['run_id', 'aug', 'prior_scale', 'test/bma_acc']]\n",
    "plt_data = plt_data.pivot(index='aug', columns='prior_scale', values='test/bma_acc')\n",
    "\n",
    "fig, ax = plt.subplots(figsize=(7, 3))\n",
    "g = sns.heatmap(data=plt_data, ax=ax, fmt='.3f', linewidths=1.,\n",
    "                annot=True, annot_kws=dict(fontsize=14),\n",
    "                cbar=True, cbar_kws=dict(shrink=.5),\n",
    "                yticklabels=plt_data.index,\n",
    "                cmap=sns.color_palette('summer'))\n",
    "g.set(xlabel=r'Prior Scale ($\\sigma)$', ylabel=r'Aug. Scale ($\\epsilon$)', title=rf'cSGLD at $T = {T}$ with Fixed Aug + FRN Layer')\n",
    "g.set_xticklabels(g.get_xticklabels(), fontdict=dict(size=16))\n",
    "g.set_yticklabels(g.get_yticklabels(), fontdict=dict(size=12))\n",
    "fig.tight_layout()\n",
    "\n",
    "# fig.savefig('csgld_fixed_aug_frn.png', bbox_inches='tight')"
   ]
  },
  {
   "cell_type": "code",
   "execution_count": null,
   "metadata": {},
   "outputs": [],
   "source": [
    "_, metrics = get_summary_metrics('deeplearn/data-aug-likelihood/5lady5ar',\n",
    "                                 config_keys=['aug_scale', 'prior_scale'])\n",
    "metrics"
   ]
  },
  {
   "cell_type": "code",
   "execution_count": null,
   "metadata": {},
   "outputs": [],
   "source": [
    "T = 1\n",
    "plt_data = metrics[['run_id', 'aug_scale', 'prior_scale', 'test/bma_acc']]\n",
    "plt_data = plt_data.pivot(index='aug_scale', columns='prior_scale', values='test/bma_acc')\n",
    "\n",
    "fig, ax = plt.subplots(figsize=(7, 7))\n",
    "g = sns.heatmap(data=plt_data, ax=ax, fmt='.3f', linewidths=1.,\n",
    "                annot=True, annot_kws=dict(fontsize=14),\n",
    "                cbar=True, cbar_kws=dict(shrink=.5),\n",
    "                yticklabels=plt_data.index,\n",
    "                cmap=sns.color_palette('summer'))\n",
    "g.set(xlabel=r'Prior Scale ($\\sigma)$', ylabel=r'Aug. Scale ($\\epsilon$)', title=rf'cSGLD at $T = {T}$ with Avg. Aug + FRN Layer')\n",
    "g.set_xticklabels(g.get_xticklabels(), fontdict=dict(size=16))\n",
    "g.set_yticklabels(g.get_yticklabels(), fontdict=dict(size=12))\n",
    "fig.tight_layout()\n",
    "\n",
    "# fig.savefig('csgld_avg_aug_frn.png', bbox_inches='tight')"
   ]
  },
  {
   "cell_type": "markdown",
   "metadata": {},
   "source": [
    "## Noisy Dirichlet Likelihoods"
   ]
  },
  {
   "cell_type": "code",
   "execution_count": null,
   "metadata": {},
   "outputs": [],
   "source": [
    "## Noisy Dirichlet\n",
    "_, metrics = get_summary_metrics('deeplearn/data-aug-likelihood/wou01xes',\n",
    "                                 config_keys=['augment', 'temperature'])\n",
    "\n",
    "## Noisy Dirichlet + KL Consistency\n",
    "_, metrics_consistency = get_summary_metrics('deeplearn/data-aug-likelihood/2irgmpw7',\n",
    "                                 config_keys=['temperature'])\n",
    "metrics_consistency['augment'] = -1\n",
    "metrics = pd.concat([metrics, metrics_consistency]).reset_index()\n",
    "metrics"
   ]
  },
  {
   "cell_type": "code",
   "execution_count": null,
   "metadata": {},
   "outputs": [],
   "source": [
    "g = sns.relplot(data=metrics, x='temperature', y='csgld/test/bma_acc', hue='augment', kind='line',\n",
    "                markers=True, dashes=False,\n",
    "                height=5, aspect=4/3, linewidth=3, palette=sns.color_palette('tab10', 3))\n",
    "g.set(xscale='log', xlabel=r'$T$', ylabel='BMA Accuracy')\n",
    "g.fig.savefig('save.png', bbox_inches='tight')"
   ]
  },
  {
   "cell_type": "markdown",
   "metadata": {},
   "source": [
    "## Noisy Labels"
   ]
  },
  {
   "cell_type": "code",
   "execution_count": null,
   "metadata": {},
   "outputs": [],
   "source": [
    "## Softmax\n",
    "_, softmax_metrics = get_summary_metrics('deeplearn/data-aug-likelihood/4ypwsj0k',\n",
    "                                         config_keys=['label_noise', 'temperature'])\n",
    "softmax_metrics['kind'] = 'softmax'\n",
    "softmax_metrics['noise'] = float('NaN')\n",
    "\n",
    "## Noisy Dirichlet\n",
    "_, dirichlet_metrics = get_summary_metrics('deeplearn/data-aug-likelihood/zboj4e6h',\n",
    "                                           config_keys=['label_noise', 'noise', 'temperature'])\n",
    "dirichlet_metrics['kind'] = 'dirichlet'\n",
    "\n",
    "metrics = pd.concat([softmax_metrics, dirichlet_metrics[dirichlet_metrics.temperature == 1]]).reset_index()"
   ]
  },
  {
   "cell_type": "code",
   "execution_count": null,
   "metadata": {},
   "outputs": [],
   "source": [
    "# metrics = pd.read_csv('label_noise.csv')\n",
    "best_metrics = metrics.iloc[metrics.groupby(by=['kind', 'label_noise'])['csgld/test/bma_acc'].idxmax().values].reset_index()"
   ]
  },
  {
   "cell_type": "code",
   "execution_count": null,
   "metadata": {},
   "outputs": [],
   "source": [
    "g = sns.relplot(data=best_metrics, x='label_noise', y='csgld/test/bma_acc', hue='kind',\n",
    "                kind='line', marker='o', markersize=10,\n",
    "                height=5, aspect=4/3, linewidth=3, palette=sns.color_palette('tab10', 2))\n",
    "\n",
    "sns.lineplot(ax=g.ax, data=metrics[metrics.kind == 'dirichlet'], x='label_noise', y='csgld/test/bma_acc',\n",
    "             style='noise', legend=False,\n",
    "             linewidth=1, alpha=.5, color=sns.color_palette('tab10', 2)[0])\n",
    "\n",
    "sns.lineplot(ax=g.ax, data=metrics[metrics.kind == 'softmax'], x='label_noise', y='csgld/test/bma_acc',\n",
    "             style='temperature', legend=False,\n",
    "             linewidth=1, alpha=.5, color=sns.color_palette('tab10', 2)[1])\n",
    "\n",
    "g.set(xlabel='Label Noise', ylabel='Test BMA Accuracy')\n",
    "\n",
    "g.fig.savefig('label_noise.pdf', bbox_inches='tight')"
   ]
  }
 ],
 "metadata": {
  "interpreter": {
   "hash": "ef16d1c2b9bdea86a9f19387e5c6274ab469aa69d27340e178608868525b66dc"
  },
  "kernelspec": {
   "display_name": "Python 3.9.7 64-bit ('data-aug-likelihood': conda)",
   "language": "python",
   "name": "python3"
  },
  "language_info": {
   "codemirror_mode": {
    "name": "ipython",
    "version": 3
   },
   "file_extension": ".py",
   "mimetype": "text/x-python",
   "name": "python",
   "nbconvert_exporter": "python",
   "pygments_lexer": "ipython3",
   "version": "3.9.9"
  },
  "orig_nbformat": 4
 },
 "nbformat": 4,
 "nbformat_minor": 2
}
