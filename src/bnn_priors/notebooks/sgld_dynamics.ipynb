{
 "cells": [
  {
   "cell_type": "code",
   "execution_count": 1,
   "id": "75ff6e9b",
   "metadata": {},
   "outputs": [],
   "source": [
    "import matplotlib.pyplot as plt"
   ]
  },
  {
   "cell_type": "code",
   "execution_count": 2,
   "id": "69056c84",
   "metadata": {},
   "outputs": [],
   "source": [
    "import torch"
   ]
  },
  {
   "cell_type": "code",
   "execution_count": 3,
   "id": "b238575c",
   "metadata": {},
   "outputs": [],
   "source": [
    "x = torch.randn(30, 1)\n",
    "y = 1.2 * x + 0.1 * torch.randn_like(x)"
   ]
  },
  {
   "cell_type": "code",
   "execution_count": 4,
   "id": "bd594875",
   "metadata": {},
   "outputs": [
    {
     "data": {
      "text/plain": [
       "<matplotlib.collections.PathCollection at 0x7f3b3bab64f0>"
      ]
     },
     "execution_count": 4,
     "metadata": {},
     "output_type": "execute_result"
    },
    {
     "data": {
      "image/png": "[encoded data removed]",
      "text/plain": [
       "<Figure size 432x288 with 1 Axes>"
      ]
     },
     "metadata": {
      "needs_background": "light"
     },
     "output_type": "display_data"
    }
   ],
   "source": [
    "plt.scatter(x, y)"
   ]
  },
  {
   "cell_type": "code",
   "execution_count": 12,
   "id": "e5f7ec87",
   "metadata": {},
   "outputs": [],
   "source": [
    "theta_init = torch.zeros(2)\n",
    "gamma = 2.0\n",
    "epsilon = 1e-3"
   ]
  },
  {
   "cell_type": "code",
   "execution_count": 13,
   "id": "b291588c",
   "metadata": {},
   "outputs": [],
   "source": [
    "N = x.shape[0]"
   ]
  },
  {
   "cell_type": "code",
   "execution_count": 14,
   "id": "cda11b9b",
   "metadata": {},
   "outputs": [],
   "source": [
    "theta = torch.zeros(5000, 2)\n",
    "theta[0] = 2. * torch.randn(2)\n",
    "\n",
    "for i in range(1, 5000):\n",
    "    z = 1. * torch.randn(30, 1)\n",
    "    \n",
    "    update1 = -y.t() @ x + x.t() @ x * theta[i-1,0] + x.t() @ z * theta[i-1,1] + theta[i-1,0]/gamma**2\n",
    "    update2 = -z.t() @ y + z.t() @ x * theta[i-1,0] + z.t() @ z * theta[i-1,1] + theta[i-1,1]/gamma**2\n",
    "    update = torch.stack((update1,update2)).squeeze()\n",
    "    theta[i] = theta[i-1] - (epsilon / 2) * update + epsilon**0.5 * torch.randn(2)"
   ]
  },
  {
   "cell_type": "code",
   "execution_count": 46,
   "id": "26c3b0d8",
   "metadata": {},
   "outputs": [],
   "source": [
    "thetac2 = torch.zeros(5000, 2)\n",
    "thetac2[0] = 2. * torch.randn(2)\n",
    "\n",
    "for i in range(1, 5000):\n",
    "    z = 0. * torch.randn(30, 1)\n",
    "    \n",
    "    update1 = -y.t() @ x + x.t() @ x * thetac2[i-1,0] + x.t() @ z * thetac2[i-1,1] + thetac2[i-1,0]/gamma**2\n",
    "    update2 = -z.t() @ y + z.t() @ x * thetac2[i-1,0] + z.t() @ z * thetac2[i-1,1] + thetac2[i-1,1]/gamma**2\n",
    "    update = torch.stack((update1,update2)).squeeze()\n",
    "    thetac2[i] = thetac2[i-1] - (epsilon / 2) * update + (0.01 * epsilon)**0.5 * torch.randn(2)"
   ]
  },
  {
   "cell_type": "code",
   "execution_count": 36,
   "id": "5ed0f13d",
   "metadata": {},
   "outputs": [],
   "source": [
    "thetac = torch.zeros(5000, 2)\n",
    "thetac[0] = 2. * torch.randn(2)\n",
    "\n",
    "for i in range(1, 5000):\n",
    "    z = 1. * torch.randn(30, 1)\n",
    "    \n",
    "    update1 = -y.t() @ x + x.t() @ x * thetac[i-1,0] + x.t() @ z * thetac[i-1,1] + thetac[i-1,0]/gamma**2\n",
    "    update2 = -z.t() @ y + z.t() @ x * thetac[i-1,0] + z.t() @ z * thetac[i-1,1] + thetac[i-1,1]/gamma**2\n",
    "    update = torch.stack((update1,update2)).squeeze() / 0.01\n",
    "    thetac[i] = thetac[i-1] - (epsilon / 2) * update + epsilon**0.5 * torch.randn(2)"
   ]
  },
  {
   "cell_type": "code",
   "execution_count": 47,
   "id": "b94de95c",
   "metadata": {},
   "outputs": [
    {
     "data": {
      "text/plain": [
       "<matplotlib.legend.Legend at 0x7f3b38204d90>"
      ]
     },
     "execution_count": 47,
     "metadata": {},
     "output_type": "execute_result"
    },
    {
     "data": {
      "image/png": "[encoded data removed]",
      "text/plain": [
       "<Figure size 432x288 with 1 Axes>"
      ]
     },
     "metadata": {
      "needs_background": "light"
     },
     "output_type": "display_data"
    }
   ],
   "source": [
    "# plt.scatter(*theta.t(), s=1, label = \"True Posterior\")\n",
    "# plt.scatter(*thetac.t(), s=1, alpha = 0.3, label = \"Cold Posterior - Potential\")\n",
    "plt.scatter(*thetac2.t(), s=1, alpha = 0.3, label = \"Cold Posterior - Noise\")\n",
    "plt.xlabel(\"x1\")\n",
    "plt.ylabel(\"x2\")\n",
    "\n",
    "# plt.xlim((0, 2))\n",
    "# plt.ylim((-1, 1))\n",
    "plt.legend()"
   ]
  },
  {
   "cell_type": "code",
   "execution_count": 42,
   "id": "1b69dee5",
   "metadata": {},
   "outputs": [
    {
     "data": {
      "text/plain": [
       "tensor([[ 0.0305, -0.0012],\n",
       "        [-0.0012,  0.0300]])"
      ]
     },
     "execution_count": 42,
     "metadata": {},
     "output_type": "execute_result"
    }
   ],
   "source": [
    "torch.cov(theta[-2500:].t()) # zero variance on z"
   ]
  },
  {
   "cell_type": "code",
   "execution_count": 43,
   "id": "93a1022c",
   "metadata": {},
   "outputs": [
    {
     "data": {
      "text/plain": [
       "tensor([[0.0003, 0.0004],\n",
       "        [0.0004, 0.0821]])"
      ]
     },
     "execution_count": 43,
     "metadata": {},
     "output_type": "execute_result"
    }
   ],
   "source": [
    "torch.cov(thetac2[-3500:].t()) # variance 1 on z"
   ]
  },
  {
   "cell_type": "code",
   "execution_count": 26,
   "id": "3a527a44",
   "metadata": {},
   "outputs": [
    {
     "data": {
      "text/plain": [
       "tensor([[0.0284]])"
      ]
     },
     "execution_count": 26,
     "metadata": {},
     "output_type": "execute_result"
    }
   ],
   "source": [
    "(x.t()@x + 1/gamma*2).pow(-1.0)"
   ]
  },
  {
   "cell_type": "code",
   "execution_count": 68,
   "id": "6a915977",
   "metadata": {},
   "outputs": [],
   "source": [
    "gamma = 0.1\n",
    "\n",
    "def post_var_function_of_z(z_scale = 1.0):\n",
    "    theta = torch.zeros(5000, 2)\n",
    "    theta[0] = gamma * torch.randn(2)\n",
    "\n",
    "    for i in range(1, 5000):\n",
    "        z = z_scale * torch.randn(30, 1)\n",
    "\n",
    "        update1 = -y.t() @ x + x.t() @ x * theta[i-1,0] + x.t() @ z * theta[i-1,1] + theta[i-1,0]/gamma**2\n",
    "        update2 = -z.t() @ y + z.t() @ x * theta[i-1,0] + z.t() @ z * theta[i-1,1] + theta[i-1,1]/gamma**2\n",
    "        update = torch.stack((update1,update2)).squeeze()\n",
    "        theta[i] = theta[i-1] - (epsilon / 2) * update + epsilon**0.5 * torch.randn(2)\n",
    "    return torch.cov(theta[-2500:].t())"
   ]
  },
  {
   "cell_type": "code",
   "execution_count": 62,
   "id": "1e042eb3",
   "metadata": {},
   "outputs": [],
   "source": [
    "z_scales = [1e-4, 0.001, 0.01, 0.1, 1.0, 2.0]\n",
    "\n",
    "var_theta0 = [[post_var_function_of_z(z)[0,0] for z in z_scales] for _ in range(3)]"
   ]
  },
  {
   "cell_type": "code",
   "execution_count": 67,
   "id": "a955ece5",
   "metadata": {},
   "outputs": [
    {
     "data": {
      "text/plain": [
       "[tensor(0.0018),\n",
       " tensor(0.0018),\n",
       " tensor(0.0017),\n",
       " tensor(0.0018),\n",
       " tensor(0.0018)]"
      ]
     },
     "execution_count": 67,
     "metadata": {},
     "output_type": "execute_result"
    }
   ],
   "source": [
    "[post_var_function_of_z(0)[0,0] for _ in range(5)]"
   ]
  },
  {
   "cell_type": "code",
   "execution_count": 63,
   "id": "631bbf85",
   "metadata": {},
   "outputs": [
    {
     "data": {
      "text/plain": [
       "tensor([[0.0424]])"
      ]
     },
     "execution_count": 63,
     "metadata": {},
     "output_type": "execute_result"
    }
   ],
   "source": [
    "(x.t()@x + 1/gamma*2).pow(-1.0)"
   ]
  },
  {
   "cell_type": "code",
   "execution_count": 25,
   "id": "76b578ee",
   "metadata": {},
   "outputs": [],
   "source": [
    "def get_random_var(z_scale=1.0):\n",
    "    z = z_scale * torch.randn(30, 1)\n",
    "    features = torch.cat((x, z),dim=-1)\n",
    "    covmat = features.t() @ features + torch.eye(2) / gamma**2\n",
    "    return covmat.inverse()[0,0]\n"
   ]
  },
  {
   "cell_type": "code",
   "execution_count": 26,
   "id": "620ca370",
   "metadata": {},
   "outputs": [],
   "source": [
    "all_rand_vars = torch.tensor([[get_random_var(z) for z in z_scales] for _ in range(1000)])"
   ]
  },
  {
   "cell_type": "code",
   "execution_count": 27,
   "id": "9051eb11",
   "metadata": {},
   "outputs": [],
   "source": [
    "def get_scalarization_post(z_scale=1.0, repeats = 5):\n",
    "    feat_list = []\n",
    "    for _ in range(repeats):\n",
    "        z = z_scale * torch.randn(30, 1)\n",
    "        feat_list.append(torch.cat((x, z),dim=-1))\n",
    "    features = torch.cat(feat_list, dim=0)\n",
    "    # print(features.shape)\n",
    "    covmat = features.t() @ features + torch.eye(2) / gamma**2\n",
    "    return covmat.inverse()[0,0]"
   ]
  },
  {
   "cell_type": "code",
   "execution_count": 28,
   "id": "13e4cc25",
   "metadata": {},
   "outputs": [],
   "source": [
    "all_5x_repeats = torch.tensor([[get_scalarization_post(z, repeats=5) for z in z_scales] for _ in range(1000)])"
   ]
  },
  {
   "cell_type": "code",
   "execution_count": 29,
   "id": "e0ae1441",
   "metadata": {},
   "outputs": [
    {
     "data": {
      "text/plain": [
       "tensor([0.0088, 0.0088, 0.0089, 0.0089])"
      ]
     },
     "execution_count": 29,
     "metadata": {},
     "output_type": "execute_result"
    }
   ],
   "source": [
    "all_5x_repeats.mean(0)"
   ]
  },
  {
   "cell_type": "code",
   "execution_count": 30,
   "id": "b5e36ccf",
   "metadata": {},
   "outputs": [],
   "source": [
    "all_20x_repeats = torch.tensor([[get_scalarization_post(z, repeats=20) for z in z_scales] for _ in range(1000)])"
   ]
  },
  {
   "cell_type": "code",
   "execution_count": 65,
   "id": "b567b8d5",
   "metadata": {},
   "outputs": [
    {
     "data": {
      "text/plain": [
       "Text(0.5, 0, 'Stddev of z')"
      ]
     },
     "execution_count": 65,
     "metadata": {},
     "output_type": "execute_result"
    },
    {
     "data": {
      "image/png": "[encoded data removed]",
      "text/plain": [
       "<Figure size 432x288 with 1 Axes>"
      ]
     },
     "metadata": {
      "needs_background": "light"
     },
     "output_type": "display_data"
    }
   ],
   "source": [
    "plt.scatter(z_scales, torch.tensor(var_theta0).mean(0), label = \"Random SGLD Posterior\")\n",
    "# plt.scatter(z_scales, all_rand_vars.mean(0), label = \"Exp. Nuisance Posterior\", color = \"green\")\n",
    "# plt.scatter(z_scales, all_5x_repeats.mean(0), label = \"Exp. 5x Repeat Posterior\", color = \"orange\")\n",
    "# plt.scatter(z_scales, all_20x_repeats.mean(0), label = \"Exp. 20x Repeat Posterior\", color = \"brown\")\n",
    "# plt.axhline((x.t()@x + 1/gamma*2).pow(-1.0), color = \"red\", label = \"Original Bayesian Posterior\")\n",
    "plt.semilogx()\n",
    "plt.semilogy()\n",
    "plt.ylabel(\"Variance of theta0\")\n",
    "plt.legend()\n",
    "\n",
    "plt.xlabel(\"Stddev of z\")"
   ]
  },
  {
   "cell_type": "code",
   "execution_count": 20,
   "id": "df868aeb",
   "metadata": {},
   "outputs": [],
   "source": [
    "ranges = torch.linspace(1, 5000, 500).long()\n",
    "repeat_ranges = torch.tensor([get_scalarization_post(repeats=x) for x in ranges])"
   ]
  },
  {
   "cell_type": "code",
   "execution_count": 21,
   "id": "8aeb152a",
   "metadata": {},
   "outputs": [
    {
     "data": {
      "text/plain": [
       "Text(0, 0.5, 'Posterior Variance')"
      ]
     },
     "execution_count": 21,
     "metadata": {},
     "output_type": "execute_result"
    },
    {
     "data": {
      "image/png": "[encoded data removed]",
      "text/plain": [
       "<Figure size 432x288 with 1 Axes>"
      ]
     },
     "metadata": {
      "needs_background": "light"
     },
     "output_type": "display_data"
    }
   ],
   "source": [
    "plt.plot(ranges, repeat_ranges, marker = \"x\", label = \"Augmented Posterior\")\n",
    "plt.axhline(torch.tensor(var_theta0)[..., 0].mean(), color = \"black\", label = \"SGLD Posterior\")\n",
    "plt.semilogx()\n",
    "plt.semilogy()\n",
    "plt.legend()\n",
    "plt.xlabel(\"Number of Repeats\")\n",
    "plt.ylabel(\"Posterior Variance\")"
   ]
  },
  {
   "cell_type": "code",
   "execution_count": 22,
   "id": "3fc635ee",
   "metadata": {},
   "outputs": [
    {
     "data": {
      "text/plain": [
       "tensor(21)"
      ]
     },
     "execution_count": 22,
     "metadata": {},
     "output_type": "execute_result"
    }
   ],
   "source": [
    "ranges[2]"
   ]
  },
  {
   "cell_type": "code",
   "execution_count": null,
   "id": "79ff0ecc",
   "metadata": {},
   "outputs": [],
   "source": []
  }
 ],
 "metadata": {
  "kernelspec": {
   "display_name": "Python 3 (ipykernel)",
   "language": "python",
   "name": "python3"
  },
  "language_info": {
   "codemirror_mode": {
    "name": "ipython",
    "version": 3
   },
   "file_extension": ".py",
   "mimetype": "text/x-python",
   "name": "python",
   "nbconvert_exporter": "python",
   "pygments_lexer": "ipython3",
   "version": "3.9.5"
  }
 },
 "nbformat": 4,
 "nbformat_minor": 5
}
