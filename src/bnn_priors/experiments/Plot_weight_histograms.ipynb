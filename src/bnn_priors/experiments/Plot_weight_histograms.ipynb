{
 "cells": [
  {
   "cell_type": "code",
   "execution_count": null,
   "metadata": {},
   "outputs": [],
   "source": [
    "import os\n",
    "from glob import glob\n",
    "import pandas as pd\n",
    "import numpy as np\n",
    "from scipy import stats\n",
    "from matplotlib import pyplot as plt\n",
    "from matplotlib.backends.backend_pdf import PdfPages\n",
    "from matplotlib import gridspec as plt_gridspec\n",
    "import json\n",
    "import torch\n",
    "\n",
    "from bnn_priors.exp_utils import load_samples\n",
    "from bnn_priors.notebook_utils import collect_runs\n",
    "from bnn_priors import plot\n",
    "from gpytorch.distributions import MultivariateNormal\n",
    "from gpytorch.lazy import DiagLazyTensor\n",
    "import seaborn as sns\n",
    "\n",
    "%matplotlib inline\n",
    "%config InlineBackend.print_figure_kwargs = {'bbox_inches':None}"
   ]
  },
  {
   "cell_type": "markdown",
   "metadata": {},
   "source": [
    "## Define functions"
   ]
  },
  {
   "cell_type": "code",
   "execution_count": null,
   "metadata": {},
   "outputs": [],
   "source": [
    "# Adapted from https://stackoverflow.com/questions/6620471/fitting-empirical-distribution-to-theoretical-ones-with-scipy-python\n",
    "\n",
    "import scipy.stats as st\n",
    "import warnings\n",
    "import tqdm\n",
    "from sklearn.mixture import GaussianMixture\n",
    "\n",
    "# Create models from data\n",
    "def best_fit_distribution(data, bins=200):\n",
    "    \"\"\"Model data by finding best fit distribution to data\"\"\"\n",
    "    # Get histogram of original data\n",
    "    y, x = np.histogram(data, bins=bins, density=True)\n",
    "    x = (x + np.roll(x, -1))[:-1] / 2.0\n",
    "\n",
    "    # Distributions to check\n",
    "    #DISTRIBUTIONS = [st.cauchy,st.gennorm,st.laplace,st.norm,st.t]\n",
    "    DISTRIBUTIONS = [st.laplace,st.norm,st.t]\n",
    "\n",
    "    # Best holders\n",
    "    best_distribution = st.norm\n",
    "    best_params = (0.0, 1.0)\n",
    "    best_sse = np.inf\n",
    "    \n",
    "    sses = {}\n",
    "\n",
    "    # Estimate distribution parameters from data\n",
    "    for distribution in DISTRIBUTIONS:\n",
    "        # Try to fit the distribution\n",
    "        try:\n",
    "            # Ignore warnings from data that can't be fit\n",
    "            with warnings.catch_warnings():\n",
    "                warnings.filterwarnings('ignore')\n",
    "\n",
    "                # fit dist to data\n",
    "                params = distribution.fit(data)\n",
    "\n",
    "                # Separate parts of parameters\n",
    "                arg = params[:-2]\n",
    "                loc = params[-2]\n",
    "                scale = params[-1]\n",
    "\n",
    "                # Calculate fitted PDF and error with fit in distribution\n",
    "                pdf = distribution.pdf(x, loc=loc, scale=scale, *arg)\n",
    "                sse = np.sum(np.power(y - pdf, 2.0))\n",
    "                \n",
    "                sses[distribution.name] = sse\n",
    "\n",
    "                # identify if this distribution is better\n",
    "                if best_sse > sse > 0:\n",
    "                    best_distribution = distribution\n",
    "                    best_params = params\n",
    "                    best_sse = sse\n",
    "\n",
    "        except Exception:\n",
    "            f\"Failed to fit {distribution}\"\n",
    "\n",
    "    return (best_distribution.name, best_params, sses)\n",
    "\n",
    "\n",
    "def make_pdf(dist, params, size=1000, start=None, end=None):\n",
    "    \"\"\"Generate distributions's Probability Distribution Function \"\"\"\n",
    "\n",
    "    # Separate parts of parameters\n",
    "    arg = params[:-2]\n",
    "    loc = params[-2]\n",
    "    scale = params[-1]\n",
    "\n",
    "    # Get sane start and end points of distribution\n",
    "    if start is None:\n",
    "        start = dist.ppf(0.01, *arg, loc=loc, scale=scale) if arg else dist.ppf(0.01, loc=loc, scale=scale)\n",
    "    if end is None:\n",
    "        end = dist.ppf(0.99, *arg, loc=loc, scale=scale) if arg else dist.ppf(0.99, loc=loc, scale=scale)\n",
    "\n",
    "    # Build PDF and turn into pandas Series\n",
    "    x = np.linspace(start, end, size)\n",
    "    y = dist.pdf(x, loc=loc, scale=scale, *arg)\n",
    "    pdf = pd.Series(y, x)\n",
    "\n",
    "    return pdf"
   ]
  },
  {
   "cell_type": "code",
   "execution_count": null,
   "metadata": {},
   "outputs": [],
   "source": [
    "def plot_weightdist(weights, title=None, num_bins=50):\n",
    "    fig, axes = plt.subplots(ncols=2, figsize=(8,3))\n",
    "    vmin = np.min([weight for weight in weights.values()])\n",
    "    vmax = np.max([weight for weight in weights.values()])\n",
    "    xlim = (vmin, vmax)\n",
    "    for (name, weight), ax in zip(weights.items(), axes):\n",
    "        sns.distplot(weight.flatten(), ax=ax, bins=num_bins, kde=False, norm_hist=True)\n",
    "        ax.set_xlabel(name)\n",
    "        gauss_pdf = make_pdf(stats.norm, stats.norm.fit(weight), start=xlim[0], end=xlim[1])\n",
    "        sns.lineplot(data=gauss_pdf, label=r\"gaussian\\_fit\", ax=ax)\n",
    "        ax.legend(loc=\"upper right\")\n",
    "        ax.set_xlim(xlim)\n",
    "    if title is not None:\n",
    "        fig.suptitle(title)\n",
    "        fig.tight_layout(rect=[0, 0, 1, 0.97])\n",
    "    else:\n",
    "        fig.tight_layout()\n",
    "    return fig"
   ]
  },
  {
   "cell_type": "code",
   "execution_count": null,
   "metadata": {},
   "outputs": [],
   "source": [
    "def plot_covariance(weights_reshaped, rowvar, title=None, rasterized=None):\n",
    "    fig = plt.figure(figsize=(9,4))\n",
    "    grid = plt_gridspec.GridSpec(nrows=1,ncols=3,figure=fig,width_ratios=[20,20,1])\n",
    "    axes = [plt.subplot(spec) for spec in grid]\n",
    "    vmin = np.min([np.cov(weight, rowvar=rowvar) for weight in weights_reshaped.values()])\n",
    "    vmax = np.max([np.cov(weight, rowvar=rowvar) for weight in weights_reshaped.values()])\n",
    "    rasterized_orig = rasterized\n",
    "    for (name, weight), ax in zip(weights_reshaped.items(), axes):\n",
    "        cov =np.cov(weight, rowvar=rowvar)\n",
    "        if rasterized_orig is None:\n",
    "            rasterized = (True if cov.shape[0] > 19 else False)\n",
    "        sns.heatmap(cov, cmap=\"Blues\", ax=ax, vmin=vmin, vmax=vmax, cbar=(name==\"empirical\"), cbar_ax=axes[2],\n",
    "                   rasterized=rasterized)\n",
    "        ax.set_xlabel(name)\n",
    "    if title is not None:\n",
    "        fig.suptitle(title)\n",
    "        fig.tight_layout(rect=[0, 0, 1, 0.97])\n",
    "    else:\n",
    "        fig.tight_layout()\n",
    "    return fig"
   ]
  },
  {
   "cell_type": "code",
   "execution_count": null,
   "metadata": {},
   "outputs": [],
   "source": [
    "def plot_covar_offdiagonals(weights_reshaped, rowvar, title=None, num_bins=50):\n",
    "    fig, axes = plt.subplots(ncols=2, figsize=(8,3))\n",
    "    vmin = np.min([np.cov(weight, rowvar=rowvar) for weight in weights_reshaped.values()])\n",
    "    xlim = (vmin,-vmin)\n",
    "    for (name, weight), ax in zip(weights_reshaped.items(), axes):\n",
    "        covar = np.cov(weight, rowvar=rowvar)\n",
    "        offdiagonals = covar[np.where(~np.eye(covar.shape[0],dtype=bool))]\n",
    "        sns.distplot(offdiagonals, ax=ax, bins=num_bins, kde=False, norm_hist=True)\n",
    "        ax.set_xlabel(name)\n",
    "        ax.set_xlim(xlim)\n",
    "        gauss_pdf = make_pdf(stats.norm, stats.norm.fit(offdiagonals), start=xlim[0], end=xlim[1])\n",
    "        sns.lineplot(data=gauss_pdf, label=r\"gaussian\\_fit\", ax=ax)\n",
    "        ax.legend(loc=\"upper right\")\n",
    "    if title is not None:\n",
    "        fig.suptitle(title)\n",
    "        fig.tight_layout(rect=[0, 0, 1, 0.97])\n",
    "    else:\n",
    "        fig.tight_layout()\n",
    "    return fig"
   ]
  },
  {
   "cell_type": "code",
   "execution_count": null,
   "metadata": {},
   "outputs": [],
   "source": [
    "def plot_covar_offdiagonals_reduced(weights_reshaped, rowvar, title=None, num_bins=50, ax=None, legend=True):\n",
    "    print(\"legend\", legend)\n",
    "    if ax is None:\n",
    "        fig, ax = plt.subplots(figsize=(4,3))\n",
    "    else:\n",
    "        fig = None\n",
    "    vmin = np.min([np.cov(weight, rowvar=rowvar) for weight in weights_reshaped.values()])\n",
    "    xlim = (vmin,-vmin)\n",
    "    for name in [\"empirical\", \"gaussian\"]:\n",
    "        weight = weights_reshaped[name]\n",
    "        covar = np.cov(weight, rowvar=rowvar)\n",
    "        offdiagonals = covar[np.where(~np.eye(covar.shape[0],dtype=bool))]\n",
    "        if name == \"empirical\":\n",
    "            sns.distplot(offdiagonals, ax=ax, bins=num_bins, kde=False, norm_hist=True)\n",
    "            ax.set_xlabel(name)\n",
    "            ax.set_xlim(xlim)\n",
    "        else:\n",
    "            gauss_pdf = make_pdf(stats.norm, stats.norm.fit(offdiagonals), start=xlim[0], end=xlim[1])\n",
    "            ax.plot(gauss_pdf.index, gauss_pdf.values, label=r\"ind. Gaussian cov. entries\")\n",
    "            if legend:\n",
    "                ax.legend(loc=\"upper right\")\n",
    "        ax.tick_params(left=False, labelleft=False)\n",
    "\n",
    "    if fig is not None:\n",
    "        if title is not None:\n",
    "            fig.suptitle(title)\n",
    "            fig.tight_layout(rect=[0, 0, 1, 0.97])\n",
    "        else:\n",
    "            fig.tight_layout()\n",
    "    return fig"
   ]
  },
  {
   "cell_type": "code",
   "execution_count": null,
   "metadata": {},
   "outputs": [],
   "source": [
    "def plot_singular_values(weights_reshaped, title=None, num_bins=10):\n",
    "    fig, axes = plt.subplots(ncols=2, figsize=(8,3))\n",
    "    for (name, weight), ax in zip(weights_reshaped.items(), axes):\n",
    "        _, singvals, _ = np.linalg.svd(weight)\n",
    "        sns.distplot(singvals, ax=ax, bins=num_bins, kde=False, norm_hist=True)\n",
    "        ax.set_xlabel(name)\n",
    "    if title is not None:\n",
    "        fig.suptitle(title)\n",
    "        fig.tight_layout(rect=[0, 0, 1, 0.97])\n",
    "    else:\n",
    "        fig.tight_layout()\n",
    "    return fig"
   ]
  },
  {
   "cell_type": "code",
   "execution_count": null,
   "metadata": {},
   "outputs": [],
   "source": [
    "def generate_all_figures(state_dict, exp_name, cnn=True):\n",
    "    if cnn:\n",
    "        num_channels = 4\n",
    "    else:\n",
    "        num_channels = 2\n",
    "    with PdfPages(f\"../figures/{exp_name}_weight_distributions.pdf\") as pdf:\n",
    "        for param, weight_values in state_dict.items():\n",
    "            if \"weight_prior.p\" in param and len(weight_values.shape) == num_channels:\n",
    "                layer = param.split(\"weight_prior.p\")[0]\n",
    "                print(layer)\n",
    "\n",
    "                weight = weight_values.numpy()\n",
    "                weight_gaussian = np.random.normal(loc=weight.mean(), scale=weight.std(), size=weight.shape)\n",
    "                weights = {\"gaussian\": weight_gaussian, \"empirical\": weight}\n",
    "                weights_reshaped = {name : weight.reshape(weight.shape[0], -1) for name, weight in weights.items()}\n",
    "\n",
    "                fig = plot_weightdist(weights, title=f\"{layer}weight_distribution\")\n",
    "                pdf.savefig()\n",
    "                plt.close(fig)\n",
    "                fig = plot_covariance(weights_reshaped, False, title=f\"{layer}covariance_inputs\")\n",
    "                pdf.savefig()\n",
    "                plt.close(fig)\n",
    "                fig = plot_covariance(weights_reshaped, True, title=f\"{layer}covariance_outputs\")\n",
    "                pdf.savefig()\n",
    "                plt.close(fig)\n",
    "                fig = plot_covar_offdiagonals(weights_reshaped, False, title=f\"{layer}covar_offdiag_inputs\")\n",
    "                pdf.savefig()\n",
    "                plt.close(fig)\n",
    "                fig = plot_covar_offdiagonals(weights_reshaped, True, title=f\"{layer}covar_offdiag_outputs\")\n",
    "                pdf.savefig()\n",
    "                plt.close(fig)\n",
    "                fig = plot_singular_values(weights_reshaped, title=f\"{layer}singular_values\")\n",
    "                pdf.savefig()\n",
    "                plt.close(fig)\n",
    "    print(\"done!\")"
   ]
  },
  {
   "cell_type": "code",
   "execution_count": null,
   "metadata": {},
   "outputs": [],
   "source": [
    "import h5py\n",
    "import collections\n",
    "\n",
    "\n",
    "def load_many_samples(path, directories=range(8)):\n",
    "    param_keys = None\n",
    "    samples = collections.defaultdict(lambda: [], {})\n",
    "\n",
    "    for d in map(str, directories):\n",
    "        with h5py.File(path + f\"/{d}/samples.pt\", \"r\") as f:\n",
    "            if param_keys is None:\n",
    "                param_keys = [k for k in f.keys() if k.endswith(\".p\")]\n",
    "\n",
    "            for key in param_keys:\n",
    "                samples[key].append(f[key][-1])\n",
    "    for k in samples.keys():\n",
    "        samples[k] = np.stack(samples[k])\n",
    "    return samples\n",
    "\n",
    "def reshape_weight(weight, f):\n",
    "    weight = f(weight)\n",
    "    weight_gaussian = np.random.normal(loc=weight.mean(), scale=weight.std(), size=weight.shape)\n",
    "    return {\"gaussian\": weight_gaussian, \"empirical\": weight}"
   ]
  },
  {
   "cell_type": "markdown",
   "metadata": {},
   "source": [
    "# Load data and plot figures 1, 2, A.2\n",
    "\n",
    "With the repository we ship the extracted data, necessary to plot the figures. The code for *creating* the CSVs and JSONs is at the end of this notebook."
   ]
  },
  {
   "cell_type": "code",
   "execution_count": null,
   "metadata": {},
   "outputs": [],
   "source": [
    "all_weights = np.load(\"Plot_weight_histograms_data/nn_weights.npz\")\n",
    "\n",
    "weight_dnn=all_weights[\"weight_dnn\"]\n",
    "weight_dnn_middle=all_weights[\"weight_dnn_middle\"]\n",
    "weight_cnn=all_weights[\"weight_cnn\"]\n",
    "weight_googleresnet=all_weights[\"weight_googleresnet\"]"
   ]
  },
  {
   "cell_type": "code",
   "execution_count": null,
   "metadata": {},
   "outputs": [],
   "source": [
    "def empirical_cdf(w):\n",
    "    sorted_w = np.sort(w.flatten())\n",
    "\n",
    "    x = np.stack([sorted_w]*2, axis=1).flatten()\n",
    "    y = np.stack([np.arange(0, len(sorted_w)), np.arange(1, len(sorted_w)+1)], axis=1).flatten() / len(sorted_w)\n",
    "    return sorted_w, x, y\n",
    "\n",
    "def qqplot(ax, w, stats_dist, **kwargs):\n",
    "    sparams = stats_dist.fit(w.flatten())\n",
    "    xs, ys = stats.probplot(w, sparams, dist=stats_dist, fit=False, plot=None)\n",
    "    ax.plot(xs, ys, **kwargs)\n",
    "    \n",
    "def hist(ax, data):\n",
    "    ax.hist(data, bins=100, density=True, alpha=1.0, rwidth=.8,\n",
    "        edgecolor='none', linewidth=None,)\n",
    "    \n",
    "\n",
    "def empirical_fd_pdf(ax, w, smooth=3000):\n",
    "    sorted_w = np.sort(w.flatten())\n",
    "    y = np.arange(1, len(sorted_w)+1)\n",
    "    \n",
    "    x_defined = sorted_w[smooth:-smooth]\n",
    "    fd_raw = y[smooth*2:] - y[:-smooth*2]\n",
    "    x_fd = sorted_w[smooth*2:] - sorted_w[:-smooth*2]\n",
    "    fd = (fd_raw/x_fd) / len(sorted_w)\n",
    "    ax.plot(x_defined, np.clip(fd, 0., 200.))\n",
    "    return sorted_w"
   ]
  },
  {
   "cell_type": "code",
   "execution_count": null,
   "metadata": {},
   "outputs": [],
   "source": [
    "import matplotlib.gridspec as plt_gridspec\n",
    "\n",
    "sns.set(context=\"paper\", style=\"ticks\", font_scale=1.0)\n",
    "plt.rcParams[\"font.sans-serif\"].insert(0, \"DejaVu Sans\")\n",
    "\n",
    "colors = {\n",
    "    \"laplace\": \"C1\",\n",
    "    \"gaussian\": \"C2\",\n",
    "    \"student-t\": \"C3\",\n",
    "}\n",
    "\n",
    "\n",
    "plt.rcParams.update({\n",
    "    \"font.family\": \"sans-serif\",  # use serif/main font for text elements\n",
    "    \"text.usetex\": False,     # use inline math for ticks\n",
    "    \"pgf.rcfonts\": False,     # don't setup fonts from rc parameters\n",
    "    \"font.size\": 10,\n",
    "    \"axes.linewidth\": 0.5,\n",
    "    'ytick.major.width': 0.5,\n",
    "    'xtick.major.width': 0.5,\n",
    "    'ytick.major.size': 2,\n",
    "    'xtick.major.size': 2,\n",
    "    \"ytick.major.left\": True,\n",
    "    \"figure.dpi\": 300,\n",
    "})\n",
    "\n",
    "fig_width_pt = 234.8775\n",
    "inches_per_pt = 1.0/72.27               # Convert pt to inches\n",
    "fig_width = fig_width_pt*inches_per_pt  # width in inches\n",
    "\n",
    "width_ratios = [2.0, .2, 1.9, 1.9]\n",
    "\n",
    "fig = plt.figure(figsize=(fig_width,fig_width*(width_ratios[-1]/sum(width_ratios) \n",
    "                                              )*3))\n",
    "gridspec = plt_gridspec.GridSpec(figure=fig, nrows=4, ncols=4,\n",
    "                                 bottom=0.12, left=0.03, right=0.99, top=0.9, hspace=0.2, wspace=0.1,\n",
    "                                width_ratios=width_ratios, height_ratios=[1.9, 1.9, 0.2, 1.9])\n",
    "\n",
    "wvalue = \"emp. w\"\n",
    "resnet_label = \"ResNet early\"\n",
    "for i, (ylabel, weights) in enumerate([(\"FCNN\", weight_dnn), (\"CNN\", weight_cnn),\n",
    "                                     (resnet_label, weight_googleresnet)]):\n",
    "    if i == 2:\n",
    "        i = 3\n",
    "        xlim = (-1, 1)\n",
    "        lim = 3\n",
    "    else:\n",
    "        xlim = (-0.3, 0.3)\n",
    "        lim = 1\n",
    "\n",
    "    ax = fig.add_subplot(gridspec[i, 0])\n",
    "    hist(ax, weights.ravel())\n",
    "    if False: #ylabel == resnet_label:\n",
    "        t_pdf = make_pdf(stats.t, stats.t.fit(weights.ravel()), start=xlim[0], end=xlim[1])\n",
    "        ax.plot(t_pdf.index, t_pdf.values, label=\"T fit\", alpha=1, color=colors[\"student-t\"])\n",
    "    else:\n",
    "        gauss_pdf = make_pdf(stats.norm, stats.norm.fit(weights.ravel()), start=xlim[0], end=xlim[1])\n",
    "        ax.plot(gauss_pdf.index, gauss_pdf.values, label=\"Gaussian fit\", alpha=1, color=colors[\"gaussian\"])\n",
    "\n",
    "    laplace_pdf = make_pdf(stats.laplace, stats.laplace.fit(weights.ravel()), start=xlim[0], end=xlim[1])\n",
    "    ax.plot(laplace_pdf.index, laplace_pdf.values, label=\"Laplace fit\", alpha=1, color=colors[\"laplace\"])\n",
    "    ax.set_ylabel(ylabel)\n",
    "    if i == 0:\n",
    "        ax.set_title(\"Weight histogram\")\n",
    "    if i==3:\n",
    "        ax.set_xlabel(\"weight value (w)\")\n",
    "    ax.set_xlim(xlim)\n",
    "    ax.tick_params(left=False, labelleft=False, bottom=True, labelbottom=(i != 0), labelsize=\"x-small\")\n",
    "\n",
    "    x0,x1 = ax.get_xlim()\n",
    "    y0,y1 = ax.get_ylim()\n",
    "    ax.set_aspect((x1-x0)/(y1-y0) * width_ratios[2]/width_ratios[0] )\n",
    "\n",
    "    ax = fig.add_subplot(gridspec[i, 2])\n",
    "    ax.set_xlim((-lim, lim))\n",
    "    ax.set_ylim((-lim, lim))\n",
    "    if False: #ylabel == resnet_label:\n",
    "        ax.plot([-lim, lim], [-lim, lim], linestyle=\"--\", alpha=1, color=colors[\"student-t\"])\n",
    "        qqplot(ax, weights.ravel(), stats.t)\n",
    "    else:\n",
    "        ax.plot([-lim, lim], [-lim, lim], linestyle=\"--\", alpha=1, color=colors[\"gaussian\"])\n",
    "        qqplot(ax, weights.ravel(), stats.norm)\n",
    "    ax.set_xticks([-lim, 0, lim])\n",
    "    ax.set_yticks([-lim, 0, lim])\n",
    "    if i==0:\n",
    "        ax.set_title(\"Gaussian Q-Q\")\n",
    "    ax.set_aspect('equal')\n",
    "    ax.set_ylabel(wvalue, labelpad=-2)\n",
    "    if ylabel == resnet_label:\n",
    "        ax.set_xlabel(\"theoretical w\")\n",
    "        #ax.set_title(\"Student-t Q-Q\")\n",
    "    ax.tick_params(labelsize=\"x-small\", labelbottom=(i != 0))\n",
    "\n",
    "    ax = fig.add_subplot(gridspec[i, 3])\n",
    "    ax.set_xlim((-lim, lim))\n",
    "    ax.set_ylim((-lim, lim))\n",
    "    ax.plot([-lim, lim], [-lim, lim], linestyle=\"--\", alpha=1, color=colors[\"laplace\"])\n",
    "    qqplot(ax, weights.ravel(), stats.laplace)\n",
    "    ax.set_xticks([-lim, 0, lim])\n",
    "    ax.set_yticks([-lim, 0, lim])\n",
    "    if i==0: # or ylabel == resnet_label:\n",
    "        ax.set_title(\"Laplace Q-Q\")\n",
    "    ax.set_aspect('equal')\n",
    "    ax.tick_params(labelsize=\"x-small\", labelbottom=(i != 0), labelleft=False)\n",
    "    if ylabel == resnet_label:\n",
    "        ax.set_xlabel(\"theoretical w\")\n",
    "\n",
    "fig.savefig(\"../figures/210203-qqplots-allgaussian.pdf\")"
   ]
  },
  {
   "cell_type": "code",
   "execution_count": null,
   "metadata": {},
   "outputs": [],
   "source": [
    "import matplotlib.gridspec as plt_gridspec\n",
    "\n",
    "colors = {\n",
    "    \"laplace\": \"C1\",\n",
    "    \"gaussian\": \"C2\",\n",
    "    \"student-t\": \"C0\",\n",
    "}\n",
    "\n",
    "sns.set(context=\"paper\", style=\"ticks\", font_scale=1.0)\n",
    "plt.rcParams[\"font.sans-serif\"].insert(0, \"DejaVu Sans\")\n",
    "\n",
    "plt.rcParams.update({\n",
    "    \"font.family\": \"sans-serif\",  # use serif/main font for text elements\n",
    "    \"text.usetex\": False,     # use inline math for ticks\n",
    "    \"pgf.rcfonts\": True,     # don't setup fonts from rc parameters\n",
    "    \"font.size\": 10,\n",
    "    \"axes.linewidth\": 0.5,\n",
    "    'ytick.major.width': 0.5,\n",
    "    'xtick.major.width': 0.5,\n",
    "    'ytick.major.size': 2,\n",
    "    'xtick.major.size': 2,\n",
    "    \"ytick.major.left\": True,\n",
    "    'ytick.minor.left': False,\n",
    "    'xtick.minor.bottom': False,\n",
    "    \"figure.dpi\": 800,\n",
    "})\n",
    "\n",
    "fig_width_pt = 234.8775\n",
    "inches_per_pt = 1.0/72.27               # Convert pt to inches\n",
    "fig_width = fig_width_pt*inches_per_pt  # width in inches\n",
    "\n",
    "fig = plt.figure(figsize=(fig_width,fig_width*2/3))\n",
    "gridspec = plt_gridspec.GridSpec(figure=fig, nrows=2, ncols=2,\n",
    "                                 bottom=0.19, left=0.07, right=0.95, top=0.9, hspace=0.3, wspace=0.75,\n",
    "                                 width_ratios=[1, 2.2], height_ratios=[1, 1])\n",
    "\n",
    "lim = 1.0\n",
    "xlim = (-0.3, 0.3)\n",
    "\n",
    "ax = fig.add_subplot(gridspec[0, 0])\n",
    "ax.set_xlim(xlim)\n",
    "\n",
    "hist(ax, weight_dnn.ravel())\n",
    "gauss_pdf = make_pdf(stats.norm, stats.norm.fit(weight_dnn.ravel()), start=xlim[0], end=xlim[1])\n",
    "ax.plot(gauss_pdf.index, gauss_pdf.values, label=\"Gaussian fit\", alpha=1, color=colors[\"gaussian\"])\n",
    "\n",
    "laplace_pdf = make_pdf(stats.laplace, stats.laplace.fit(weight_dnn.ravel()), start=xlim[0], end=xlim[1])\n",
    "ax.plot(laplace_pdf.index, laplace_pdf.values, label=\"Laplace fit\", alpha=1, color=colors[\"laplace\"])\n",
    "\n",
    "ax.set_title(\"FCNN SGD\")\n",
    "ax.set_ylabel(\"Hist. counts\")\n",
    "ax.tick_params(left=False, labelleft=False, labelbottom=True, labelsize='xx-small')\n",
    "\n",
    "\n",
    "x0,x1 = ax.get_xlim()\n",
    "y0,y1 = ax.get_ylim()\n",
    "ax.set_aspect((x1-x0)/(y1-y0) * width_ratios[2]/width_ratios[0] )\n",
    "\n",
    "ax = fig.add_subplot(gridspec[1, 0])\n",
    "ax.set_xlim((-lim, lim))\n",
    "ax.set_ylim((-lim, lim))\n",
    "ax.plot([-lim, lim], [-lim, lim], linestyle=\"--\", alpha=1.0, color=colors[\"laplace\"])\n",
    "qqplot(ax, weight_dnn.ravel(), stats.laplace)\n",
    "ax.set_xlabel(\"Laplace Q-Q\")\n",
    "ax.set_aspect('equal')\n",
    "\n",
    "ax = fig.add_subplot(gridspec[:, 1])\n",
    "df = pd.read_pickle(\"Plot_weight_histograms_data/mnist_fcnn_errors.pkl\")\n",
    "\n",
    "for color_i, prior_name in enumerate([\"gaussian\", \"laplace\"]):\n",
    "    this_df = df[df[\"prior\"] == prior_name ].sort_values(\"temperature\")\n",
    "    x = this_df[\"temperature\"].values\n",
    "    \n",
    "    line, *_ = ax.plot(x, this_df[\"error_mean\"].values, label=prior_name, color=colors[prior_name])\n",
    "\n",
    "    C = line.get_color()\n",
    "    lower = this_df[\"error_mean\"].values - this_df[\"error_stderr\"].values\n",
    "    upper = this_df[\"error_mean\"].values + this_df[\"error_stderr\"].values\n",
    "    ax.fill_between(x, lower, upper, alpha=0.5, color=C)\n",
    "legend = ax.legend(frameon=False)\n",
    "ax.set_ylabel(\"Test error\")\n",
    "ax.set_xlim((1e-3, 1))\n",
    "ax.set_xscale(\"log\")\n",
    "ax.ticklabel_format(axis='y', style='plain', scilimits=(0, 0), useMathText=True)\n",
    "ax.set_xlabel(\"Temperature\")\n",
    "ax.set_title(\"FC BNN priors\")\n",
    "\n",
    "\n",
    "fig.savefig(\"../figures/210203-teaser.pdf\")"
   ]
  },
  {
   "cell_type": "code",
   "execution_count": null,
   "metadata": {},
   "outputs": [],
   "source": [
    "sns.set(context=\"paper\", style=\"ticks\", font_scale=1.0)\n",
    "\n",
    "plt.rcParams[\"font.sans-serif\"].insert(0, \"DejaVu Sans\")\n",
    "\n",
    "plt.rcParams.update({\n",
    "    \"font.family\": \"sans-serif\",  # use serif/main font for text elements\n",
    "    \"text.usetex\": False,     # use inline math for ticks\n",
    "    \"pgf.rcfonts\": True,     # don't setup fonts from rc parameters\n",
    "    \"font.size\": 10,\n",
    "    \"axes.linewidth\": 0.5,\n",
    "    'ytick.major.width': 0.5,\n",
    "    'ytick.major.size': 2,\n",
    "    'xtick.major.width': 0.5,\n",
    "    'xtick.major.size': 2,\n",
    "})\n",
    "\n",
    "def plot_covar_offdiagonals_reduced(weights_reshaped, rowvar, title=None, num_bins=50, ax=None, legend=True):\n",
    "    print(\"legend\", legend)\n",
    "    if ax is None:\n",
    "        fig, ax = plt.subplots(figsize=(4,3))\n",
    "    else:\n",
    "        fig = None\n",
    "    vmin = np.min([np.cov(weight, rowvar=rowvar) for weight in weights_reshaped.values()])\n",
    "    xlim = (vmin,-vmin)\n",
    "    for name in [\"empirical\", \"gaussian\"]:\n",
    "        weight = weights_reshaped[name]\n",
    "        covar = np.cov(weight, rowvar=rowvar)\n",
    "        offdiagonals = covar[np.where(~np.eye(covar.shape[0],dtype=bool))]\n",
    "        if name == \"empirical\":\n",
    "            sns.distplot(offdiagonals, ax=ax, bins=num_bins, kde=False, norm_hist=True)\n",
    "            ax.set_xlabel(name)\n",
    "            ax.set_xlim(xlim)\n",
    "        else:\n",
    "            gauss_pdf = make_pdf(stats.norm, stats.norm.fit(offdiagonals), start=xlim[0], end=xlim[1])\n",
    "            ax.plot(gauss_pdf.index, gauss_pdf.values, label=r\"ind. Gaussian cov. entries\")\n",
    "            if legend:\n",
    "                ax.legend(loc=\"upper right\")\n",
    "        ax.tick_params(left=False, labelleft=False)\n",
    "\n",
    "    if fig is not None:\n",
    "        if title is not None:\n",
    "            fig.suptitle(title)\n",
    "            fig.tight_layout(rect=[0, 0, 1, 0.97])\n",
    "        else:\n",
    "            fig.tight_layout()\n",
    "    return fig\n",
    "\n",
    "fig_width_pt = 487.8225\n",
    "inches_per_pt = 1.0/72.27               # Convert pt to inches\n",
    "fig_width = fig_width_pt*inches_per_pt  # width in inches\n",
    "\n",
    "fig, axes = plt.subplots(1, 5, figsize=(fig_width,fig_width*0.9/5),\n",
    "                         gridspec_kw=dict(bottom=0.50, left=0.03, right=0.99, top=0.99, hspace=0.1, wspace=0.1))\n",
    "\n",
    "# fully connected NN\n",
    "#key = \"net.module.2.weight_prior.p\"\n",
    "#exp_name = \"mnist_classificationdensenet\"\n",
    "def reshape_input_covar(weights):\n",
    "    return reshape_weight(weights, lambda w: w.transpose((0, 1, 2)).reshape((w.shape[0]*w.shape[1], -1)))\n",
    "def reshape_output_covar(weights):\n",
    "    return reshape_weight(weights, lambda w: w.transpose((0, 2, 1)).reshape((-1, w.shape[1])))\n",
    "\n",
    "ax = axes[0]\n",
    "plot_covar_offdiagonals_reduced(reshape_input_covar(weight_dnn_middle),\n",
    "                                rowvar=False, num_bins=50, ax=ax, legend=False)\n",
    "ax.set_xticks([-0.005, 0, 0.005])\n",
    "ax.set_xticklabels([\"-5\", \"0\", \"5\"])\n",
    "ax.text(0.5, -0.9, r\"a) FCNN, input\", horizontalalignment='center',\n",
    "            verticalalignment='center', transform=ax.transAxes)\n",
    "ax.set_xlabel(\"\")\n",
    "ax.set_ylabel(\"Histogram counts\", horizontalalignment=\"right\", position=(0, 1))\n",
    "\n",
    "\n",
    "ax = axes[1]\n",
    "plot_covar_offdiagonals_reduced(reshape_output_covar(weight_dnn_middle),\n",
    "                                rowvar=False, num_bins=30, ax=ax, legend=False)\n",
    "ax.set_xticks([-0.005, 0, 0.005])\n",
    "ax.set_xticklabels([\"-5\", \"0\", \"5\"])\n",
    "ax.text(0.5, -0.9, r\"b) FCNN, output\", horizontalalignment='center',\n",
    "        verticalalignment='center', transform=ax.transAxes)\n",
    "ax.set_xlabel(\"\")\n",
    "\n",
    "\n",
    "# Convolutional NN\n",
    "#key = \"net.module.4.weight_prior.p\"\n",
    "#exp_name = \"mnist_classificationconvnet\"\n",
    "\n",
    "def reshape_input_covar(weights):\n",
    "    return reshape_weight(weights, lambda w: w.transpose((0, 1, 2, 3, 4)).reshape((w.shape[0]*w.shape[1], -1)))\n",
    "def reshape_output_covar(weights):\n",
    "    return reshape_weight(weights, lambda w: w.transpose((0, 2, 3, 4, 1)).reshape((-1, w.shape[1])))\n",
    "ax = axes[2]\n",
    "plot_covar_offdiagonals_reduced(reshape_input_covar(weight_cnn),\n",
    "                                rowvar=False, num_bins=50, ax=ax, legend=False)\n",
    "ax.set_xticks([-0.001, 0, 0.001])\n",
    "ax.set_xticklabels([\"-1\", \"0\", \"1\"])\n",
    "ax.text(0.5, -0.9, r\"c) CNN, input\", horizontalalignment='center',\n",
    "            verticalalignment='center', transform=ax.transAxes)\n",
    "ax.set_xlabel(r\"Entries of weight covariance matrix $(\\times 10^{-3})$\", labelpad=1)\n",
    "\n",
    "ax = axes[3]\n",
    "plot_covar_offdiagonals_reduced(reshape_output_covar(weight_cnn),\n",
    "                                rowvar=False, num_bins=50, ax=ax, legend=False)\n",
    "ax.text(0.5, -0.9, r\"d) CNN, output\", horizontalalignment='center',\n",
    "            verticalalignment='center', transform=ax.transAxes)\n",
    "ax.set_xticks([-0.0005, 0, 0.0005])\n",
    "ax.set_xticklabels([\"-0.5\", \"0\", \"0.5\"])\n",
    "ax.set_xlabel(\"\")\n",
    "\n",
    "weights_reshaped = {name : weight.reshape(-1, 9) for name, weight in reshape_weight(weight_cnn, lambda w: w).items()}\n",
    "\n",
    "ax = axes[4]\n",
    "plot_covar_offdiagonals_reduced(weights_reshaped,\n",
    "                                rowvar=False, num_bins=15, ax=ax, legend=True)\n",
    "ax.set_xticks([-0.00025, 0, 0.00025])\n",
    "ax.set_xticklabels([\"-0.25\", \"0\", \"0.25\"])\n",
    "ax.text(0.5, -0.9, r\"e) CNN, spatial\", horizontalalignment='center',\n",
    "        verticalalignment='center', transform=ax.transAxes)\n",
    "ax.set_xlabel(\"\")\n",
    "fig.savefig(\"../figures/210125-corr-hist.pdf\")"
   ]
  },
  {
   "cell_type": "code",
   "execution_count": null,
   "metadata": {},
   "outputs": [],
   "source": [
    "raise RuntimeError(\"Do you want to continue?\")"
   ]
  },
  {
   "cell_type": "markdown",
   "metadata": {},
   "source": [
    "# Generate plots for paper, and many figures of the appendix\n",
    "\n",
    "You need to run `jug/0_12_mnist_no_weight_decay.py` to get the files necessary for the following code."
   ]
  },
  {
   "cell_type": "code",
   "execution_count": null,
   "metadata": {},
   "outputs": [],
   "source": [
    "all_samples = {}"
   ]
  },
  {
   "cell_type": "markdown",
   "metadata": {},
   "source": [
    "#### MNIST CNN"
   ]
  },
  {
   "cell_type": "code",
   "execution_count": null,
   "metadata": {},
   "outputs": [],
   "source": [
    "exp_name = \"mnist_classificationconvnet\""
   ]
  },
  {
   "cell_type": "code",
   "execution_count": null,
   "metadata": {},
   "outputs": [],
   "source": [
    "samples = load_many_samples(f\"../logs/sgd-no-weight-decay/{exp_name}/\")\n",
    "\n",
    "all_samples[exp_name] = samples\n",
    "\n",
    "exp_name = \"201110_\"+exp_name"
   ]
  },
  {
   "cell_type": "code",
   "execution_count": null,
   "metadata": {},
   "outputs": [],
   "source": [
    "key = \"net.module.1.weight_prior.p\"\n",
    "\n",
    "fig = plot_weightdist(reshape_weight(samples[key], lambda x: x), num_bins=25)"
   ]
  },
  {
   "cell_type": "code",
   "execution_count": null,
   "metadata": {},
   "outputs": [],
   "source": [
    "def reshape_input_covar(weights):\n",
    "    return reshape_weight(weights, lambda w: w.transpose((0, 1, 2, 3, 4)).reshape((w.shape[0]*w.shape[1], -1)))\n",
    "def reshape_output_covar(weights):\n",
    "    return reshape_weight(weights, lambda w: w.transpose((0, 2, 3, 4, 1)).reshape((-1, w.shape[1])))"
   ]
  },
  {
   "cell_type": "code",
   "execution_count": null,
   "metadata": {},
   "outputs": [],
   "source": [
    "fig.savefig(f\"../figures/{exp_name}_layer1_weightdist.pdf\")"
   ]
  },
  {
   "cell_type": "code",
   "execution_count": null,
   "metadata": {},
   "outputs": [],
   "source": [
    "fig = plot_covariance(reshape_input_covar(samples[key]),  rowvar=False)"
   ]
  },
  {
   "cell_type": "code",
   "execution_count": null,
   "metadata": {},
   "outputs": [],
   "source": [
    "fig.savefig(f\"../figures/{exp_name}_layer1_covar_inputs.pdf\")"
   ]
  },
  {
   "cell_type": "code",
   "execution_count": null,
   "metadata": {},
   "outputs": [],
   "source": [
    "fig = plot_covariance(reshape_output_covar(samples[key]),  rowvar=False)"
   ]
  },
  {
   "cell_type": "code",
   "execution_count": null,
   "metadata": {},
   "outputs": [],
   "source": [
    "fig.savefig(f\"../figures/{exp_name}_layer1_covar_outputs.pdf\")"
   ]
  },
  {
   "cell_type": "code",
   "execution_count": null,
   "metadata": {},
   "outputs": [],
   "source": [
    "fig = plot_covar_offdiagonals(reshape_input_covar(samples[key]), rowvar=False, num_bins=10)"
   ]
  },
  {
   "cell_type": "code",
   "execution_count": null,
   "metadata": {},
   "outputs": [],
   "source": [
    "fig.savefig(f\"../figures/{exp_name}_layer1_offdiag_input.pdf\")"
   ]
  },
  {
   "cell_type": "code",
   "execution_count": null,
   "metadata": {},
   "outputs": [],
   "source": [
    "fig = plot_covar_offdiagonals(reshape_output_covar(samples[key]), rowvar=False, num_bins=30)"
   ]
  },
  {
   "cell_type": "code",
   "execution_count": null,
   "metadata": {},
   "outputs": [],
   "source": [
    "fig.savefig(f\"../figures/{exp_name}_layer1_offdiag_output.pdf\")"
   ]
  },
  {
   "cell_type": "code",
   "execution_count": null,
   "metadata": {},
   "outputs": [],
   "source": [
    "fig = plot_covar_offdiagonals_reduced(reshape_output_covar(samples[key]), rowvar=False, num_bins=30)"
   ]
  },
  {
   "cell_type": "code",
   "execution_count": null,
   "metadata": {},
   "outputs": [],
   "source": [
    "fig.savefig(f\"../figures/{exp_name}_layer1_offdiag_output_reduced.pdf\")"
   ]
  },
  {
   "cell_type": "code",
   "execution_count": null,
   "metadata": {},
   "outputs": [],
   "source": [
    "fig = plot_covar_offdiagonals_reduced(reshape_input_covar(samples[key]), rowvar=False, num_bins=30)"
   ]
  },
  {
   "cell_type": "code",
   "execution_count": null,
   "metadata": {},
   "outputs": [],
   "source": [
    "fig.savefig(f\"../figures/{exp_name}_layer1_offdiag_input_reduced.pdf\")"
   ]
  },
  {
   "cell_type": "code",
   "execution_count": null,
   "metadata": {},
   "outputs": [],
   "source": [
    "fig = plot_singular_values(reshape_output_covar(samples[key]), num_bins=10)"
   ]
  },
  {
   "cell_type": "code",
   "execution_count": null,
   "metadata": {},
   "outputs": [],
   "source": [
    "fig.savefig(f\"../figures/{exp_name}_layer1_singvals.pdf\")"
   ]
  },
  {
   "cell_type": "code",
   "execution_count": null,
   "metadata": {},
   "outputs": [],
   "source": [
    "key = \"net.module.4.weight_prior.p\""
   ]
  },
  {
   "cell_type": "code",
   "execution_count": null,
   "metadata": {},
   "outputs": [],
   "source": [
    "\n",
    "fig = plot_weightdist(reshape_weight(samples[key], lambda x: x), num_bins=25)"
   ]
  },
  {
   "cell_type": "code",
   "execution_count": null,
   "metadata": {},
   "outputs": [],
   "source": [
    "fig.savefig(f\"../figures/{exp_name}_layer2_weightdist.pdf\")"
   ]
  },
  {
   "cell_type": "code",
   "execution_count": null,
   "metadata": {},
   "outputs": [],
   "source": [
    "fig = plot_covariance(reshape_input_covar(samples[key]),  rowvar=False)"
   ]
  },
  {
   "cell_type": "code",
   "execution_count": null,
   "metadata": {},
   "outputs": [],
   "source": [
    "fig.savefig(f\"../figures/{exp_name}_layer2_covar_inputs.pdf\")"
   ]
  },
  {
   "cell_type": "code",
   "execution_count": null,
   "metadata": {},
   "outputs": [],
   "source": [
    "fig = plot_covariance(reshape_output_covar(samples[key]),  rowvar=False)"
   ]
  },
  {
   "cell_type": "code",
   "execution_count": null,
   "metadata": {},
   "outputs": [],
   "source": [
    "fig.savefig(f\"../figures/{exp_name}_layer2_covar_outputs.pdf\")"
   ]
  },
  {
   "cell_type": "code",
   "execution_count": null,
   "metadata": {},
   "outputs": [],
   "source": [
    "fig = plot_covar_offdiagonals(reshape_input_covar(samples[key]), rowvar=False, num_bins=50)"
   ]
  },
  {
   "cell_type": "code",
   "execution_count": null,
   "metadata": {},
   "outputs": [],
   "source": [
    "fig.savefig(f\"../figures/{exp_name}_layer2_offdiag_input.pdf\")"
   ]
  },
  {
   "cell_type": "code",
   "execution_count": null,
   "metadata": {},
   "outputs": [],
   "source": [
    "fig = plot_covar_offdiagonals(reshape_output_covar(samples[key]), rowvar=False, num_bins=50)"
   ]
  },
  {
   "cell_type": "code",
   "execution_count": null,
   "metadata": {},
   "outputs": [],
   "source": [
    "fig.savefig(f\"../figures/{exp_name}_layer2_offdiag_output.pdf\")"
   ]
  },
  {
   "cell_type": "code",
   "execution_count": null,
   "metadata": {},
   "outputs": [],
   "source": [
    "fig = plot_covar_offdiagonals_reduced(reshape_output_covar(samples[key]), rowvar=False, num_bins=50)"
   ]
  },
  {
   "cell_type": "code",
   "execution_count": null,
   "metadata": {},
   "outputs": [],
   "source": [
    "fig.savefig(f\"../figures/{exp_name}_layer2_offdiag_output_reduced.pdf\")"
   ]
  },
  {
   "cell_type": "code",
   "execution_count": null,
   "metadata": {},
   "outputs": [],
   "source": [
    "fig = plot_covar_offdiagonals_reduced(reshape_input_covar(samples[key]), rowvar=False, num_bins=50)"
   ]
  },
  {
   "cell_type": "code",
   "execution_count": null,
   "metadata": {},
   "outputs": [],
   "source": [
    "fig.savefig(f\"../figures/{exp_name}_layer2_offdiag_input_reduced.pdf\")"
   ]
  },
  {
   "cell_type": "code",
   "execution_count": null,
   "metadata": {},
   "outputs": [],
   "source": [
    "fig = plot_singular_values(reshape_output_covar(samples[key]), num_bins=10)"
   ]
  },
  {
   "cell_type": "code",
   "execution_count": null,
   "metadata": {},
   "outputs": [],
   "source": [
    "fig.savefig(f\"../figures/{exp_name}_layer2_singvals.pdf\")"
   ]
  },
  {
   "cell_type": "code",
   "execution_count": null,
   "metadata": {},
   "outputs": [],
   "source": [
    "samples [key].shape"
   ]
  },
  {
   "cell_type": "code",
   "execution_count": null,
   "metadata": {},
   "outputs": [],
   "source": [
    "weights_reshaped = {name : weight.reshape(-1, 9) for name, weight in reshape_weight(samples[key], lambda w: w).items()}"
   ]
  },
  {
   "cell_type": "code",
   "execution_count": null,
   "metadata": {},
   "outputs": [],
   "source": [
    "fig = plot_covariance(weights_reshaped, rowvar=False)"
   ]
  },
  {
   "cell_type": "code",
   "execution_count": null,
   "metadata": {},
   "outputs": [],
   "source": [
    "fig.savefig(f\"../figures/{exp_name}_layer2_covar_channels.pdf\")"
   ]
  },
  {
   "cell_type": "code",
   "execution_count": null,
   "metadata": {},
   "outputs": [],
   "source": [
    "fig = plot_covar_offdiagonals_reduced(weights_reshaped, rowvar=False, num_bins=15)\n",
    "fig.savefig(f\"../figures/{exp_name}_layer2_offdiag_spatial_reduced.pdf\")"
   ]
  },
  {
   "cell_type": "markdown",
   "metadata": {},
   "source": [
    "#### MNIST feedforward"
   ]
  },
  {
   "cell_type": "code",
   "execution_count": null,
   "metadata": {},
   "outputs": [],
   "source": [
    "exp_name = \"mnist_classificationdensenet\""
   ]
  },
  {
   "cell_type": "code",
   "execution_count": null,
   "metadata": {},
   "outputs": [],
   "source": [
    "samples = load_many_samples(f\"../logs/sgd-no-weight-decay/{exp_name}/\", filter(lambda x: x != 5, range(10)))\n",
    "all_samples[exp_name] = samples\n",
    "\n",
    "exp_name = \"201110_\"+exp_name"
   ]
  },
  {
   "cell_type": "code",
   "execution_count": null,
   "metadata": {},
   "outputs": [],
   "source": [
    "key = \"net.module.0.weight_prior.p\"\n",
    "\n",
    "fig = plot_weightdist(reshape_weight(samples[key], lambda x: x), num_bins=30)"
   ]
  },
  {
   "cell_type": "code",
   "execution_count": null,
   "metadata": {},
   "outputs": [],
   "source": [
    "def reshape_input_covar(weights):\n",
    "    return reshape_weight(weights, lambda w: w.transpose((0, 1, 2)).reshape((w.shape[0]*w.shape[1], -1)))\n",
    "def reshape_output_covar(weights):\n",
    "    return reshape_weight(weights, lambda w: w.transpose((0, 2, 1)).reshape((-1, w.shape[1])))"
   ]
  },
  {
   "cell_type": "code",
   "execution_count": null,
   "metadata": {},
   "outputs": [],
   "source": [
    "fig.savefig(f\"../figures/{exp_name}_layer1_weightdist.pdf\")"
   ]
  },
  {
   "cell_type": "code",
   "execution_count": null,
   "metadata": {},
   "outputs": [],
   "source": [
    "fig = plot_covariance(reshape_input_covar(samples[key]),  rowvar=False)"
   ]
  },
  {
   "cell_type": "code",
   "execution_count": null,
   "metadata": {},
   "outputs": [],
   "source": [
    "fig.savefig(f\"../figures/{exp_name}_layer1_covar_inputs.pdf\")"
   ]
  },
  {
   "cell_type": "code",
   "execution_count": null,
   "metadata": {},
   "outputs": [],
   "source": [
    "fig = plot_covariance(reshape_output_covar(samples[key]),  rowvar=False)"
   ]
  },
  {
   "cell_type": "code",
   "execution_count": null,
   "metadata": {},
   "outputs": [],
   "source": [
    "fig.savefig(f\"../figures/{exp_name}_layer1_covar_outputs.pdf\")"
   ]
  },
  {
   "cell_type": "code",
   "execution_count": null,
   "metadata": {},
   "outputs": [],
   "source": [
    "fig = plot_covar_offdiagonals(reshape_input_covar(samples[key]), rowvar=False, num_bins=40)"
   ]
  },
  {
   "cell_type": "code",
   "execution_count": null,
   "metadata": {},
   "outputs": [],
   "source": [
    "fig.savefig(f\"../figures/{exp_name}_layer1_offdiag_input.pdf\")"
   ]
  },
  {
   "cell_type": "code",
   "execution_count": null,
   "metadata": {},
   "outputs": [],
   "source": [
    "fig = plot_covar_offdiagonals(reshape_output_covar(samples[key]), rowvar=False, num_bins=30)"
   ]
  },
  {
   "cell_type": "code",
   "execution_count": null,
   "metadata": {},
   "outputs": [],
   "source": [
    "fig.savefig(f\"../figures/{exp_name}_layer1_offdiag_output.pdf\")"
   ]
  },
  {
   "cell_type": "code",
   "execution_count": null,
   "metadata": {},
   "outputs": [],
   "source": [
    "fig = plot_covar_offdiagonals_reduced(reshape_output_covar(samples[key]), rowvar=False, num_bins=30)"
   ]
  },
  {
   "cell_type": "code",
   "execution_count": null,
   "metadata": {},
   "outputs": [],
   "source": [
    "fig.savefig(f\"../figures/{exp_name}_layer1_offdiag_output_reduced.pdf\")"
   ]
  },
  {
   "cell_type": "code",
   "execution_count": null,
   "metadata": {},
   "outputs": [],
   "source": [
    "fig = plot_covar_offdiagonals_reduced(reshape_input_covar(samples[key]), rowvar=False, num_bins=50)"
   ]
  },
  {
   "cell_type": "code",
   "execution_count": null,
   "metadata": {},
   "outputs": [],
   "source": [
    "fig.savefig(f\"../figures/{exp_name}_layer1_offdiag_input_reduced.pdf\")"
   ]
  },
  {
   "cell_type": "code",
   "execution_count": null,
   "metadata": {},
   "outputs": [],
   "source": [
    "fig = plot_singular_values(reshape_output_covar(samples[key]), num_bins=10)"
   ]
  },
  {
   "cell_type": "code",
   "execution_count": null,
   "metadata": {},
   "outputs": [],
   "source": [
    "fig.savefig(f\"../figures/{exp_name}_layer1_singvals.pdf\")"
   ]
  },
  {
   "cell_type": "code",
   "execution_count": null,
   "metadata": {},
   "outputs": [],
   "source": [
    "key = \"net.module.2.weight_prior.p\""
   ]
  },
  {
   "cell_type": "code",
   "execution_count": null,
   "metadata": {},
   "outputs": [],
   "source": [
    "\n",
    "fig = plot_weightdist(reshape_weight(samples[key], lambda x: x), num_bins=25)"
   ]
  },
  {
   "cell_type": "code",
   "execution_count": null,
   "metadata": {},
   "outputs": [],
   "source": [
    "fig.savefig(f\"../figures/{exp_name}_layer2_weightdist.pdf\")"
   ]
  },
  {
   "cell_type": "code",
   "execution_count": null,
   "metadata": {},
   "outputs": [],
   "source": [
    "fig = plot_covariance(reshape_input_covar(samples[key]),  rowvar=False)"
   ]
  },
  {
   "cell_type": "code",
   "execution_count": null,
   "metadata": {},
   "outputs": [],
   "source": [
    "fig.savefig(f\"../figures/{exp_name}_layer2_covar_inputs.pdf\")"
   ]
  },
  {
   "cell_type": "code",
   "execution_count": null,
   "metadata": {},
   "outputs": [],
   "source": [
    "fig = plot_covariance(reshape_output_covar(samples[key]),  rowvar=False)"
   ]
  },
  {
   "cell_type": "code",
   "execution_count": null,
   "metadata": {},
   "outputs": [],
   "source": [
    "fig.savefig(f\"../figures/{exp_name}_layer2_covar_outputs.pdf\")"
   ]
  },
  {
   "cell_type": "code",
   "execution_count": null,
   "metadata": {},
   "outputs": [],
   "source": [
    "fig = plot_covar_offdiagonals(reshape_input_covar(samples[key]), rowvar=False, num_bins=50)"
   ]
  },
  {
   "cell_type": "code",
   "execution_count": null,
   "metadata": {},
   "outputs": [],
   "source": [
    "fig.savefig(f\"../figures/{exp_name}_layer2_offdiag_input.pdf\")"
   ]
  },
  {
   "cell_type": "code",
   "execution_count": null,
   "metadata": {},
   "outputs": [],
   "source": [
    "fig = plot_covar_offdiagonals(reshape_output_covar(samples[key]), rowvar=False, num_bins=50)"
   ]
  },
  {
   "cell_type": "code",
   "execution_count": null,
   "metadata": {},
   "outputs": [],
   "source": [
    "fig.savefig(f\"../figures/{exp_name}_layer2_offdiag_output.pdf\")"
   ]
  },
  {
   "cell_type": "code",
   "execution_count": null,
   "metadata": {},
   "outputs": [],
   "source": [
    "fig = plot_covar_offdiagonals_reduced(reshape_output_covar(samples[key]), rowvar=False, num_bins=50)"
   ]
  },
  {
   "cell_type": "code",
   "execution_count": null,
   "metadata": {},
   "outputs": [],
   "source": [
    "fig.savefig(f\"../figures/{exp_name}_layer2_offdiag_output_reduced.pdf\")"
   ]
  },
  {
   "cell_type": "code",
   "execution_count": null,
   "metadata": {},
   "outputs": [],
   "source": [
    "fig = plot_covar_offdiagonals_reduced(reshape_input_covar(samples[key]), rowvar=False, num_bins=50)"
   ]
  },
  {
   "cell_type": "code",
   "execution_count": null,
   "metadata": {},
   "outputs": [],
   "source": [
    "fig.savefig(f\"../figures/{exp_name}_layer2_offdiag_input_reduced.pdf\")"
   ]
  },
  {
   "cell_type": "code",
   "execution_count": null,
   "metadata": {},
   "outputs": [],
   "source": [
    "fig = plot_singular_values(reshape_output_covar(samples[key]), num_bins=10)"
   ]
  },
  {
   "cell_type": "code",
   "execution_count": null,
   "metadata": {},
   "outputs": [],
   "source": [
    "fig.savefig(f\"../figures/{exp_name}_layer2_singvals.pdf\")"
   ]
  },
  {
   "cell_type": "code",
   "execution_count": null,
   "metadata": {},
   "outputs": [],
   "source": [
    "weights_reshaped = {name : weight.reshape(-1, 9) for name, weight in reshape_weight(samples[key], lambda w: w).items()}"
   ]
  },
  {
   "cell_type": "code",
   "execution_count": null,
   "metadata": {},
   "outputs": [],
   "source": [
    "fig = plot_covariance(weights_reshaped, rowvar=False)"
   ]
  },
  {
   "cell_type": "code",
   "execution_count": null,
   "metadata": {},
   "outputs": [],
   "source": [
    "fig.savefig(f\"../figures/{exp_name}_layer2_covar_channels.pdf\")"
   ]
  },
  {
   "cell_type": "code",
   "execution_count": null,
   "metadata": {},
   "outputs": [],
   "source": [
    "key = \"net.module.4.weight_prior.p\""
   ]
  },
  {
   "cell_type": "code",
   "execution_count": null,
   "metadata": {},
   "outputs": [],
   "source": [
    "\n",
    "fig = plot_weightdist(reshape_weight(samples[key], lambda x: x), num_bins=25)"
   ]
  },
  {
   "cell_type": "code",
   "execution_count": null,
   "metadata": {},
   "outputs": [],
   "source": [
    "fig.savefig(f\"../figures/{exp_name}_layer3_weightdist.pdf\")"
   ]
  },
  {
   "cell_type": "code",
   "execution_count": null,
   "metadata": {},
   "outputs": [],
   "source": [
    "fig = plot_covariance(reshape_input_covar(samples[key]),  rowvar=False)"
   ]
  },
  {
   "cell_type": "code",
   "execution_count": null,
   "metadata": {},
   "outputs": [],
   "source": [
    "fig.savefig(f\"../figures/{exp_name}_layer3_covar_inputs.pdf\")"
   ]
  },
  {
   "cell_type": "code",
   "execution_count": null,
   "metadata": {},
   "outputs": [],
   "source": [
    "fig = plot_covariance(reshape_output_covar(samples[key]),  rowvar=False)"
   ]
  },
  {
   "cell_type": "code",
   "execution_count": null,
   "metadata": {},
   "outputs": [],
   "source": [
    "fig.savefig(f\"../figures/{exp_name}_layer3_covar_outputs.pdf\")"
   ]
  },
  {
   "cell_type": "code",
   "execution_count": null,
   "metadata": {},
   "outputs": [],
   "source": [
    "fig = plot_covar_offdiagonals(reshape_input_covar(samples[key]), rowvar=False, num_bins=50)"
   ]
  },
  {
   "cell_type": "code",
   "execution_count": null,
   "metadata": {},
   "outputs": [],
   "source": [
    "fig.savefig(f\"../figures/{exp_name}_layer3_offdiag_input.pdf\")"
   ]
  },
  {
   "cell_type": "code",
   "execution_count": null,
   "metadata": {},
   "outputs": [],
   "source": [
    "fig = plot_covar_offdiagonals(reshape_output_covar(samples[key]), rowvar=False, num_bins=25)"
   ]
  },
  {
   "cell_type": "code",
   "execution_count": null,
   "metadata": {},
   "outputs": [],
   "source": [
    "fig.savefig(f\"../figures/{exp_name}_layer3_offdiag_output.pdf\")"
   ]
  },
  {
   "cell_type": "code",
   "execution_count": null,
   "metadata": {},
   "outputs": [],
   "source": [
    "fig = plot_covar_offdiagonals_reduced(reshape_output_covar(samples[key]), rowvar=False, num_bins=25)"
   ]
  },
  {
   "cell_type": "code",
   "execution_count": null,
   "metadata": {},
   "outputs": [],
   "source": [
    "fig.savefig(f\"../figures/{exp_name}_layer3_offdiag_output_reduced.pdf\")"
   ]
  },
  {
   "cell_type": "code",
   "execution_count": null,
   "metadata": {},
   "outputs": [],
   "source": [
    "fig = plot_covar_offdiagonals_reduced(reshape_input_covar(samples[key]), rowvar=False, num_bins=50)"
   ]
  },
  {
   "cell_type": "code",
   "execution_count": null,
   "metadata": {},
   "outputs": [],
   "source": [
    "fig.savefig(f\"../figures/{exp_name}_layer3_offdiag_input_reduced.pdf\")"
   ]
  },
  {
   "cell_type": "code",
   "execution_count": null,
   "metadata": {},
   "outputs": [],
   "source": [
    "fig = plot_singular_values(reshape_output_covar(samples[key]), num_bins=10)"
   ]
  },
  {
   "cell_type": "code",
   "execution_count": null,
   "metadata": {},
   "outputs": [],
   "source": [
    "fig.savefig(f\"../figures/{exp_name}_layer3_singvals.pdf\")"
   ]
  },
  {
   "cell_type": "markdown",
   "metadata": {},
   "source": [
    "#### Compare weight dists side-by-side"
   ]
  },
  {
   "cell_type": "code",
   "execution_count": null,
   "metadata": {},
   "outputs": [],
   "source": [
    "weight_dnn.shape"
   ]
  },
  {
   "cell_type": "code",
   "execution_count": null,
   "metadata": {},
   "outputs": [],
   "source": [
    "#samples_file = f\"../results/200922_mnist_cnn/16/samples.pt\"\n",
    "\n",
    "key = 'net.module.4.weight_prior.p'\n",
    "\n",
    "w_list = []\n",
    "for i in range(8):\n",
    "    samples_file = f\"../logs/sgd-no-weight-decay/mnist_classificationconvnet/{i}/samples.pt\"\n",
    "    s = load_samples(samples_file)\n",
    "    w_list.append(s[key][-1].numpy())\n",
    "weight_cnn = np.stack(w_list)"
   ]
  },
  {
   "cell_type": "code",
   "execution_count": null,
   "metadata": {},
   "outputs": [],
   "source": [
    "#samples_file = f\"../results/200917_mnist/18/samples.pt\"\n",
    "\n",
    "key = 'net.module.0.weight_prior.p'\n",
    "key_middle = 'net.module.2.weight_prior.p'\n",
    "\n",
    "\n",
    "w_list = []\n",
    "w_list_middle = []\n",
    "for i in range(10):\n",
    "    if i ==5 :\n",
    "        continue  # run somehow missing\n",
    "        \n",
    "    samples_file = f\"../logs/sgd-no-weight-decay/mnist_classificationdensenet/{i}/samples.pt\"\n",
    "    s = load_samples(samples_file)\n",
    "    w_list.append(s[key][-1].numpy())\n",
    "    w_list_middle.append(s[key_middle][-1].numpy())\n",
    "weight_dnn = np.stack(w_list)\n",
    "weight_dnn_middle = np.stack(w_list_middle)"
   ]
  },
  {
   "cell_type": "code",
   "execution_count": null,
   "metadata": {},
   "outputs": [],
   "source": [
    "df = collect_runs(\"../logs/0_31_googleresnet_cifar10_sgd\")\n",
    "good_runs = df[(df[\"n_epochs\"] == 600) & (df[\"status\"] == \"COMPLETED\")]\n",
    "good_runs[good_runs[\"data\"] == \"cifar10_augmented\"]"
   ]
  },
  {
   "cell_type": "code",
   "execution_count": null,
   "metadata": {},
   "outputs": [],
   "source": [
    "import h5py\n",
    "\n",
    "key = 'net.module.3.main.0.weight_prior.p'\n",
    "\n",
    "\n",
    "w_list = []\n",
    "for _, run in good_runs[good_runs[\"data\"] == \"cifar10_augmented\"].iterrows():\n",
    "    samples_file = run[\"the_dir\"]/\"samples.pt\"\n",
    "    try:\n",
    "        with h5py.File(samples_file, \"r\", swmr=True) as f:\n",
    "            keys = list(f.keys())\n",
    "            w_list.append(f[key][-1])\n",
    "    except OSError:\n",
    "        pass\n",
    "    except KeyError:\n",
    "        raise ValueError(str(keys))\n",
    "weight_googleresnet = np.stack(w_list)"
   ]
  },
  {
   "cell_type": "code",
   "execution_count": null,
   "metadata": {},
   "outputs": [],
   "source": [
    "np.savez(\"3.4.5_nn_weights.npz\", weight_dnn=weight_dnn, weight_dnn_middle=weight_dnn_middle, \n",
    "         weight_cnn=weight_cnn, weight_googleresnet=weight_googleresnet)"
   ]
  },
  {
   "cell_type": "code",
   "execution_count": null,
   "metadata": {},
   "outputs": [],
   "source": [
    "_, ax = plt.subplots(1, 1)\n",
    "xlim = (-1, 1)\n",
    "dist_ret = sns.distplot(weight_cnn.flatten(), ax=ax, bins=100, kde=False, norm_hist=True)\n",
    "ax.set_xlabel(\"CNN weights\")\n",
    "gauss_pdf = make_pdf(stats.norm, stats.norm.fit(weight_cnn), start=xlim[0], end=xlim[1])\n",
    "#sns.lineplot(data=gauss_pdf, label=\"gaussian_fit\", ax=ax)\n",
    "student_pdf = make_pdf(stats.t, stats.t.fit(weight_cnn), start=xlim[0], end=xlim[1])\n",
    "#sns.lineplot(data=student_pdf, label=\"student-t_fit\", ax=ax)\n",
    "ax.legend(loc=\"lower right\")\n",
    "ax.set_xlim((-0.2, 0.2))"
   ]
  },
  {
   "cell_type": "code",
   "execution_count": null,
   "metadata": {},
   "outputs": [],
   "source": [
    "fig = plt.figure(figsize=(fig_width,fig_width*2.3/3))\n",
    "\n",
    "gs = plt_gridspec.GridSpec(1, 2)\n",
    "\n",
    "ax = fig.add_subplot(gs[0, 0])\n",
    "ax.plot([1,2,3], [2,1,3])"
   ]
  },
  {
   "cell_type": "code",
   "execution_count": null,
   "metadata": {},
   "outputs": [],
   "source": [
    "plt.rcParams[\"font.size\"]"
   ]
  },
  {
   "cell_type": "code",
   "execution_count": null,
   "metadata": {},
   "outputs": [],
   "source": [
    "np.sum(np.sort(np.abs(weight_cnn.flatten())) < 1e-8)"
   ]
  },
  {
   "cell_type": "code",
   "execution_count": null,
   "metadata": {},
   "outputs": [],
   "source": [
    "len(weight_cnn.flatten())"
   ]
  },
  {
   "cell_type": "code",
   "execution_count": null,
   "metadata": {},
   "outputs": [],
   "source": [
    "_, xs, ys = empirical_cdf(weight_dnn)\n",
    "plt.plot(xs, ys)\n",
    "#plt.xlim((-0.01, 0.01))"
   ]
  },
  {
   "cell_type": "code",
   "execution_count": null,
   "metadata": {},
   "outputs": [],
   "source": [
    "w = np.copy(weight_cnn.flatten())\n",
    "sorted_w = np.sort(w)\n",
    "\n",
    "x = np.stack([sorted_w]*2, axis=1).flatten()\n",
    "y = np.stack([np.arange(0, len(w)), np.arange(1, len(w)+1)], axis=1).flatten()\n",
    "\n",
    "plt.plot(x, y)"
   ]
  },
  {
   "cell_type": "code",
   "execution_count": null,
   "metadata": {},
   "outputs": [],
   "source": [
    "w = np.copy(weight_dnn.flatten())\n",
    "sorted_w = np.sort(w)\n",
    "\n",
    "x = np.stack([sorted_w]*2, axis=1).flatten()\n",
    "y = np.stack([np.arange(0, len(w)), np.arange(1, len(w)+1)], axis=1).flatten()\n",
    "\n",
    "plt.plot(x, y)"
   ]
  },
  {
   "cell_type": "code",
   "execution_count": null,
   "metadata": {},
   "outputs": [],
   "source": [
    "np.arange(0, 0.1, 0.005)"
   ]
  },
  {
   "cell_type": "code",
   "execution_count": null,
   "metadata": {},
   "outputs": [],
   "source": [
    "fig.savefig(f\"../figures/200917_mnist_vs_200922_mnist_cnn_weight_dists.pdf\", bbox_inches = 'tight', pad_inches = 0.1)"
   ]
  },
  {
   "cell_type": "code",
   "execution_count": null,
   "metadata": {},
   "outputs": [],
   "source": [
    "weights = {\"dnn\": weight_dnn.flatten(), \"cnn\": weight_cnn.flatten()}\n",
    "for param, weight in weights.items():\n",
    "    print(f\"Normality tests for {param}:\")\n",
    "    print(f\"Mean = {weight.mean():.2f}, std = {weight.flatten().std():.2f}\")\n",
    "    print(\"D'Angostino: statistic = {0:.2f}, p-value = {1:.2e}\".format(*stats.normaltest(weight)))\n",
    "    print(\"Shapiro: statistic = {0:.2f}, p-value = {1:.2e}\".format(*stats.shapiro(np.random.choice(weight, size=min(5000, len(weight)), replace=False))))"
   ]
  }
 ],
 "metadata": {
  "kernelspec": {
   "display_name": "Python 3",
   "language": "python",
   "name": "python3"
  },
  "language_info": {
   "codemirror_mode": {
    "name": "ipython",
    "version": 3
   },
   "file_extension": ".py",
   "mimetype": "text/x-python",
   "name": "python",
   "nbconvert_exporter": "python",
   "pygments_lexer": "ipython3",
   "version": "3.7.6"
  }
 },
 "nbformat": 4,
 "nbformat_minor": 4
}
