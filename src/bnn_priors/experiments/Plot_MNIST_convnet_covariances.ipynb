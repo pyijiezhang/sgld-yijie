{
 "cells": [
  {
   "cell_type": "code",
   "execution_count": 1,
   "metadata": {},
   "outputs": [],
   "source": [
    "import os\n",
    "from glob import glob\n",
    "import pandas as pd\n",
    "import numpy as np\n",
    "from scipy import stats\n",
    "from matplotlib import pyplot as plt\n",
    "from matplotlib.colors import Normalize\n",
    "from matplotlib.backends.backend_pdf import PdfPages\n",
    "from matplotlib import gridspec\n",
    "import json\n",
    "import torch\n",
    "import gpytorch\n",
    "import h5py\n",
    "import collections\n",
    "import scipy\n",
    "import torch\n",
    "import math\n",
    "import seaborn as sns\n",
    "\n",
    "from bnn_priors import prior\n",
    "\n",
    "from bnn_priors.exp_utils import load_samples\n",
    "\n",
    "%matplotlib inline\n",
    "%config InlineBackend.print_figure_kwargs = {'bbox_inches':None}"
   ]
  },
  {
   "cell_type": "code",
   "execution_count": null,
   "metadata": {},
   "outputs": [],
   "source": [
    "mean_covs = pd.read_pickle(\"Plot_MNIST_convnet_covariances_data/mean_covs.pkl.gz\")"
   ]
  },
  {
   "cell_type": "markdown",
   "metadata": {},
   "source": [
    "# Plot Figure 4"
   ]
  },
  {
   "cell_type": "code",
   "execution_count": null,
   "metadata": {},
   "outputs": [],
   "source": [
    "sns.set(context=\"paper\", style=\"white\", font_scale=1.0)\n",
    "plt.rcParams[\"font.sans-serif\"].insert(0, \"DejaVu Sans\")\n",
    "plt.rcParams.update({\n",
    "    \"font.family\": \"sans-serif\",  # use serif/main font for text elements\n",
    "    \"text.usetex\": False,     # use inline math for ticks\n",
    "    \"pgf.rcfonts\": True,     # don't setup fonts from rc parameters\n",
    "    \"font.size\": 10,\n",
    "    \"axes.linewidth\": 0.5,\n",
    "    'ytick.major.width': 0.5,\n",
    "    'ytick.major.size': 0,\n",
    "    'xtick.major.width': 0.5,\n",
    "    'xtick.major.size': 0,\n",
    "    \"figure.dpi\": 300,\n",
    "\n",
    "})\n",
    "\n",
    "fig_width_pt = 234.8775\n",
    "inches_per_pt = 1.0/72.27               # Convert pt to inches\n",
    "fig_width = fig_width_pt*inches_per_pt  # width in inches\n",
    "\n",
    "norm = Normalize(-0.27, 0.27)\n",
    "\n",
    "margins = dict(\n",
    "    left=0.04,\n",
    "    right=0.1,\n",
    "    top=0.08,\n",
    "    bottom=0.05)\n",
    "\n",
    "plots_x = 2\n",
    "wsep = hsep = 0.015\n",
    "w_cov_sep = 0.04\n",
    "cbar_width = 0.03\n",
    "cbar_wsep = 0.01\n",
    "height = width = (1 - w_cov_sep*plots_x - wsep*3*plots_x - cbar_wsep - cbar_width\n",
    "         - margins['left'] - margins['right'])/plots_x / 3\n",
    "ttl_marg=10\n",
    "\n",
    "fig_height_mult = (margins['bottom'] + height*3 + hsep*2 + margins['top'])\n",
    "\n",
    "# make figure rectangular and correct vertical sizes\n",
    "hsep /= fig_height_mult\n",
    "height /= fig_height_mult\n",
    "margins['bottom'] /= fig_height_mult\n",
    "margins['top'] /= fig_height_mult\n",
    "\n",
    "fig = plt.figure(figsize=(fig_width, fig_width *fig_height_mult))\n",
    "\n",
    "\n",
    "\n",
    "cbar_height = height*3 + hsep*2\n",
    "\n",
    "key = \"net.module.1.weight_prior.p\"\n",
    "\n",
    "for y in range(3):\n",
    "    for x in range(3):\n",
    "        bottom = margins['bottom'] + (height + hsep) * (2-y)\n",
    "        left = margins['left'] + (width +wsep) * x\n",
    "        \n",
    "        if x == 0:\n",
    "            yticks = [1, 2, 3]\n",
    "        else:\n",
    "            yticks = []\n",
    "            \n",
    "        if y == 2:\n",
    "            xticks = [1, 2, 3]\n",
    "        else:\n",
    "            xticks = []\n",
    "        ax = fig.add_axes([left, bottom, width, height], xticks=xticks, yticks=yticks)\n",
    "                          #title=f\"cov. w/ ({x + 1}, {y +1})\")\n",
    "        ax.imshow(mean_covs[key][1][y*3+x, :].reshape((3, 3)),\n",
    "                  cmap=plt.get_cmap('RdBu'),\n",
    "                  extent=[0.5, 3.5, 3.5, 0.5], norm=norm)\n",
    "        ax.plot([x+1], [y+1], marker='x', ls='none', color='white', ms=3)\n",
    "        \n",
    "        if y==0 and x==1:\n",
    "            ttl = ax.set_title(\"Layer 1 covariance\", pad=ttl_marg)\n",
    "\n",
    "\n",
    "key = \"net.module.4.weight_prior.p\"\n",
    "\n",
    "for y in range(3):\n",
    "    for x in range(3):\n",
    "        bottom = margins['bottom'] + (height + hsep) * (2-y)\n",
    "        left = margins['left'] + (width+wsep)*3 + w_cov_sep + (width +wsep) * x\n",
    "       \n",
    "        yticks = []\n",
    "            \n",
    "        if y == 2: \n",
    "            xticks = [1, 2, 3]\n",
    "        else:\n",
    "            xticks = []\n",
    "        ax = fig.add_axes([left, bottom, width, height], xticks=xticks, yticks=yticks)\n",
    "                          #title=f\"cov. w/ ({x + 1}, {y +1})\")\n",
    "        mappable = ax.imshow(mean_covs[key][1][y*3+x, :].reshape((3, 3))*64,\n",
    "                  cmap=plt.get_cmap('RdBu'),\n",
    "                  extent=[0.5, 3.5, 3.5, 0.5], norm=norm)\n",
    "        ax.plot([x+1], [y+1], marker='x', ls='none', color='white', markersize=3)\n",
    "        \n",
    "        if y==0 and x==1:\n",
    "            ttl = ax.set_title(\"Layer 2 covariance\", pad=ttl_marg)\n",
    "        \n",
    "cbar_ax = fig.add_axes([margins['left'] + (width+wsep)*3*2 + w_cov_sep + cbar_wsep,\n",
    "                        margins['bottom'], cbar_width, cbar_height])\n",
    "fig.colorbar(mappable, cax=cbar_ax,\n",
    "             ticks=[-0.27, -0.15, 0, 0.15, 0.27])\n",
    "fig.savefig(\"../figures/210126-mnist-covariances-all.pdf\")"
   ]
  },
  {
   "cell_type": "markdown",
   "metadata": {},
   "source": [
    "# Load weights of the MNIST network, that doesn't have batchnorm"
   ]
  },
  {
   "cell_type": "code",
   "execution_count": 4,
   "metadata": {},
   "outputs": [],
   "source": [
    "directories = [*map(str, range(8))]\n",
    "samples = collections.defaultdict(lambda: [], {})\n",
    "param_keys = None\n",
    "\n",
    "for d in directories:\n",
    "    with h5py.File(f\"../logs/sgd-no-weight-decay/mnist_classificationconvnet/{d}/samples.pt\", \"r\") as f:\n",
    "        if param_keys is None:\n",
    "            param_keys = [k for k in f.keys() if k.endswith(\".p\")]\n",
    "            \n",
    "        for key in param_keys:\n",
    "            samples[key].append(f[key][-1])"
   ]
  },
  {
   "cell_type": "code",
   "execution_count": 5,
   "metadata": {},
   "outputs": [],
   "source": [
    "for k in samples.keys():\n",
    "    samples[k] = np.stack(samples[k])"
   ]
  },
  {
   "cell_type": "code",
   "execution_count": 6,
   "metadata": {},
   "outputs": [
    {
     "data": {
      "text/plain": [
       "dict_keys(['net.module.1.bias_prior.p', 'net.module.1.weight_prior.p', 'net.module.4.bias_prior.p', 'net.module.4.weight_prior.p', 'net.module.8.bias_prior.p', 'net.module.8.weight_prior.p'])"
      ]
     },
     "execution_count": 6,
     "metadata": {},
     "output_type": "execute_result"
    }
   ],
   "source": [
    "samples.keys()"
   ]
  },
  {
   "cell_type": "code",
   "execution_count": 7,
   "metadata": {},
   "outputs": [],
   "source": [
    "samples_reshaped = {}\n",
    "mean_covs = {}\n",
    "\n",
    "for k in samples.keys():\n",
    "    if k in [\"net.module.1.weight_prior.p\", \"net.module.4.weight_prior.p\"]:\n",
    "        #if k == \"net.module.8.weight_prior.p\":\n",
    "        #    samples_reshaped[k] = samples[k].transpose((0, 2, 1)).reshape((-1, 10))\n",
    "        #else:\n",
    "        samples_reshaped[k] = samples[k].reshape((-1, 9))\n",
    "        mean_covs[k] = (np.mean(samples_reshaped[k], 0), np.cov(samples_reshaped[k], rowvar=False))\n",
    "    else:\n",
    "        samples_reshaped[k] = samples[k]    \n",
    "        mean_covs[k] = (np.mean(samples[k]), np.var(samples[k]))"
   ]
  },
  {
   "cell_type": "code",
   "execution_count": 8,
   "metadata": {},
   "outputs": [],
   "source": [
    "pd.to_pickle(mean_covs, \"3.4.1_mean_covs.pkl.gz\")"
   ]
  }
 ],
 "metadata": {
  "kernelspec": {
   "display_name": "Python 3",
   "language": "python",
   "name": "python3"
  },
  "language_info": {
   "codemirror_mode": {
    "name": "ipython",
    "version": 3
   },
   "file_extension": ".py",
   "mimetype": "text/x-python",
   "name": "python",
   "nbconvert_exporter": "python",
   "pygments_lexer": "ipython3",
   "version": "3.7.6"
  }
 },
 "nbformat": 4,
 "nbformat_minor": 4
}
